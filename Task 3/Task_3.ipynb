{
 "cells": [
  {
   "cell_type": "markdown",
   "metadata": {},
   "source": [
    "# Задание 3.\n",
    "\n",
    "Загрузите [данные по изменению температуры поверхности земли](https://www.kaggle.com/datasets/berkeleyearth/climate-change-earth-surface-temperature-data). Для этого может понадобится зарегистрироваться на [Kaggle](https://kaggle.com). Затем нужно будет работать с данными, которые содержатся в файле **GlobalLandTemperaturesByMajorCity.csv**"
   ]
  },
  {
   "cell_type": "code",
   "execution_count": 259,
   "metadata": {},
   "outputs": [],
   "source": [
    "import numpy as np\n",
    "import pandas as pd\n",
    "import matplotlib.pyplot as plt \n",
    "import zipfile\n",
    "\n",
    "%matplotlib inline\n",
    "\n",
    "with zipfile.ZipFile(\"archive.zip\") as z:\n",
    "    with z.open(\"GlobalLandTemperaturesByMajorCity.csv\") as f:\n",
    "        df = pd.read_csv(f, parse_dates=[\"dt\"])\n"
   ]
  },
  {
   "cell_type": "markdown",
   "metadata": {},
   "source": [
    "# Задание 3.1 (1 балл)\n",
    "\n",
    "В последующих заданиях будут учитываться данные начиная с 01.01.1950. Для этого создайте новый `DataFrame`, в котором удалены все строки до 01.01.1950. Используйте созданный DataFrame в последующих заданиях.  "
   ]
  },
  {
   "cell_type": "code",
   "execution_count": 260,
   "metadata": {},
   "outputs": [
    {
     "data": {
      "text/html": [
       "<div>\n",
       "<style scoped>\n",
       "    .dataframe tbody tr th:only-of-type {\n",
       "        vertical-align: middle;\n",
       "    }\n",
       "\n",
       "    .dataframe tbody tr th {\n",
       "        vertical-align: top;\n",
       "    }\n",
       "\n",
       "    .dataframe thead th {\n",
       "        text-align: right;\n",
       "    }\n",
       "</style>\n",
       "<table border=\"1\" class=\"dataframe\">\n",
       "  <thead>\n",
       "    <tr style=\"text-align: right;\">\n",
       "      <th></th>\n",
       "      <th>dt</th>\n",
       "      <th>AverageTemperature</th>\n",
       "      <th>AverageTemperatureUncertainty</th>\n",
       "      <th>City</th>\n",
       "      <th>Country</th>\n",
       "      <th>Latitude</th>\n",
       "      <th>Longitude</th>\n",
       "    </tr>\n",
       "  </thead>\n",
       "  <tbody>\n",
       "    <tr>\n",
       "      <th>1212</th>\n",
       "      <td>1950-01-01</td>\n",
       "      <td>26.773</td>\n",
       "      <td>0.239</td>\n",
       "      <td>Abidjan</td>\n",
       "      <td>Côte D'Ivoire</td>\n",
       "      <td>5.63N</td>\n",
       "      <td>3.23W</td>\n",
       "    </tr>\n",
       "    <tr>\n",
       "      <th>1213</th>\n",
       "      <td>1950-02-01</td>\n",
       "      <td>27.527</td>\n",
       "      <td>0.348</td>\n",
       "      <td>Abidjan</td>\n",
       "      <td>Côte D'Ivoire</td>\n",
       "      <td>5.63N</td>\n",
       "      <td>3.23W</td>\n",
       "    </tr>\n",
       "    <tr>\n",
       "      <th>1214</th>\n",
       "      <td>1950-03-01</td>\n",
       "      <td>28.344</td>\n",
       "      <td>0.431</td>\n",
       "      <td>Abidjan</td>\n",
       "      <td>Côte D'Ivoire</td>\n",
       "      <td>5.63N</td>\n",
       "      <td>3.23W</td>\n",
       "    </tr>\n",
       "    <tr>\n",
       "      <th>1215</th>\n",
       "      <td>1950-04-01</td>\n",
       "      <td>27.830</td>\n",
       "      <td>0.467</td>\n",
       "      <td>Abidjan</td>\n",
       "      <td>Côte D'Ivoire</td>\n",
       "      <td>5.63N</td>\n",
       "      <td>3.23W</td>\n",
       "    </tr>\n",
       "    <tr>\n",
       "      <th>1216</th>\n",
       "      <td>1950-05-01</td>\n",
       "      <td>26.896</td>\n",
       "      <td>0.248</td>\n",
       "      <td>Abidjan</td>\n",
       "      <td>Côte D'Ivoire</td>\n",
       "      <td>5.63N</td>\n",
       "      <td>3.23W</td>\n",
       "    </tr>\n",
       "    <tr>\n",
       "      <th>...</th>\n",
       "      <td>...</td>\n",
       "      <td>...</td>\n",
       "      <td>...</td>\n",
       "      <td>...</td>\n",
       "      <td>...</td>\n",
       "      <td>...</td>\n",
       "      <td>...</td>\n",
       "    </tr>\n",
       "    <tr>\n",
       "      <th>239172</th>\n",
       "      <td>2013-05-01</td>\n",
       "      <td>18.979</td>\n",
       "      <td>0.807</td>\n",
       "      <td>Xian</td>\n",
       "      <td>China</td>\n",
       "      <td>34.56N</td>\n",
       "      <td>108.97E</td>\n",
       "    </tr>\n",
       "    <tr>\n",
       "      <th>239173</th>\n",
       "      <td>2013-06-01</td>\n",
       "      <td>23.522</td>\n",
       "      <td>0.647</td>\n",
       "      <td>Xian</td>\n",
       "      <td>China</td>\n",
       "      <td>34.56N</td>\n",
       "      <td>108.97E</td>\n",
       "    </tr>\n",
       "    <tr>\n",
       "      <th>239174</th>\n",
       "      <td>2013-07-01</td>\n",
       "      <td>25.251</td>\n",
       "      <td>1.042</td>\n",
       "      <td>Xian</td>\n",
       "      <td>China</td>\n",
       "      <td>34.56N</td>\n",
       "      <td>108.97E</td>\n",
       "    </tr>\n",
       "    <tr>\n",
       "      <th>239175</th>\n",
       "      <td>2013-08-01</td>\n",
       "      <td>24.528</td>\n",
       "      <td>0.840</td>\n",
       "      <td>Xian</td>\n",
       "      <td>China</td>\n",
       "      <td>34.56N</td>\n",
       "      <td>108.97E</td>\n",
       "    </tr>\n",
       "    <tr>\n",
       "      <th>239176</th>\n",
       "      <td>2013-09-01</td>\n",
       "      <td>NaN</td>\n",
       "      <td>NaN</td>\n",
       "      <td>Xian</td>\n",
       "      <td>China</td>\n",
       "      <td>34.56N</td>\n",
       "      <td>108.97E</td>\n",
       "    </tr>\n",
       "  </tbody>\n",
       "</table>\n",
       "<p>76500 rows × 7 columns</p>\n",
       "</div>"
      ],
      "text/plain": [
       "               dt  AverageTemperature  AverageTemperatureUncertainty     City  \\\n",
       "1212   1950-01-01              26.773                          0.239  Abidjan   \n",
       "1213   1950-02-01              27.527                          0.348  Abidjan   \n",
       "1214   1950-03-01              28.344                          0.431  Abidjan   \n",
       "1215   1950-04-01              27.830                          0.467  Abidjan   \n",
       "1216   1950-05-01              26.896                          0.248  Abidjan   \n",
       "...           ...                 ...                            ...      ...   \n",
       "239172 2013-05-01              18.979                          0.807     Xian   \n",
       "239173 2013-06-01              23.522                          0.647     Xian   \n",
       "239174 2013-07-01              25.251                          1.042     Xian   \n",
       "239175 2013-08-01              24.528                          0.840     Xian   \n",
       "239176 2013-09-01                 NaN                            NaN     Xian   \n",
       "\n",
       "              Country Latitude Longitude  \n",
       "1212    Côte D'Ivoire    5.63N     3.23W  \n",
       "1213    Côte D'Ivoire    5.63N     3.23W  \n",
       "1214    Côte D'Ivoire    5.63N     3.23W  \n",
       "1215    Côte D'Ivoire    5.63N     3.23W  \n",
       "1216    Côte D'Ivoire    5.63N     3.23W  \n",
       "...               ...      ...       ...  \n",
       "239172          China   34.56N   108.97E  \n",
       "239173          China   34.56N   108.97E  \n",
       "239174          China   34.56N   108.97E  \n",
       "239175          China   34.56N   108.97E  \n",
       "239176          China   34.56N   108.97E  \n",
       "\n",
       "[76500 rows x 7 columns]"
      ]
     },
     "execution_count": 260,
     "metadata": {},
     "output_type": "execute_result"
    }
   ],
   "source": [
    "df_mini = df[df.dt >= '1950-01-01']\n",
    "df_mini"
   ]
  },
  {
   "cell_type": "markdown",
   "metadata": {},
   "source": [
    "# Задание 3.2 (2 балла)\n",
    "\n",
    "Постройте график среднегодовых температур в городе Торонто."
   ]
  },
  {
   "cell_type": "code",
   "execution_count": 261,
   "metadata": {},
   "outputs": [
    {
     "name": "stderr",
     "output_type": "stream",
     "text": [
      "C:\\Users\\admin\\AppData\\Local\\Temp\\ipykernel_109768\\1050743481.py:2: FutureWarning:\n",
      "\n",
      "The default value of numeric_only in DataFrameGroupBy.mean is deprecated. In a future version, numeric_only will default to False. Either specify numeric_only or select only columns which should be valid for the function.\n",
      "\n"
     ]
    },
    {
     "data": {
      "text/html": [
       "<div>\n",
       "<style scoped>\n",
       "    .dataframe tbody tr th:only-of-type {\n",
       "        vertical-align: middle;\n",
       "    }\n",
       "\n",
       "    .dataframe tbody tr th {\n",
       "        vertical-align: top;\n",
       "    }\n",
       "\n",
       "    .dataframe thead th {\n",
       "        text-align: right;\n",
       "    }\n",
       "</style>\n",
       "<table border=\"1\" class=\"dataframe\">\n",
       "  <thead>\n",
       "    <tr style=\"text-align: right;\">\n",
       "      <th></th>\n",
       "      <th>dt</th>\n",
       "      <th>AverageTemperature</th>\n",
       "      <th>AverageTemperatureUncertainty</th>\n",
       "    </tr>\n",
       "  </thead>\n",
       "  <tbody>\n",
       "    <tr>\n",
       "      <th>0</th>\n",
       "      <td>1950-12-31</td>\n",
       "      <td>5.639583</td>\n",
       "      <td>0.235167</td>\n",
       "    </tr>\n",
       "    <tr>\n",
       "      <th>1</th>\n",
       "      <td>1951-12-31</td>\n",
       "      <td>6.259083</td>\n",
       "      <td>0.313250</td>\n",
       "    </tr>\n",
       "    <tr>\n",
       "      <th>2</th>\n",
       "      <td>1952-12-31</td>\n",
       "      <td>7.013417</td>\n",
       "      <td>0.231333</td>\n",
       "    </tr>\n",
       "    <tr>\n",
       "      <th>3</th>\n",
       "      <td>1953-12-31</td>\n",
       "      <td>7.506250</td>\n",
       "      <td>0.205583</td>\n",
       "    </tr>\n",
       "    <tr>\n",
       "      <th>4</th>\n",
       "      <td>1954-12-31</td>\n",
       "      <td>6.243083</td>\n",
       "      <td>0.275083</td>\n",
       "    </tr>\n",
       "  </tbody>\n",
       "</table>\n",
       "</div>"
      ],
      "text/plain": [
       "          dt  AverageTemperature  AverageTemperatureUncertainty\n",
       "0 1950-12-31            5.639583                       0.235167\n",
       "1 1951-12-31            6.259083                       0.313250\n",
       "2 1952-12-31            7.013417                       0.231333\n",
       "3 1953-12-31            7.506250                       0.205583\n",
       "4 1954-12-31            6.243083                       0.275083"
      ]
     },
     "execution_count": 261,
     "metadata": {},
     "output_type": "execute_result"
    }
   ],
   "source": [
    "df_toronto_yearly_mean = df_mini[df_mini.City == 'Toronto'].groupby((pd.Grouper(key='dt', axis=0, \n",
    "                      freq='Y'))).mean()\n",
    "df_toronto_yearly_mean = df_toronto_yearly_mean.reset_index()\n",
    "df_toronto_yearly_mean.head()\n"
   ]
  },
  {
   "cell_type": "code",
   "execution_count": 262,
   "metadata": {},
   "outputs": [
    {
     "data": {
      "text/plain": [
       "<AxesSubplot: xlabel='dt'>"
      ]
     },
     "execution_count": 262,
     "metadata": {},
     "output_type": "execute_result"
    },
    {
     "data": {
      "image/png": "[encoded data removed]",
      "text/plain": [
       "<Figure size 640x480 with 1 Axes>"
      ]
     },
     "metadata": {},
     "output_type": "display_data"
    }
   ],
   "source": [
    "df_toronto_yearly_mean.plot(x=\"dt\", y=\"AverageTemperature\")"
   ]
  },
  {
   "attachments": {},
   "cell_type": "markdown",
   "metadata": {},
   "source": [
    "# Задание 3.3 (2 балла)\n",
    "\n",
    "Найдите город, для которого выборочная дисперсия температур на приведенных данных максимальна. "
   ]
  },
  {
   "cell_type": "code",
   "execution_count": 263,
   "metadata": {},
   "outputs": [
    {
     "data": {
      "text/html": [
       "<div>\n",
       "<style scoped>\n",
       "    .dataframe tbody tr th:only-of-type {\n",
       "        vertical-align: middle;\n",
       "    }\n",
       "\n",
       "    .dataframe tbody tr th {\n",
       "        vertical-align: top;\n",
       "    }\n",
       "\n",
       "    .dataframe thead th {\n",
       "        text-align: right;\n",
       "    }\n",
       "</style>\n",
       "<table border=\"1\" class=\"dataframe\">\n",
       "  <thead>\n",
       "    <tr style=\"text-align: right;\">\n",
       "      <th></th>\n",
       "      <th>City</th>\n",
       "      <th>VarTemperature</th>\n",
       "    </tr>\n",
       "  </thead>\n",
       "  <tbody>\n",
       "    <tr>\n",
       "      <th>34</th>\n",
       "      <td>Harbin</td>\n",
       "      <td>218.898616</td>\n",
       "    </tr>\n",
       "  </tbody>\n",
       "</table>\n",
       "</div>"
      ],
      "text/plain": [
       "      City  VarTemperature\n",
       "34  Harbin      218.898616"
      ]
     },
     "execution_count": 263,
     "metadata": {},
     "output_type": "execute_result"
    }
   ],
   "source": [
    "df_mini_Var = df_mini.groupby([\"City\"]).AverageTemperature.var().reset_index()\n",
    "df_mini_Var = df_mini_Var.rename(columns = {\"AverageTemperature\":\"VarTemperature\"})\n",
    "df_mini_Var[df_mini_Var.VarTemperature==max(df_mini_Var.VarTemperature)]"
   ]
  },
  {
   "cell_type": "markdown",
   "metadata": {},
   "source": [
    "# Задание 3.4 (4 балла)\n",
    "\n",
    "На одной оси постройте графики, отображающие:\n",
    "1. Зависимость выборочной дисперсии температур от широты города (Latitude).\n",
    "2. Зависимость средней температуры в январе 1975 года от широты города (Latitude).\n",
    "3. Зависимость средней температуры в июле 1975 года от широты города (Latitude)."
   ]
  },
  {
   "cell_type": "code",
   "execution_count": 264,
   "metadata": {},
   "outputs": [
    {
     "data": {
      "text/html": [
       "<div>\n",
       "<style scoped>\n",
       "    .dataframe tbody tr th:only-of-type {\n",
       "        vertical-align: middle;\n",
       "    }\n",
       "\n",
       "    .dataframe tbody tr th {\n",
       "        vertical-align: top;\n",
       "    }\n",
       "\n",
       "    .dataframe thead th {\n",
       "        text-align: right;\n",
       "    }\n",
       "</style>\n",
       "<table border=\"1\" class=\"dataframe\">\n",
       "  <thead>\n",
       "    <tr style=\"text-align: right;\">\n",
       "      <th></th>\n",
       "      <th>dt</th>\n",
       "      <th>AverageTemperature</th>\n",
       "      <th>AverageTemperatureUncertainty</th>\n",
       "      <th>City</th>\n",
       "      <th>Country</th>\n",
       "      <th>Latitude</th>\n",
       "      <th>Longitude</th>\n",
       "      <th>VarTemperature</th>\n",
       "    </tr>\n",
       "  </thead>\n",
       "  <tbody>\n",
       "    <tr>\n",
       "      <th>0</th>\n",
       "      <td>1950-01-01</td>\n",
       "      <td>26.773</td>\n",
       "      <td>0.239</td>\n",
       "      <td>Abidjan</td>\n",
       "      <td>Côte D'Ivoire</td>\n",
       "      <td>5.63N</td>\n",
       "      <td>3.23W</td>\n",
       "      <td>1.872387</td>\n",
       "    </tr>\n",
       "    <tr>\n",
       "      <th>1</th>\n",
       "      <td>1950-02-01</td>\n",
       "      <td>27.527</td>\n",
       "      <td>0.348</td>\n",
       "      <td>Abidjan</td>\n",
       "      <td>Côte D'Ivoire</td>\n",
       "      <td>5.63N</td>\n",
       "      <td>3.23W</td>\n",
       "      <td>1.872387</td>\n",
       "    </tr>\n",
       "    <tr>\n",
       "      <th>2</th>\n",
       "      <td>1950-03-01</td>\n",
       "      <td>28.344</td>\n",
       "      <td>0.431</td>\n",
       "      <td>Abidjan</td>\n",
       "      <td>Côte D'Ivoire</td>\n",
       "      <td>5.63N</td>\n",
       "      <td>3.23W</td>\n",
       "      <td>1.872387</td>\n",
       "    </tr>\n",
       "    <tr>\n",
       "      <th>3</th>\n",
       "      <td>1950-04-01</td>\n",
       "      <td>27.830</td>\n",
       "      <td>0.467</td>\n",
       "      <td>Abidjan</td>\n",
       "      <td>Côte D'Ivoire</td>\n",
       "      <td>5.63N</td>\n",
       "      <td>3.23W</td>\n",
       "      <td>1.872387</td>\n",
       "    </tr>\n",
       "    <tr>\n",
       "      <th>4</th>\n",
       "      <td>1950-05-01</td>\n",
       "      <td>26.896</td>\n",
       "      <td>0.248</td>\n",
       "      <td>Abidjan</td>\n",
       "      <td>Côte D'Ivoire</td>\n",
       "      <td>5.63N</td>\n",
       "      <td>3.23W</td>\n",
       "      <td>1.872387</td>\n",
       "    </tr>\n",
       "  </tbody>\n",
       "</table>\n",
       "</div>"
      ],
      "text/plain": [
       "          dt  AverageTemperature  AverageTemperatureUncertainty     City  \\\n",
       "0 1950-01-01              26.773                          0.239  Abidjan   \n",
       "1 1950-02-01              27.527                          0.348  Abidjan   \n",
       "2 1950-03-01              28.344                          0.431  Abidjan   \n",
       "3 1950-04-01              27.830                          0.467  Abidjan   \n",
       "4 1950-05-01              26.896                          0.248  Abidjan   \n",
       "\n",
       "         Country Latitude Longitude  VarTemperature  \n",
       "0  Côte D'Ivoire    5.63N     3.23W        1.872387  \n",
       "1  Côte D'Ivoire    5.63N     3.23W        1.872387  \n",
       "2  Côte D'Ivoire    5.63N     3.23W        1.872387  \n",
       "3  Côte D'Ivoire    5.63N     3.23W        1.872387  \n",
       "4  Côte D'Ivoire    5.63N     3.23W        1.872387  "
      ]
     },
     "execution_count": 264,
     "metadata": {},
     "output_type": "execute_result"
    }
   ],
   "source": [
    "df_mini = pd.merge(df_mini, df_mini_Var, on=\"City\", how=\"left\")\n",
    "df_mini.head()"
   ]
  },
  {
   "cell_type": "code",
   "execution_count": null,
   "metadata": {},
   "outputs": [],
   "source": [
    "df_mini[\"Longitude\"][df_mini[\"Longitude\"].str.contains('E', case=True)] = df_mini.Longitude[df_mini[\"Longitude\"].str.contains(\"E\", case=True)].str.replace(\"E\",\" \").astype(float)\n",
    "df_mini[\"Longitude\"][df_mini[\"Longitude\"].str.contains('W', case=True, na=False)] = df_mini.Longitude[df_mini[\"Longitude\"].str.contains(\"W\", case=True, na=False)].str.replace(\"W\",\" \").astype(float)*(-1)\n",
    "df_mini[\"Latitude\"][df_mini[\"Latitude\"].str.contains('N', case=True)] = df_mini.Latitude[df_mini[\"Latitude\"].str.contains('N', case=True)].str.replace(\"N\",\" \").astype(float)\n",
    "df_mini[\"Latitude\"][df_mini[\"Latitude\"].str.contains('S', case=True,na=False)] = df_mini.Latitude[df_mini[\"Latitude\"].str.contains('S', case=True, na=False)].str.replace(\"S\",\" \").astype(float)*(-1)\n",
    "df_mini.head()"
   ]
  },
  {
   "cell_type": "code",
   "execution_count": 266,
   "metadata": {},
   "outputs": [
    {
     "data": {
      "image/png": "[encoded data removed]",
      "text/plain": [
       "<Figure size 2000x2000 with 1 Axes>"
      ]
     },
     "metadata": {},
     "output_type": "display_data"
    }
   ],
   "source": [
    "# 1) Северная широта обозначена в положительных значениях по оси Ox, а южная в отрицательных\n",
    "plt.figure(figsize=(20, 20))\n",
    "plt.scatter(df_mini.Latitude, df_mini.VarTemperature, label=\"VarTemperature:Latitude\")\n",
    "\n",
    "# 2) \n",
    "plt.scatter(df_mini.Latitude[df_mini[\"dt\"] == \"1975-01-01\"], df_mini.AverageTemperature[df_mini[\"dt\"] == \"1975-01-01\"], label=\"AverageTemperature:Latitude (1975 January)\")\n",
    "\n",
    "# 3)\n",
    "plt.scatter(df_mini.Latitude[df_mini[\"dt\"] == \"1975-07-01\"], df_mini.AverageTemperature[df_mini[\"dt\"] == \"1975-07-01\"], label=\"AverageTemperature:Latitude (1975 July)\")\n",
    "plt.legend()\n",
    "plt.show()"
   ]
  },
  {
   "cell_type": "markdown",
   "metadata": {},
   "source": [
    "# Задание 3.5 (6 баллов)\n",
    "\n",
    "Посчитайте данные по среднегодовой температуре в Санкт-Петербурге. Определите года, в которых средняя температура была выше, чем в предыдущем  и последующем году. Постройте график среднегодовой температуры и обозначьте на нём найденные года (произвольным образом). \n",
    "\n",
    "Постройте модель линейной регрессии (можно использовать [LinearRegression](https://scikit-learn.org/stable/modules/generated/sklearn.linear_model.LinearRegression.html)): $\\mathbb{год} \\rightarrow \\mathbb{средняя\\_температура}$. Отобразите прямую на предыдущем графике. "
   ]
  },
  {
   "cell_type": "code",
   "execution_count": 275,
   "metadata": {},
   "outputs": [],
   "source": [
    "def calculate_slope(x, y):\n",
    "    mx = x - x.mean()\n",
    "    my = y - y.mean()\n",
    "    return sum(mx * my) / sum(mx**2)\n",
    "\n",
    "def get_params(x, y):    \n",
    "    a = calculate_slope(x, y)\n",
    "    b = y.mean() - a * x.mean()\n",
    "    return a, b"
   ]
  },
  {
   "cell_type": "code",
   "execution_count": 276,
   "metadata": {},
   "outputs": [
    {
     "name": "stdout",
     "output_type": "stream",
     "text": [
      "Years:  [1953 1957 1959 1961 1964 1967 1972 1975 1977 1979 1983 1986 1989 1992\n",
      " 1995 1997 2000 2002 2005 2008 2011]\n"
     ]
    },
    {
     "data": {
      "image/png": "[encoded data removed]",
      "text/plain": [
       "<Figure size 640x480 with 1 Axes>"
      ]
     },
     "metadata": {},
     "output_type": "display_data"
    }
   ],
   "source": [
    "df_peter_yearly_mean = df_mini[df_mini.City == 'Saint Petersburg'].groupby((pd.Grouper(key='dt', axis=0, \n",
    "                      freq='Y')))[\"AverageTemperature\"].mean()\n",
    "df_peter_yearly_mean = df_peter_yearly_mean.reset_index()\n",
    "plt.plot(df_peter_yearly_mean[\"dt\"], df_peter_yearly_mean[\"AverageTemperature\"], label='Average temperature')\n",
    "df_peter_yearly_mean_special = df_peter_yearly_mean\n",
    "df_peter_yearly_mean_special[\"previous\"] = df_peter_yearly_mean[\"AverageTemperature\"].diff(1)\n",
    "df_peter_yearly_mean_special[\"next\"] = df_peter_yearly_mean[\"AverageTemperature\"].diff(-1)\n",
    "\n",
    "df_peter_yearly_mean_special.head()\n",
    "x = df_peter_yearly_mean_special.dt[(df_peter_yearly_mean_special.next>0) & (df_peter_yearly_mean_special.previous>0)]\n",
    "y = df_peter_yearly_mean_special.AverageTemperature[(df_peter_yearly_mean_special.next>0) & (df_peter_yearly_mean_special.previous>0)]\n",
    "\n",
    "x_lin = pd.Series(pd.DatetimeIndex(df_peter_yearly_mean[\"dt\"]).year.tolist())\n",
    "y_lin = df_peter_yearly_mean.AverageTemperature\n",
    "a, b = get_params(x_lin, y_lin)\n",
    "lin_reg = a*x_lin + b\n",
    "\n",
    "print(\"Years: \", pd.DatetimeIndex(x).year.values)\n",
    "plt.plot(x, y, 'o')\n",
    "plt.plot(df_peter_yearly_mean[\"dt\"], lin_reg, color='red', label='regresion')\n",
    "plt.legend()\n",
    "plt.show()"
   ]
  },
  {
   "attachments": {},
   "cell_type": "markdown",
   "metadata": {},
   "source": [
    "# Задание 3.6 (4 балла)\n",
    "\n",
    "Найдите города, для которых: \n",
    "1. Разница между максимальным и минимальным значением среднегодовой температуры в выборке максимальна.\n",
    "2. Самая большая средняя разница между средней температурой января и средней температурой июля.\n",
    "3. Наибольшее среднее значение месяцев с отрицательной температурой в году."
   ]
  },
  {
   "cell_type": "code",
   "execution_count": 289,
   "metadata": {},
   "outputs": [
    {
     "data": {
      "text/html": [
       "<div>\n",
       "<style scoped>\n",
       "    .dataframe tbody tr th:only-of-type {\n",
       "        vertical-align: middle;\n",
       "    }\n",
       "\n",
       "    .dataframe tbody tr th {\n",
       "        vertical-align: top;\n",
       "    }\n",
       "\n",
       "    .dataframe thead th {\n",
       "        text-align: right;\n",
       "    }\n",
       "</style>\n",
       "<table border=\"1\" class=\"dataframe\">\n",
       "  <thead>\n",
       "    <tr style=\"text-align: right;\">\n",
       "      <th></th>\n",
       "      <th>City</th>\n",
       "      <th>min</th>\n",
       "      <th>max</th>\n",
       "    </tr>\n",
       "  </thead>\n",
       "  <tbody>\n",
       "    <tr>\n",
       "      <th>60</th>\n",
       "      <td>Mashhad</td>\n",
       "      <td>NaN</td>\n",
       "      <td>5.25</td>\n",
       "    </tr>\n",
       "  </tbody>\n",
       "</table>\n",
       "</div>"
      ],
      "text/plain": [
       "       City  min   max\n",
       "60  Mashhad  NaN  5.25"
      ]
     },
     "execution_count": 289,
     "metadata": {},
     "output_type": "execute_result"
    }
   ],
   "source": [
    "# 1 Разница между максимальным и минимальным значением среднегодовой температуры в выборке максимальна\n",
    "df_mini_yearly = df_mini.groupby([\"City\", pd.Grouper(key='dt', axis=0, freq='Y')])[\"AverageTemperature\"].mean().reset_index()\n",
    "df_mini_yearly_maxOfDiff = df_mini_yearly.groupby([\"City\"])[\"AverageTemperature\"].agg(['min', 'max']).diff(axis=1).reset_index() \n",
    "df_mini_yearly_maxOfDiff[df_mini_yearly_maxOfDiff[\"max\"] == df_mini_yearly_maxOfDiff[\"max\"].max()]"
   ]
  },
  {
   "cell_type": "code",
   "execution_count": 279,
   "metadata": {},
   "outputs": [
    {
     "name": "stderr",
     "output_type": "stream",
     "text": [
      "C:\\Users\\admin\\AppData\\Local\\Temp\\ipykernel_109768\\2202322701.py:4: SettingWithCopyWarning:\n",
      "\n",
      "\n",
      "A value is trying to be set on a copy of a slice from a DataFrame.\n",
      "Try using .loc[row_indexer,col_indexer] = value instead\n",
      "\n",
      "See the caveats in the documentation: https://pandas.pydata.org/pandas-docs/stable/user_guide/indexing.html#returning-a-view-versus-a-copy\n",
      "\n"
     ]
    },
    {
     "data": {
      "text/html": [
       "<div>\n",
       "<style scoped>\n",
       "    .dataframe tbody tr th:only-of-type {\n",
       "        vertical-align: middle;\n",
       "    }\n",
       "\n",
       "    .dataframe tbody tr th {\n",
       "        vertical-align: top;\n",
       "    }\n",
       "\n",
       "    .dataframe thead th {\n",
       "        text-align: right;\n",
       "    }\n",
       "</style>\n",
       "<table border=\"1\" class=\"dataframe\">\n",
       "  <thead>\n",
       "    <tr style=\"text-align: right;\">\n",
       "      <th></th>\n",
       "      <th>City</th>\n",
       "      <th>diff</th>\n",
       "    </tr>\n",
       "  </thead>\n",
       "  <tbody>\n",
       "    <tr>\n",
       "      <th>34</th>\n",
       "      <td>Harbin</td>\n",
       "      <td>41.992719</td>\n",
       "    </tr>\n",
       "  </tbody>\n",
       "</table>\n",
       "</div>"
      ],
      "text/plain": [
       "      City       diff\n",
       "34  Harbin  41.992719"
      ]
     },
     "execution_count": 279,
     "metadata": {},
     "output_type": "execute_result"
    }
   ],
   "source": [
    "# 2 Самая большая средняя разница между средней температурой января и средней температурой июля\n",
    "\n",
    "df_mini_JaJu = df_mini[(pd.DatetimeIndex(df_mini['dt']).month == 1) | (pd.DatetimeIndex(df_mini['dt']).month == 7)]\n",
    "df_mini_JaJu[\"diff\"] = df_mini_JaJu.AverageTemperature.diff()\n",
    "df_mini_JaJu = df_mini_JaJu[pd.DatetimeIndex(df_mini_JaJu['dt']).month == 7]\n",
    "df_mini_JaJu.loc[\"diff\"]=df_mini_JaJu[\"diff\"].abs()\n",
    "df_mini_JaJu_AvDiff = df_mini_JaJu.groupby([\"City\"])[\"diff\"].mean().reset_index()\n",
    "df_mini_JaJu_AvDiff[df_mini_JaJu_AvDiff[\"diff\"]==df_mini_JaJu_AvDiff[\"diff\"].max()]\n"
   ]
  },
  {
   "cell_type": "code",
   "execution_count": 290,
   "metadata": {},
   "outputs": [
    {
     "data": {
      "text/html": [
       "<div>\n",
       "<style scoped>\n",
       "    .dataframe tbody tr th:only-of-type {\n",
       "        vertical-align: middle;\n",
       "    }\n",
       "\n",
       "    .dataframe tbody tr th {\n",
       "        vertical-align: top;\n",
       "    }\n",
       "\n",
       "    .dataframe thead th {\n",
       "        text-align: right;\n",
       "    }\n",
       "</style>\n",
       "<table border=\"1\" class=\"dataframe\">\n",
       "  <thead>\n",
       "    <tr style=\"text-align: right;\">\n",
       "      <th></th>\n",
       "      <th>City</th>\n",
       "      <th>AverageTemperature</th>\n",
       "    </tr>\n",
       "  </thead>\n",
       "  <tbody>\n",
       "    <tr>\n",
       "      <th>6</th>\n",
       "      <td>Harbin</td>\n",
       "      <td>4.90625</td>\n",
       "    </tr>\n",
       "  </tbody>\n",
       "</table>\n",
       "</div>"
      ],
      "text/plain": [
       "     City  AverageTemperature\n",
       "6  Harbin             4.90625"
      ]
     },
     "execution_count": 290,
     "metadata": {},
     "output_type": "execute_result"
    }
   ],
   "source": [
    "#3 Наибольшее среднее значение месяцев с отрицательной температурой в году\n",
    "\n",
    "df_mini_neg = df_mini[df_mini.AverageTemperature < 0].groupby([\"City\", pd.Grouper(key='dt', axis=0, freq='Y')])[\"AverageTemperature\"].count().reset_index()\n",
    "df_mini_neg = df_mini_neg.groupby([\"City\"])[\"AverageTemperature\"].mean().reset_index()\n",
    "df_mini_neg[df_mini_neg.AverageTemperature==df_mini_neg.AverageTemperature.max()]"
   ]
  },
  {
   "cell_type": "markdown",
   "metadata": {},
   "source": [
    "# Задание 3.7 (3 балла)\n",
    "\n",
    "Отобразите города на карте, например с помощью [geopandas/folium](https://geopandas.org/en/stable/gallery/plotting_with_folium.html) или [plotly](https://plotly.com/python-api-reference/generated/plotly.express.scatter_geo.html). Причем цвет метки должен соответствовать средней температуре в январе за последние 10 лет. \n",
    "\n",
    "\n",
    "**\\***(+3 балла). Вычислите прямую с \"трендом\" по изменению температуры в каждом городе в период 1950-2013 (можно с помощью линейной регрессии, как в задании **3.5**). Отобразите города цветом, который зависит от угла наклона этой прямой. \n",
    "\n",
    "\n",
    "**\\***(+1 балл) Используйте библиотеку [pwlf](https://pypi.org/project/pwlf/) с фиксированным числом сегментов и угол наклона последнего сегмента. "
   ]
  },
  {
   "cell_type": "code",
   "execution_count": 291,
   "metadata": {},
   "outputs": [
    {
     "name": "stdout",
     "output_type": "stream",
     "text": [
      "Collecting pwlfNote: you may need to restart the kernel to use updated packages.\n"
     ]
    },
    {
     "name": "stderr",
     "output_type": "stream",
     "text": [
      "\n",
      "[notice] A new release of pip available: 22.2.2 -> 22.3.1\n",
      "[notice] To update, run: python.exe -m pip install --upgrade pip\n"
     ]
    },
    {
     "name": "stdout",
     "output_type": "stream",
     "text": [
      "\n",
      "  Downloading pwlf-2.2.1.tar.gz (17 kB)\n",
      "  Preparing metadata (setup.py): started\n",
      "  Preparing metadata (setup.py): finished with status 'done'\n",
      "Requirement already satisfied: numpy>=1.14.0 in c:\\users\\admin\\appdata\\local\\programs\\python\\python310\\lib\\site-packages (from pwlf) (1.23.4)\n",
      "Requirement already satisfied: scipy>=1.2.0 in c:\\users\\admin\\appdata\\local\\programs\\python\\python310\\lib\\site-packages (from pwlf) (1.9.2)\n",
      "Collecting pyDOE>=0.3.8\n",
      "  Downloading pyDOE-0.3.8.zip (22 kB)\n",
      "  Preparing metadata (setup.py): started\n",
      "  Preparing metadata (setup.py): finished with status 'done'\n",
      "Using legacy 'setup.py install' for pwlf, since package 'wheel' is not installed.\n",
      "Using legacy 'setup.py install' for pyDOE, since package 'wheel' is not installed.\n",
      "Installing collected packages: pyDOE, pwlf\n",
      "  Running setup.py install for pyDOE: started\n",
      "  Running setup.py install for pyDOE: finished with status 'done'\n",
      "  Running setup.py install for pwlf: started\n",
      "  Running setup.py install for pwlf: finished with status 'done'\n",
      "Successfully installed pwlf-2.2.1 pyDOE-0.3.8\n"
     ]
    }
   ],
   "source": [
    "%pip install pwlf"
   ]
  },
  {
   "cell_type": "code",
   "execution_count": 272,
   "metadata": {},
   "outputs": [
    {
     "data": {
      "application/vnd.plotly.v1+json": {
       "config": {
        "plotlyServerURL": "https://plot.ly"
       },
       "data": [
        {
         "geo": "geo",
         "hovertemplate": "<b>%{hovertext}</b><br><br>Latitude=%{lat}<br>Longitude=%{lon}<br>AverageTemperature=%{marker.color}<extra></extra>",
         "hovertext": [
          "Abidjan",
          "Addis Abeba",
          "Ahmadabad",
          "Aleppo",
          "Alexandria",
          "Ankara",
          "Baghdad",
          "Bangalore",
          "Bangkok",
          "Belo Horizonte",
          "Berlin",
          "Bogotá",
          "Bombay",
          "Brasília",
          "Cairo",
          "Calcutta",
          "Cali",
          "Cape Town",
          "Casablanca",
          "Changchun",
          "Chengdu",
          "Chicago",
          "Chongqing",
          "Dakar",
          "Dalian",
          "Dar Es Salaam",
          "Delhi",
          "Dhaka",
          "Durban",
          "Faisalabad",
          "Fortaleza",
          "Gizeh",
          "Guangzhou",
          "Harare",
          "Harbin",
          "Ho Chi Minh City",
          "Hyderabad",
          "Ibadan",
          "Istanbul",
          "Izmir",
          "Jaipur",
          "Jakarta",
          "Jiddah",
          "Jinan",
          "Kabul",
          "Kano",
          "Kanpur",
          "Karachi",
          "Kiev",
          "Kinshasa",
          "Lagos",
          "Lahore",
          "Lakhnau",
          "Lima",
          "London",
          "Los Angeles",
          "Luanda",
          "Madras",
          "Madrid",
          "Manila",
          "Mashhad",
          "Melbourne",
          "Mexico",
          "Mogadishu",
          "Montreal",
          "Moscow",
          "Nagoya",
          "Nagpur",
          "Nairobi",
          "Nanjing",
          "New Delhi",
          "New York",
          "Paris",
          "Peking",
          "Pune",
          "Rangoon",
          "Rio De Janeiro",
          "Riyadh",
          "Rome",
          "Saint Petersburg",
          "Salvador",
          "Santiago",
          "Santo Domingo",
          "Seoul",
          "Shanghai",
          "Shenyang",
          "Singapore",
          "Surabaya",
          "Surat",
          "Sydney",
          "São Paulo",
          "Taipei",
          "Taiyuan",
          "Tangshan",
          "Tianjin",
          "Tokyo",
          "Toronto",
          "Umm Durman",
          "Wuhan",
          "Xian"
         ],
         "lat": [
          5.63,
          8.84,
          23.31,
          36.17,
          31.35,
          39.38,
          32.95,
          12.05,
          13.66,
          -20.09,
          52.24,
          4.02,
          18.48,
          -15.27,
          29.74,
          23.31,
          4.02,
          -32.95,
          32.95,
          44.2,
          31.35,
          42.59,
          29.74,
          15.27,
          39.38,
          -7.23,
          28.13,
          23.31,
          -29.74,
          31.35,
          -4.02,
          29.74,
          23.31,
          -18.48,
          45.81,
          10.45,
          16.87,
          7.23,
          40.99,
          37.78,
          26.52,
          -5.63,
          21.7,
          36.17,
          34.56,
          12.05,
          26.52,
          24.92,
          50.63,
          -4.02,
          5.63,
          31.35,
          26.52,
          -12.05,
          52.24,
          34.56,
          -8.84,
          13.66,
          40.99,
          15.27,
          36.17,
          -37.78,
          20.09,
          2.41,
          45.81,
          55.45,
          34.56,
          21.7,
          -0.8,
          31.35,
          28.13,
          40.99,
          49.03,
          39.38,
          18.48,
          16.87,
          -23.31,
          24.92,
          42.59,
          60.27,
          -13.66,
          -32.95,
          18.48,
          37.78,
          31.35,
          40.99,
          0.8,
          -7.23,
          21.7,
          -34.56,
          -23.31,
          24.92,
          37.78,
          37.78,
          39.38,
          36.17,
          44.2,
          15.27,
          29.74,
          34.56
         ],
         "legendgroup": "",
         "lon": [
          -3.23,
          38.11,
          72.52,
          37.79,
          30.16,
          33.29,
          45,
          77.26,
          99.91,
          -44.36,
          13.14,
          -74.73,
          72.68,
          -47.5,
          31.38,
          88.25,
          -76.34,
          18.19,
          -6.7,
          125.22,
          103.66,
          -87.27,
          107.08,
          -17.5,
          120.69,
          39.73,
          77.27,
          90,
          31.38,
          73.51,
          -40.98,
          31.38,
          112.72,
          30.42,
          125.77,
          107.18,
          78.7,
          4.05,
          29.82,
          26.44,
          75.22,
          106.55,
          38.94,
          117.35,
          70.05,
          8.22,
          80.6,
          67.39,
          31.69,
          15.27,
          3.23,
          73.51,
          80.6,
          -77.26,
          0,
          -118.7,
          13.78,
          80.09,
          -4.26,
          120.83,
          59.67,
          144.41,
          -98.96,
          45.8,
          -72.69,
          36.85,
          136.22,
          78.75,
          36.16,
          118.74,
          77.27,
          -74.56,
          2.45,
          116.53,
          74.37,
          95.44,
          -42.82,
          46.11,
          13.09,
          29.19,
          -38.81,
          -69.89,
          -69.3,
          126.1,
          120.63,
          123.55,
          103.66,
          112.7,
          73.56,
          151.78,
          -46.31,
          122.36,
          111.86,
          113.9,
          116.53,
          139.23,
          -80.5,
          32.5,
          114.46,
          108.97
         ],
         "marker": {
          "color": [
           27.310909090909092,
           18.221818181818183,
           20.053,
           6.077727272727273,
           14.936636363636364,
           -0.22372727272727275,
           10.213636363636363,
           23.573909090909094,
           25.727636363636364,
           23.308727272727275,
           0.4860909090909091,
           20.76909090909091,
           24.919818181818183,
           22.88836363636364,
           13.890181818181818,
           18.67981818181818,
           22.608454545454546,
           20.550272727272727,
           9.879545454545454,
           -15.573727272727274,
           0.770909090909091,
           0.1499999999999999,
           6.131272727272727,
           22.226181818181818,
           -4.059,
           28.436,
           14.381181818181817,
           18.405090909090912,
           23.38727272727273,
           12.348,
           28.013727272727273,
           13.890181818181818,
           12.554818181818183,
           22.453454545454544,
           -18.151454545454545,
           26.213636363636365,
           23.564636363636364,
           27.806818181818183,
           5.768454545454545,
           10.745636363636363,
           15.764999999999999,
           26.874545454545455,
           23.796727272727274,
           -1.2595454545454545,
           2.4166363636363637,
           22.19063636363636,
           14.502181818181818,
           18.597272727272728,
           -4.420272727272728,
           24.89272727272727,
           27.067181818181815,
           12.348,
           14.502181818181818,
           20.23027272727273,
           4.480181818181818,
           10.198272727272727,
           25.097545454545454,
           25.198454545454545,
           3.9343636363636363,
           25.391181818181817,
           1.0093636363636365,
           20.091545454545454,
           12.838636363636363,
           27.331454545454548,
           -10.871818181818183,
           -7.922545454545456,
           4.409545454545454,
           19.576545454545453,
           17.66272727272727,
           2.8395454545454544,
           14.381181818181817,
           -2.4457272727272725,
           3.8912727272727277,
           -3.8827272727272732,
           21.18327272727273,
           24.92309090909091,
           26.166363636363634,
           14.402454545454544,
           3.7570909090909095,
           -5.890545454545455,
           26.947363636363637,
           13.331545454545454,
           24.913,
           -3.4264545454545456,
           3.517,
           -10.683272727272728,
           26.53509090909091,
           27.15818181818182,
           20.695363636363638,
           20.608454545454546,
           22.79627272727273,
           16.97390909090909,
           -7.837909090909091,
           -3.130909090909091,
           -3.8827272727272732,
           1.756909090909091,
           -7.069999999999999,
           23.38145454545455,
           3.858181818181818,
           -2.0333636363636365
          ],
          "coloraxis": "coloraxis",
          "symbol": "circle"
         },
         "mode": "markers",
         "name": "",
         "showlegend": false,
         "type": "scattergeo"
        }
       ],
       "layout": {
        "coloraxis": {
         "colorbar": {
          "title": {
           "text": "AverageTemperature"
          }
         },
         "colorscale": [
          [
           0,
           "#0d0887"
          ],
          [
           0.1111111111111111,
           "#46039f"
          ],
          [
           0.2222222222222222,
           "#7201a8"
          ],
          [
           0.3333333333333333,
           "#9c179e"
          ],
          [
           0.4444444444444444,
           "#bd3786"
          ],
          [
           0.5555555555555556,
           "#d8576b"
          ],
          [
           0.6666666666666666,
           "#ed7953"
          ],
          [
           0.7777777777777778,
           "#fb9f3a"
          ],
          [
           0.8888888888888888,
           "#fdca26"
          ],
          [
           1,
           "#f0f921"
          ]
         ]
        },
        "geo": {
         "center": {},
         "domain": {
          "x": [
           0,
           1
          ],
          "y": [
           0,
           1
          ]
         }
        },
        "legend": {
         "tracegroupgap": 0
        },
        "margin": {
         "t": 60
        },
        "template": {
         "data": {
          "bar": [
           {
            "error_x": {
             "color": "#2a3f5f"
            },
            "error_y": {
             "color": "#2a3f5f"
            },
            "marker": {
             "line": {
              "color": "#E5ECF6",
              "width": 0.5
             },
             "pattern": {
              "fillmode": "overlay",
              "size": 10,
              "solidity": 0.2
             }
            },
            "type": "bar"
           }
          ],
          "barpolar": [
           {
            "marker": {
             "line": {
              "color": "#E5ECF6",
              "width": 0.5
             },
             "pattern": {
              "fillmode": "overlay",
              "size": 10,
              "solidity": 0.2
             }
            },
            "type": "barpolar"
           }
          ],
          "carpet": [
           {
            "aaxis": {
             "endlinecolor": "#2a3f5f",
             "gridcolor": "white",
             "linecolor": "white",
             "minorgridcolor": "white",
             "startlinecolor": "#2a3f5f"
            },
            "baxis": {
             "endlinecolor": "#2a3f5f",
             "gridcolor": "white",
             "linecolor": "white",
             "minorgridcolor": "white",
             "startlinecolor": "#2a3f5f"
            },
            "type": "carpet"
           }
          ],
          "choropleth": [
           {
            "colorbar": {
             "outlinewidth": 0,
             "ticks": ""
            },
            "type": "choropleth"
           }
          ],
          "contour": [
           {
            "colorbar": {
             "outlinewidth": 0,
             "ticks": ""
            },
            "colorscale": [
             [
              0,
              "#0d0887"
             ],
             [
              0.1111111111111111,
              "#46039f"
             ],
             [
              0.2222222222222222,
              "#7201a8"
             ],
             [
              0.3333333333333333,
              "#9c179e"
             ],
             [
              0.4444444444444444,
              "#bd3786"
             ],
             [
              0.5555555555555556,
              "#d8576b"
             ],
             [
              0.6666666666666666,
              "#ed7953"
             ],
             [
              0.7777777777777778,
              "#fb9f3a"
             ],
             [
              0.8888888888888888,
              "#fdca26"
             ],
             [
              1,
              "#f0f921"
             ]
            ],
            "type": "contour"
           }
          ],
          "contourcarpet": [
           {
            "colorbar": {
             "outlinewidth": 0,
             "ticks": ""
            },
            "type": "contourcarpet"
           }
          ],
          "heatmap": [
           {
            "colorbar": {
             "outlinewidth": 0,
             "ticks": ""
            },
            "colorscale": [
             [
              0,
              "#0d0887"
             ],
             [
              0.1111111111111111,
              "#46039f"
             ],
             [
              0.2222222222222222,
              "#7201a8"
             ],
             [
              0.3333333333333333,
              "#9c179e"
             ],
             [
              0.4444444444444444,
              "#bd3786"
             ],
             [
              0.5555555555555556,
              "#d8576b"
             ],
             [
              0.6666666666666666,
              "#ed7953"
             ],
             [
              0.7777777777777778,
              "#fb9f3a"
             ],
             [
              0.8888888888888888,
              "#fdca26"
             ],
             [
              1,
              "#f0f921"
             ]
            ],
            "type": "heatmap"
           }
          ],
          "heatmapgl": [
           {
            "colorbar": {
             "outlinewidth": 0,
             "ticks": ""
            },
            "colorscale": [
             [
              0,
              "#0d0887"
             ],
             [
              0.1111111111111111,
              "#46039f"
             ],
             [
              0.2222222222222222,
              "#7201a8"
             ],
             [
              0.3333333333333333,
              "#9c179e"
             ],
             [
              0.4444444444444444,
              "#bd3786"
             ],
             [
              0.5555555555555556,
              "#d8576b"
             ],
             [
              0.6666666666666666,
              "#ed7953"
             ],
             [
              0.7777777777777778,
              "#fb9f3a"
             ],
             [
              0.8888888888888888,
              "#fdca26"
             ],
             [
              1,
              "#f0f921"
             ]
            ],
            "type": "heatmapgl"
           }
          ],
          "histogram": [
           {
            "marker": {
             "pattern": {
              "fillmode": "overlay",
              "size": 10,
              "solidity": 0.2
             }
            },
            "type": "histogram"
           }
          ],
          "histogram2d": [
           {
            "colorbar": {
             "outlinewidth": 0,
             "ticks": ""
            },
            "colorscale": [
             [
              0,
              "#0d0887"
             ],
             [
              0.1111111111111111,
              "#46039f"
             ],
             [
              0.2222222222222222,
              "#7201a8"
             ],
             [
              0.3333333333333333,
              "#9c179e"
             ],
             [
              0.4444444444444444,
              "#bd3786"
             ],
             [
              0.5555555555555556,
              "#d8576b"
             ],
             [
              0.6666666666666666,
              "#ed7953"
             ],
             [
              0.7777777777777778,
              "#fb9f3a"
             ],
             [
              0.8888888888888888,
              "#fdca26"
             ],
             [
              1,
              "#f0f921"
             ]
            ],
            "type": "histogram2d"
           }
          ],
          "histogram2dcontour": [
           {
            "colorbar": {
             "outlinewidth": 0,
             "ticks": ""
            },
            "colorscale": [
             [
              0,
              "#0d0887"
             ],
             [
              0.1111111111111111,
              "#46039f"
             ],
             [
              0.2222222222222222,
              "#7201a8"
             ],
             [
              0.3333333333333333,
              "#9c179e"
             ],
             [
              0.4444444444444444,
              "#bd3786"
             ],
             [
              0.5555555555555556,
              "#d8576b"
             ],
             [
              0.6666666666666666,
              "#ed7953"
             ],
             [
              0.7777777777777778,
              "#fb9f3a"
             ],
             [
              0.8888888888888888,
              "#fdca26"
             ],
             [
              1,
              "#f0f921"
             ]
            ],
            "type": "histogram2dcontour"
           }
          ],
          "mesh3d": [
           {
            "colorbar": {
             "outlinewidth": 0,
             "ticks": ""
            },
            "type": "mesh3d"
           }
          ],
          "parcoords": [
           {
            "line": {
             "colorbar": {
              "outlinewidth": 0,
              "ticks": ""
             }
            },
            "type": "parcoords"
           }
          ],
          "pie": [
           {
            "automargin": true,
            "type": "pie"
           }
          ],
          "scatter": [
           {
            "fillpattern": {
             "fillmode": "overlay",
             "size": 10,
             "solidity": 0.2
            },
            "type": "scatter"
           }
          ],
          "scatter3d": [
           {
            "line": {
             "colorbar": {
              "outlinewidth": 0,
              "ticks": ""
             }
            },
            "marker": {
             "colorbar": {
              "outlinewidth": 0,
              "ticks": ""
             }
            },
            "type": "scatter3d"
           }
          ],
          "scattercarpet": [
           {
            "marker": {
             "colorbar": {
              "outlinewidth": 0,
              "ticks": ""
             }
            },
            "type": "scattercarpet"
           }
          ],
          "scattergeo": [
           {
            "marker": {
             "colorbar": {
              "outlinewidth": 0,
              "ticks": ""
             }
            },
            "type": "scattergeo"
           }
          ],
          "scattergl": [
           {
            "marker": {
             "colorbar": {
              "outlinewidth": 0,
              "ticks": ""
             }
            },
            "type": "scattergl"
           }
          ],
          "scattermapbox": [
           {
            "marker": {
             "colorbar": {
              "outlinewidth": 0,
              "ticks": ""
             }
            },
            "type": "scattermapbox"
           }
          ],
          "scatterpolar": [
           {
            "marker": {
             "colorbar": {
              "outlinewidth": 0,
              "ticks": ""
             }
            },
            "type": "scatterpolar"
           }
          ],
          "scatterpolargl": [
           {
            "marker": {
             "colorbar": {
              "outlinewidth": 0,
              "ticks": ""
             }
            },
            "type": "scatterpolargl"
           }
          ],
          "scatterternary": [
           {
            "marker": {
             "colorbar": {
              "outlinewidth": 0,
              "ticks": ""
             }
            },
            "type": "scatterternary"
           }
          ],
          "surface": [
           {
            "colorbar": {
             "outlinewidth": 0,
             "ticks": ""
            },
            "colorscale": [
             [
              0,
              "#0d0887"
             ],
             [
              0.1111111111111111,
              "#46039f"
             ],
             [
              0.2222222222222222,
              "#7201a8"
             ],
             [
              0.3333333333333333,
              "#9c179e"
             ],
             [
              0.4444444444444444,
              "#bd3786"
             ],
             [
              0.5555555555555556,
              "#d8576b"
             ],
             [
              0.6666666666666666,
              "#ed7953"
             ],
             [
              0.7777777777777778,
              "#fb9f3a"
             ],
             [
              0.8888888888888888,
              "#fdca26"
             ],
             [
              1,
              "#f0f921"
             ]
            ],
            "type": "surface"
           }
          ],
          "table": [
           {
            "cells": {
             "fill": {
              "color": "#EBF0F8"
             },
             "line": {
              "color": "white"
             }
            },
            "header": {
             "fill": {
              "color": "#C8D4E3"
             },
             "line": {
              "color": "white"
             }
            },
            "type": "table"
           }
          ]
         },
         "layout": {
          "annotationdefaults": {
           "arrowcolor": "#2a3f5f",
           "arrowhead": 0,
           "arrowwidth": 1
          },
          "autotypenumbers": "strict",
          "coloraxis": {
           "colorbar": {
            "outlinewidth": 0,
            "ticks": ""
           }
          },
          "colorscale": {
           "diverging": [
            [
             0,
             "#8e0152"
            ],
            [
             0.1,
             "#c51b7d"
            ],
            [
             0.2,
             "#de77ae"
            ],
            [
             0.3,
             "#f1b6da"
            ],
            [
             0.4,
             "#fde0ef"
            ],
            [
             0.5,
             "#f7f7f7"
            ],
            [
             0.6,
             "#e6f5d0"
            ],
            [
             0.7,
             "#b8e186"
            ],
            [
             0.8,
             "#7fbc41"
            ],
            [
             0.9,
             "#4d9221"
            ],
            [
             1,
             "#276419"
            ]
           ],
           "sequential": [
            [
             0,
             "#0d0887"
            ],
            [
             0.1111111111111111,
             "#46039f"
            ],
            [
             0.2222222222222222,
             "#7201a8"
            ],
            [
             0.3333333333333333,
             "#9c179e"
            ],
            [
             0.4444444444444444,
             "#bd3786"
            ],
            [
             0.5555555555555556,
             "#d8576b"
            ],
            [
             0.6666666666666666,
             "#ed7953"
            ],
            [
             0.7777777777777778,
             "#fb9f3a"
            ],
            [
             0.8888888888888888,
             "#fdca26"
            ],
            [
             1,
             "#f0f921"
            ]
           ],
           "sequentialminus": [
            [
             0,
             "#0d0887"
            ],
            [
             0.1111111111111111,
             "#46039f"
            ],
            [
             0.2222222222222222,
             "#7201a8"
            ],
            [
             0.3333333333333333,
             "#9c179e"
            ],
            [
             0.4444444444444444,
             "#bd3786"
            ],
            [
             0.5555555555555556,
             "#d8576b"
            ],
            [
             0.6666666666666666,
             "#ed7953"
            ],
            [
             0.7777777777777778,
             "#fb9f3a"
            ],
            [
             0.8888888888888888,
             "#fdca26"
            ],
            [
             1,
             "#f0f921"
            ]
           ]
          },
          "colorway": [
           "#636efa",
           "#EF553B",
           "#00cc96",
           "#ab63fa",
           "#FFA15A",
           "#19d3f3",
           "#FF6692",
           "#B6E880",
           "#FF97FF",
           "#FECB52"
          ],
          "font": {
           "color": "#2a3f5f"
          },
          "geo": {
           "bgcolor": "white",
           "lakecolor": "white",
           "landcolor": "#E5ECF6",
           "showlakes": true,
           "showland": true,
           "subunitcolor": "white"
          },
          "hoverlabel": {
           "align": "left"
          },
          "hovermode": "closest",
          "mapbox": {
           "style": "light"
          },
          "paper_bgcolor": "white",
          "plot_bgcolor": "#E5ECF6",
          "polar": {
           "angularaxis": {
            "gridcolor": "white",
            "linecolor": "white",
            "ticks": ""
           },
           "bgcolor": "#E5ECF6",
           "radialaxis": {
            "gridcolor": "white",
            "linecolor": "white",
            "ticks": ""
           }
          },
          "scene": {
           "xaxis": {
            "backgroundcolor": "#E5ECF6",
            "gridcolor": "white",
            "gridwidth": 2,
            "linecolor": "white",
            "showbackground": true,
            "ticks": "",
            "zerolinecolor": "white"
           },
           "yaxis": {
            "backgroundcolor": "#E5ECF6",
            "gridcolor": "white",
            "gridwidth": 2,
            "linecolor": "white",
            "showbackground": true,
            "ticks": "",
            "zerolinecolor": "white"
           },
           "zaxis": {
            "backgroundcolor": "#E5ECF6",
            "gridcolor": "white",
            "gridwidth": 2,
            "linecolor": "white",
            "showbackground": true,
            "ticks": "",
            "zerolinecolor": "white"
           }
          },
          "shapedefaults": {
           "line": {
            "color": "#2a3f5f"
           }
          },
          "ternary": {
           "aaxis": {
            "gridcolor": "white",
            "linecolor": "white",
            "ticks": ""
           },
           "baxis": {
            "gridcolor": "white",
            "linecolor": "white",
            "ticks": ""
           },
           "bgcolor": "#E5ECF6",
           "caxis": {
            "gridcolor": "white",
            "linecolor": "white",
            "ticks": ""
           }
          },
          "title": {
           "x": 0.05
          },
          "xaxis": {
           "automargin": true,
           "gridcolor": "white",
           "linecolor": "white",
           "ticks": "",
           "title": {
            "standoff": 15
           },
           "zerolinecolor": "white",
           "zerolinewidth": 2
          },
          "yaxis": {
           "automargin": true,
           "gridcolor": "white",
           "linecolor": "white",
           "ticks": "",
           "title": {
            "standoff": 15
           },
           "zerolinecolor": "white",
           "zerolinewidth": 2
          }
         }
        }
       }
      }
     },
     "metadata": {},
     "output_type": "display_data"
    }
   ],
   "source": [
    "import plotly.express as px\n",
    "\n",
    "df_mini_10Y_Jan = df_mini[(df_mini['dt'] >= '2003-01-01') & (pd.DatetimeIndex(df_mini['dt']).month == 1)].groupby(['City', 'Latitude', 'Longitude'])['AverageTemperature'].mean().reset_index()\n",
    "df_mini_10Y_Jan\n",
    "\n",
    "fig = px.scatter_geo(df_mini_10Y_Jan, \n",
    "                     lon=\"Longitude\",\n",
    "                     lat=\"Latitude\",\n",
    "                     color=\"AverageTemperature\", \n",
    "                     hover_name=\"City\" \n",
    "                    )\n",
    "fig.show()"
   ]
  },
  {
   "attachments": {},
   "cell_type": "markdown",
   "metadata": {},
   "source": [
    "**\\***(+3 балла). Вычислите прямую с \"трендом\" по изменению температуры в каждом городе в период 1950-2013 (можно с помощью линейной регрессии, как в задании **3.5**). Отобразите города цветом, который зависит от угла наклона этой прямой. "
   ]
  },
  {
   "cell_type": "code",
   "execution_count": 273,
   "metadata": {},
   "outputs": [],
   "source": [
    "from sklearn.linear_model import LinearRegression\n",
    "\n",
    "def get_coef(city_df): \n",
    "    x = np.array(pd.Series(pd.DatetimeIndex(city_df[\"dt\"]).year.tolist())).reshape(-1, 1)\n",
    "    y = np.array(city_df.AverageTemperature)\n",
    "    reg = LinearRegression().fit(x,y)    \n",
    "    return reg.coef_[0]"
   ]
  },
  {
   "cell_type": "code",
   "execution_count": 274,
   "metadata": {},
   "outputs": [
    {
     "data": {
      "application/vnd.plotly.v1+json": {
       "config": {
        "plotlyServerURL": "https://plot.ly"
       },
       "data": [
        {
         "geo": "geo",
         "hovertemplate": "<b>%{hovertext}</b><br><br>Latitude=%{lat}<br>Longitude=%{lon}<br>0=%{marker.color}<extra></extra>",
         "hovertext": [
          "Abidjan",
          "Addis Abeba",
          "Ahmadabad",
          "Aleppo",
          "Alexandria",
          "Ankara",
          "Baghdad",
          "Bangalore",
          "Bangkok",
          "Belo Horizonte",
          "Berlin",
          "Bogotá",
          "Bombay",
          "Brasília",
          "Cairo",
          "Calcutta",
          "Cali",
          "Cape Town",
          "Casablanca",
          "Changchun",
          "Chengdu",
          "Chicago",
          "Chongqing",
          "Dakar",
          "Dalian",
          "Dar Es Salaam",
          "Delhi",
          "Dhaka",
          "Durban",
          "Faisalabad",
          "Fortaleza",
          "Gizeh",
          "Guangzhou",
          "Harare",
          "Harbin",
          "Ho Chi Minh City",
          "Hyderabad",
          "Ibadan",
          "Istanbul",
          "Izmir",
          "Jaipur",
          "Jakarta",
          "Jiddah",
          "Jinan",
          "Kabul",
          "Kano",
          "Kanpur",
          "Karachi",
          "Kiev",
          "Kinshasa",
          "Lagos",
          "Lahore",
          "Lakhnau",
          "Lima",
          "London",
          "Los Angeles",
          "Luanda",
          "Madras",
          "Madrid",
          "Manila",
          "Mashhad",
          "Melbourne",
          "Mexico",
          "Mogadishu",
          "Montreal",
          "Moscow",
          "Nagoya",
          "Nagpur",
          "Nairobi",
          "Nanjing",
          "New Delhi",
          "New York",
          "Paris",
          "Peking",
          "Pune",
          "Rangoon",
          "Rio De Janeiro",
          "Riyadh",
          "Rome",
          "Saint Petersburg",
          "Salvador",
          "Santiago",
          "Santo Domingo",
          "Seoul",
          "Shanghai",
          "Shenyang",
          "Singapore",
          "Surabaya",
          "Surat",
          "Sydney",
          "São Paulo",
          "Taipei",
          "Taiyuan",
          "Tangshan",
          "Tianjin",
          "Tokyo",
          "Toronto",
          "Umm Durman",
          "Wuhan",
          "Xian"
         ],
         "lat": [
          5.63,
          8.84,
          23.31,
          36.17,
          31.35,
          39.38,
          32.95,
          12.05,
          13.66,
          -20.09,
          52.24,
          4.02,
          18.48,
          -15.27,
          29.74,
          23.31,
          4.02,
          -32.95,
          32.95,
          44.2,
          31.35,
          42.59,
          29.74,
          15.27,
          39.38,
          -7.23,
          28.13,
          23.31,
          -29.74,
          31.35,
          -4.02,
          29.74,
          23.31,
          -18.48,
          45.81,
          10.45,
          16.87,
          7.23,
          40.99,
          37.78,
          26.52,
          -5.63,
          21.7,
          36.17,
          34.56,
          12.05,
          26.52,
          24.92,
          50.63,
          -4.02,
          5.63,
          31.35,
          26.52,
          -12.05,
          52.24,
          34.56,
          -8.84,
          13.66,
          40.99,
          15.27,
          36.17,
          -37.78,
          20.09,
          2.41,
          45.81,
          55.45,
          34.56,
          21.7,
          -0.8,
          31.35,
          28.13,
          40.99,
          49.03,
          39.38,
          18.48,
          16.87,
          -23.31,
          24.92,
          42.59,
          60.27,
          -13.66,
          -32.95,
          18.48,
          37.78,
          31.35,
          40.99,
          0.8,
          -7.23,
          21.7,
          -34.56,
          -23.31,
          24.92,
          37.78,
          37.78,
          39.38,
          36.17,
          44.2,
          15.27,
          29.74,
          34.56
         ],
         "legendgroup": "",
         "lon": [
          -3.23,
          38.11,
          72.52,
          37.79,
          30.16,
          33.29,
          45,
          77.26,
          99.91,
          -44.36,
          13.14,
          -74.73,
          72.68,
          -47.5,
          31.38,
          88.25,
          -76.34,
          18.19,
          -6.7,
          125.22,
          103.66,
          -87.27,
          107.08,
          -17.5,
          120.69,
          39.73,
          77.27,
          90,
          31.38,
          73.51,
          -40.98,
          31.38,
          112.72,
          30.42,
          125.77,
          107.18,
          78.7,
          4.05,
          29.82,
          26.44,
          75.22,
          106.55,
          38.94,
          117.35,
          70.05,
          8.22,
          80.6,
          67.39,
          31.69,
          15.27,
          3.23,
          73.51,
          80.6,
          -77.26,
          0,
          -118.7,
          13.78,
          80.09,
          -4.26,
          120.83,
          59.67,
          144.41,
          -98.96,
          45.8,
          -72.69,
          36.85,
          136.22,
          78.75,
          36.16,
          118.74,
          77.27,
          -74.56,
          2.45,
          116.53,
          74.37,
          95.44,
          -42.82,
          46.11,
          13.09,
          29.19,
          -38.81,
          -69.89,
          -69.3,
          126.1,
          120.63,
          123.55,
          103.66,
          112.7,
          73.56,
          151.78,
          -46.31,
          122.36,
          111.86,
          113.9,
          116.53,
          139.23,
          -80.5,
          32.5,
          114.46,
          108.97
         ],
         "marker": {
          "color": [
           0.015599860729548238,
           0.018589230387667906,
           0.013633883737790002,
           0.014909145108363872,
           0.013607677045177033,
           0.01363626850579976,
           0.024977006066849824,
           0.013120638736263755,
           0.010369602793040292,
           0.01589078811813188,
           0.02253101724664226,
           0.012550391101953601,
           0.010854977487789982,
           0.017491990041208792,
           0.01408588408119658,
           0.006803821352258848,
           0.013036908577533582,
           0.014870539529914536,
           0.020985387095543356,
           0.025050639117826633,
           0.011438875534188039,
           0.019112654532967042,
           0.0102708981990232,
           0.017897829861111124,
           0.020598106494200262,
           0.015719971955128236,
           0.014586876144688645,
           0.006267599587912102,
           0.01464100751678877,
           0.020378614354395624,
           0.01593785771520147,
           0.01408588408119658,
           0.00522352144383395,
           0.01189318337912087,
           0.026638502556471315,
           0.009498359279609285,
           0.01110678991147742,
           0.014665006868131878,
           0.013769678151709413,
           0.012226216231685,
           0.014741921359890095,
           0.011793508661477423,
           0.013835165789072032,
           0.020509458943833953,
           0.024317411668192936,
           0.020090728975885253,
           0.011941224053724058,
           0.01831756238553113,
           0.028220990728021995,
           0.01184497958638583,
           0.014227613705738728,
           0.020378614354395624,
           0.011941224053724058,
           0.010371730960012197,
           0.018783852258852277,
           0.016922037164224687,
           0.014029064598595849,
           0.012739871413308913,
           0.020012684104090354,
           0.007565943605006102,
           0.035175011446886464,
           0.01690321466727717,
           0.00890031478937729,
           0.01514559771825397,
           0.02000709134615385,
           0.032812401747558013,
           0.011032155257936509,
           0.009661291399572652,
           0.015143314064407819,
           0.016567068261599528,
           0.014586876144688645,
           0.018461109203296706,
           0.020267325816544578,
           0.02511045768467644,
           0.011275462644993888,
           0.00906626316391943,
           0.015651490003052517,
           0.02332663308913308,
           0.018934401709401725,
           0.02623084935897437,
           0.0165923344017094,
           0.012631567651098905,
           0.014329525335775348,
           0.01762956635378512,
           0.015624108096764351,
           0.02304201675061051,
           0.011815370306776565,
           0.010059509500915758,
           0.012419095314407816,
           0.016833484050671546,
           0.01581518429487181,
           0.010901837225274734,
           0.02413630666208793,
           0.023536070093101356,
           0.02511045768467644,
           0.01154952686202688,
           0.02120965735653236,
           0.017541344246031737,
           0.015184859584859592,
           0.018790445665445667
          ],
          "coloraxis": "coloraxis",
          "symbol": "circle"
         },
         "mode": "markers",
         "name": "",
         "showlegend": false,
         "type": "scattergeo"
        }
       ],
       "layout": {
        "coloraxis": {
         "colorbar": {
          "title": {
           "text": "0"
          }
         },
         "colorscale": [
          [
           0,
           "#0d0887"
          ],
          [
           0.1111111111111111,
           "#46039f"
          ],
          [
           0.2222222222222222,
           "#7201a8"
          ],
          [
           0.3333333333333333,
           "#9c179e"
          ],
          [
           0.4444444444444444,
           "#bd3786"
          ],
          [
           0.5555555555555556,
           "#d8576b"
          ],
          [
           0.6666666666666666,
           "#ed7953"
          ],
          [
           0.7777777777777778,
           "#fb9f3a"
          ],
          [
           0.8888888888888888,
           "#fdca26"
          ],
          [
           1,
           "#f0f921"
          ]
         ]
        },
        "geo": {
         "center": {},
         "domain": {
          "x": [
           0,
           1
          ],
          "y": [
           0,
           1
          ]
         }
        },
        "legend": {
         "tracegroupgap": 0
        },
        "margin": {
         "t": 60
        },
        "template": {
         "data": {
          "bar": [
           {
            "error_x": {
             "color": "#2a3f5f"
            },
            "error_y": {
             "color": "#2a3f5f"
            },
            "marker": {
             "line": {
              "color": "#E5ECF6",
              "width": 0.5
             },
             "pattern": {
              "fillmode": "overlay",
              "size": 10,
              "solidity": 0.2
             }
            },
            "type": "bar"
           }
          ],
          "barpolar": [
           {
            "marker": {
             "line": {
              "color": "#E5ECF6",
              "width": 0.5
             },
             "pattern": {
              "fillmode": "overlay",
              "size": 10,
              "solidity": 0.2
             }
            },
            "type": "barpolar"
           }
          ],
          "carpet": [
           {
            "aaxis": {
             "endlinecolor": "#2a3f5f",
             "gridcolor": "white",
             "linecolor": "white",
             "minorgridcolor": "white",
             "startlinecolor": "#2a3f5f"
            },
            "baxis": {
             "endlinecolor": "#2a3f5f",
             "gridcolor": "white",
             "linecolor": "white",
             "minorgridcolor": "white",
             "startlinecolor": "#2a3f5f"
            },
            "type": "carpet"
           }
          ],
          "choropleth": [
           {
            "colorbar": {
             "outlinewidth": 0,
             "ticks": ""
            },
            "type": "choropleth"
           }
          ],
          "contour": [
           {
            "colorbar": {
             "outlinewidth": 0,
             "ticks": ""
            },
            "colorscale": [
             [
              0,
              "#0d0887"
             ],
             [
              0.1111111111111111,
              "#46039f"
             ],
             [
              0.2222222222222222,
              "#7201a8"
             ],
             [
              0.3333333333333333,
              "#9c179e"
             ],
             [
              0.4444444444444444,
              "#bd3786"
             ],
             [
              0.5555555555555556,
              "#d8576b"
             ],
             [
              0.6666666666666666,
              "#ed7953"
             ],
             [
              0.7777777777777778,
              "#fb9f3a"
             ],
             [
              0.8888888888888888,
              "#fdca26"
             ],
             [
              1,
              "#f0f921"
             ]
            ],
            "type": "contour"
           }
          ],
          "contourcarpet": [
           {
            "colorbar": {
             "outlinewidth": 0,
             "ticks": ""
            },
            "type": "contourcarpet"
           }
          ],
          "heatmap": [
           {
            "colorbar": {
             "outlinewidth": 0,
             "ticks": ""
            },
            "colorscale": [
             [
              0,
              "#0d0887"
             ],
             [
              0.1111111111111111,
              "#46039f"
             ],
             [
              0.2222222222222222,
              "#7201a8"
             ],
             [
              0.3333333333333333,
              "#9c179e"
             ],
             [
              0.4444444444444444,
              "#bd3786"
             ],
             [
              0.5555555555555556,
              "#d8576b"
             ],
             [
              0.6666666666666666,
              "#ed7953"
             ],
             [
              0.7777777777777778,
              "#fb9f3a"
             ],
             [
              0.8888888888888888,
              "#fdca26"
             ],
             [
              1,
              "#f0f921"
             ]
            ],
            "type": "heatmap"
           }
          ],
          "heatmapgl": [
           {
            "colorbar": {
             "outlinewidth": 0,
             "ticks": ""
            },
            "colorscale": [
             [
              0,
              "#0d0887"
             ],
             [
              0.1111111111111111,
              "#46039f"
             ],
             [
              0.2222222222222222,
              "#7201a8"
             ],
             [
              0.3333333333333333,
              "#9c179e"
             ],
             [
              0.4444444444444444,
              "#bd3786"
             ],
             [
              0.5555555555555556,
              "#d8576b"
             ],
             [
              0.6666666666666666,
              "#ed7953"
             ],
             [
              0.7777777777777778,
              "#fb9f3a"
             ],
             [
              0.8888888888888888,
              "#fdca26"
             ],
             [
              1,
              "#f0f921"
             ]
            ],
            "type": "heatmapgl"
           }
          ],
          "histogram": [
           {
            "marker": {
             "pattern": {
              "fillmode": "overlay",
              "size": 10,
              "solidity": 0.2
             }
            },
            "type": "histogram"
           }
          ],
          "histogram2d": [
           {
            "colorbar": {
             "outlinewidth": 0,
             "ticks": ""
            },
            "colorscale": [
             [
              0,
              "#0d0887"
             ],
             [
              0.1111111111111111,
              "#46039f"
             ],
             [
              0.2222222222222222,
              "#7201a8"
             ],
             [
              0.3333333333333333,
              "#9c179e"
             ],
             [
              0.4444444444444444,
              "#bd3786"
             ],
             [
              0.5555555555555556,
              "#d8576b"
             ],
             [
              0.6666666666666666,
              "#ed7953"
             ],
             [
              0.7777777777777778,
              "#fb9f3a"
             ],
             [
              0.8888888888888888,
              "#fdca26"
             ],
             [
              1,
              "#f0f921"
             ]
            ],
            "type": "histogram2d"
           }
          ],
          "histogram2dcontour": [
           {
            "colorbar": {
             "outlinewidth": 0,
             "ticks": ""
            },
            "colorscale": [
             [
              0,
              "#0d0887"
             ],
             [
              0.1111111111111111,
              "#46039f"
             ],
             [
              0.2222222222222222,
              "#7201a8"
             ],
             [
              0.3333333333333333,
              "#9c179e"
             ],
             [
              0.4444444444444444,
              "#bd3786"
             ],
             [
              0.5555555555555556,
              "#d8576b"
             ],
             [
              0.6666666666666666,
              "#ed7953"
             ],
             [
              0.7777777777777778,
              "#fb9f3a"
             ],
             [
              0.8888888888888888,
              "#fdca26"
             ],
             [
              1,
              "#f0f921"
             ]
            ],
            "type": "histogram2dcontour"
           }
          ],
          "mesh3d": [
           {
            "colorbar": {
             "outlinewidth": 0,
             "ticks": ""
            },
            "type": "mesh3d"
           }
          ],
          "parcoords": [
           {
            "line": {
             "colorbar": {
              "outlinewidth": 0,
              "ticks": ""
             }
            },
            "type": "parcoords"
           }
          ],
          "pie": [
           {
            "automargin": true,
            "type": "pie"
           }
          ],
          "scatter": [
           {
            "fillpattern": {
             "fillmode": "overlay",
             "size": 10,
             "solidity": 0.2
            },
            "type": "scatter"
           }
          ],
          "scatter3d": [
           {
            "line": {
             "colorbar": {
              "outlinewidth": 0,
              "ticks": ""
             }
            },
            "marker": {
             "colorbar": {
              "outlinewidth": 0,
              "ticks": ""
             }
            },
            "type": "scatter3d"
           }
          ],
          "scattercarpet": [
           {
            "marker": {
             "colorbar": {
              "outlinewidth": 0,
              "ticks": ""
             }
            },
            "type": "scattercarpet"
           }
          ],
          "scattergeo": [
           {
            "marker": {
             "colorbar": {
              "outlinewidth": 0,
              "ticks": ""
             }
            },
            "type": "scattergeo"
           }
          ],
          "scattergl": [
           {
            "marker": {
             "colorbar": {
              "outlinewidth": 0,
              "ticks": ""
             }
            },
            "type": "scattergl"
           }
          ],
          "scattermapbox": [
           {
            "marker": {
             "colorbar": {
              "outlinewidth": 0,
              "ticks": ""
             }
            },
            "type": "scattermapbox"
           }
          ],
          "scatterpolar": [
           {
            "marker": {
             "colorbar": {
              "outlinewidth": 0,
              "ticks": ""
             }
            },
            "type": "scatterpolar"
           }
          ],
          "scatterpolargl": [
           {
            "marker": {
             "colorbar": {
              "outlinewidth": 0,
              "ticks": ""
             }
            },
            "type": "scatterpolargl"
           }
          ],
          "scatterternary": [
           {
            "marker": {
             "colorbar": {
              "outlinewidth": 0,
              "ticks": ""
             }
            },
            "type": "scatterternary"
           }
          ],
          "surface": [
           {
            "colorbar": {
             "outlinewidth": 0,
             "ticks": ""
            },
            "colorscale": [
             [
              0,
              "#0d0887"
             ],
             [
              0.1111111111111111,
              "#46039f"
             ],
             [
              0.2222222222222222,
              "#7201a8"
             ],
             [
              0.3333333333333333,
              "#9c179e"
             ],
             [
              0.4444444444444444,
              "#bd3786"
             ],
             [
              0.5555555555555556,
              "#d8576b"
             ],
             [
              0.6666666666666666,
              "#ed7953"
             ],
             [
              0.7777777777777778,
              "#fb9f3a"
             ],
             [
              0.8888888888888888,
              "#fdca26"
             ],
             [
              1,
              "#f0f921"
             ]
            ],
            "type": "surface"
           }
          ],
          "table": [
           {
            "cells": {
             "fill": {
              "color": "#EBF0F8"
             },
             "line": {
              "color": "white"
             }
            },
            "header": {
             "fill": {
              "color": "#C8D4E3"
             },
             "line": {
              "color": "white"
             }
            },
            "type": "table"
           }
          ]
         },
         "layout": {
          "annotationdefaults": {
           "arrowcolor": "#2a3f5f",
           "arrowhead": 0,
           "arrowwidth": 1
          },
          "autotypenumbers": "strict",
          "coloraxis": {
           "colorbar": {
            "outlinewidth": 0,
            "ticks": ""
           }
          },
          "colorscale": {
           "diverging": [
            [
             0,
             "#8e0152"
            ],
            [
             0.1,
             "#c51b7d"
            ],
            [
             0.2,
             "#de77ae"
            ],
            [
             0.3,
             "#f1b6da"
            ],
            [
             0.4,
             "#fde0ef"
            ],
            [
             0.5,
             "#f7f7f7"
            ],
            [
             0.6,
             "#e6f5d0"
            ],
            [
             0.7,
             "#b8e186"
            ],
            [
             0.8,
             "#7fbc41"
            ],
            [
             0.9,
             "#4d9221"
            ],
            [
             1,
             "#276419"
            ]
           ],
           "sequential": [
            [
             0,
             "#0d0887"
            ],
            [
             0.1111111111111111,
             "#46039f"
            ],
            [
             0.2222222222222222,
             "#7201a8"
            ],
            [
             0.3333333333333333,
             "#9c179e"
            ],
            [
             0.4444444444444444,
             "#bd3786"
            ],
            [
             0.5555555555555556,
             "#d8576b"
            ],
            [
             0.6666666666666666,
             "#ed7953"
            ],
            [
             0.7777777777777778,
             "#fb9f3a"
            ],
            [
             0.8888888888888888,
             "#fdca26"
            ],
            [
             1,
             "#f0f921"
            ]
           ],
           "sequentialminus": [
            [
             0,
             "#0d0887"
            ],
            [
             0.1111111111111111,
             "#46039f"
            ],
            [
             0.2222222222222222,
             "#7201a8"
            ],
            [
             0.3333333333333333,
             "#9c179e"
            ],
            [
             0.4444444444444444,
             "#bd3786"
            ],
            [
             0.5555555555555556,
             "#d8576b"
            ],
            [
             0.6666666666666666,
             "#ed7953"
            ],
            [
             0.7777777777777778,
             "#fb9f3a"
            ],
            [
             0.8888888888888888,
             "#fdca26"
            ],
            [
             1,
             "#f0f921"
            ]
           ]
          },
          "colorway": [
           "#636efa",
           "#EF553B",
           "#00cc96",
           "#ab63fa",
           "#FFA15A",
           "#19d3f3",
           "#FF6692",
           "#B6E880",
           "#FF97FF",
           "#FECB52"
          ],
          "font": {
           "color": "#2a3f5f"
          },
          "geo": {
           "bgcolor": "white",
           "lakecolor": "white",
           "landcolor": "#E5ECF6",
           "showlakes": true,
           "showland": true,
           "subunitcolor": "white"
          },
          "hoverlabel": {
           "align": "left"
          },
          "hovermode": "closest",
          "mapbox": {
           "style": "light"
          },
          "paper_bgcolor": "white",
          "plot_bgcolor": "#E5ECF6",
          "polar": {
           "angularaxis": {
            "gridcolor": "white",
            "linecolor": "white",
            "ticks": ""
           },
           "bgcolor": "#E5ECF6",
           "radialaxis": {
            "gridcolor": "white",
            "linecolor": "white",
            "ticks": ""
           }
          },
          "scene": {
           "xaxis": {
            "backgroundcolor": "#E5ECF6",
            "gridcolor": "white",
            "gridwidth": 2,
            "linecolor": "white",
            "showbackground": true,
            "ticks": "",
            "zerolinecolor": "white"
           },
           "yaxis": {
            "backgroundcolor": "#E5ECF6",
            "gridcolor": "white",
            "gridwidth": 2,
            "linecolor": "white",
            "showbackground": true,
            "ticks": "",
            "zerolinecolor": "white"
           },
           "zaxis": {
            "backgroundcolor": "#E5ECF6",
            "gridcolor": "white",
            "gridwidth": 2,
            "linecolor": "white",
            "showbackground": true,
            "ticks": "",
            "zerolinecolor": "white"
           }
          },
          "shapedefaults": {
           "line": {
            "color": "#2a3f5f"
           }
          },
          "ternary": {
           "aaxis": {
            "gridcolor": "white",
            "linecolor": "white",
            "ticks": ""
           },
           "baxis": {
            "gridcolor": "white",
            "linecolor": "white",
            "ticks": ""
           },
           "bgcolor": "#E5ECF6",
           "caxis": {
            "gridcolor": "white",
            "linecolor": "white",
            "ticks": ""
           }
          },
          "title": {
           "x": 0.05
          },
          "xaxis": {
           "automargin": true,
           "gridcolor": "white",
           "linecolor": "white",
           "ticks": "",
           "title": {
            "standoff": 15
           },
           "zerolinecolor": "white",
           "zerolinewidth": 2
          },
          "yaxis": {
           "automargin": true,
           "gridcolor": "white",
           "linecolor": "white",
           "ticks": "",
           "title": {
            "standoff": 15
           },
           "zerolinecolor": "white",
           "zerolinewidth": 2
          }
         }
        }
       }
      }
     },
     "metadata": {},
     "output_type": "display_data"
    }
   ],
   "source": [
    "df_mini_angle = df_mini.groupby([\"City\", 'Latitude', 'Longitude', pd.Grouper(key='dt', axis=0, freq='Y')]).AverageTemperature.mean().reset_index()\n",
    "angle = df_mini_angle.groupby([\"City\", 'Latitude', 'Longitude']).apply(get_coef).reset_index()\n",
    "\n",
    "fig = px.scatter_geo(angle, \n",
    "                     lon=\"Longitude\",\n",
    "                     lat=\"Latitude\",\n",
    "                     color=0, \n",
    "                     hover_name=\"City\" \n",
    "                    )\n",
    "fig.show()"
   ]
  },
  {
   "cell_type": "code",
   "execution_count": 317,
   "metadata": {},
   "outputs": [],
   "source": [
    "def func(df):\n",
    "    x = np.array(pd.Series(pd.DatetimeIndex(df[\"dt\"]).year.tolist()))\n",
    "    y = np.array(df.AverageTemperature)\n",
    "    lm = pwlf.PiecewiseLinFit(x,y)  \n",
    "    reg = lm.fit(4)\n",
    "    return lm.slopes[-1]"
   ]
  },
  {
   "cell_type": "code",
   "execution_count": null,
   "metadata": {},
   "outputs": [],
   "source": [
    "import pwlf\n",
    "\n",
    "df_mini_pwlf = df_mini.groupby([\"City\", 'Latitude', 'Longitude', pd.Grouper(key='dt', axis=0, freq='Y')]).AverageTemperature.mean().reset_index()\n",
    "df_mini_pwlf = df_mini_pwlf.groupby([\"City\", 'Latitude', 'Longitude']).apply(func).reset_index()\n",
    "df_mini_pwlf\n"
   ]
  },
  {
   "cell_type": "code",
   "execution_count": 319,
   "metadata": {},
   "outputs": [
    {
     "data": {
      "application/vnd.plotly.v1+json": {
       "config": {
        "plotlyServerURL": "https://plot.ly"
       },
       "data": [
        {
         "geo": "geo",
         "hovertemplate": "<b>%{hovertext}</b><br><br>Latitude=%{lat}<br>Longitude=%{lon}<br>0=%{marker.color}<extra></extra>",
         "hovertext": [
          "Abidjan",
          "Addis Abeba",
          "Ahmadabad",
          "Aleppo",
          "Alexandria",
          "Ankara",
          "Baghdad",
          "Bangalore",
          "Bangkok",
          "Belo Horizonte",
          "Berlin",
          "Bogotá",
          "Bombay",
          "Brasília",
          "Cairo",
          "Calcutta",
          "Cali",
          "Cape Town",
          "Casablanca",
          "Changchun",
          "Chengdu",
          "Chicago",
          "Chongqing",
          "Dakar",
          "Dalian",
          "Dar Es Salaam",
          "Delhi",
          "Dhaka",
          "Durban",
          "Faisalabad",
          "Fortaleza",
          "Gizeh",
          "Guangzhou",
          "Harare",
          "Harbin",
          "Ho Chi Minh City",
          "Hyderabad",
          "Ibadan",
          "Istanbul",
          "Izmir",
          "Jaipur",
          "Jakarta",
          "Jiddah",
          "Jinan",
          "Kabul",
          "Kano",
          "Kanpur",
          "Karachi",
          "Kiev",
          "Kinshasa",
          "Lagos",
          "Lahore",
          "Lakhnau",
          "Lima",
          "London",
          "Los Angeles",
          "Luanda",
          "Madras",
          "Madrid",
          "Manila",
          "Mashhad",
          "Melbourne",
          "Mexico",
          "Mogadishu",
          "Montreal",
          "Moscow",
          "Nagoya",
          "Nagpur",
          "Nairobi",
          "Nanjing",
          "New Delhi",
          "New York",
          "Paris",
          "Peking",
          "Pune",
          "Rangoon",
          "Rio De Janeiro",
          "Riyadh",
          "Rome",
          "Saint Petersburg",
          "Salvador",
          "Santiago",
          "Santo Domingo",
          "Seoul",
          "Shanghai",
          "Shenyang",
          "Singapore",
          "Surabaya",
          "Surat",
          "Sydney",
          "São Paulo",
          "Taipei",
          "Taiyuan",
          "Tangshan",
          "Tianjin",
          "Tokyo",
          "Toronto",
          "Umm Durman",
          "Wuhan",
          "Xian"
         ],
         "lat": [
          5.63,
          8.84,
          23.31,
          36.17,
          31.35,
          39.38,
          32.95,
          12.05,
          13.66,
          -20.09,
          52.24,
          4.02,
          18.48,
          -15.27,
          29.74,
          23.31,
          4.02,
          -32.95,
          32.95,
          44.2,
          31.35,
          42.59,
          29.74,
          15.27,
          39.38,
          -7.23,
          28.13,
          23.31,
          -29.74,
          31.35,
          -4.02,
          29.74,
          23.31,
          -18.48,
          45.81,
          10.45,
          16.87,
          7.23,
          40.99,
          37.78,
          26.52,
          -5.63,
          21.7,
          36.17,
          34.56,
          12.05,
          26.52,
          24.92,
          50.63,
          -4.02,
          5.63,
          31.35,
          26.52,
          -12.05,
          52.24,
          34.56,
          -8.84,
          13.66,
          40.99,
          15.27,
          36.17,
          -37.78,
          20.09,
          2.41,
          45.81,
          55.45,
          34.56,
          21.7,
          -0.8,
          31.35,
          28.13,
          40.99,
          49.03,
          39.38,
          18.48,
          16.87,
          -23.31,
          24.92,
          42.59,
          60.27,
          -13.66,
          -32.95,
          18.48,
          37.78,
          31.35,
          40.99,
          0.8,
          -7.23,
          21.7,
          -34.56,
          -23.31,
          24.92,
          37.78,
          37.78,
          39.38,
          36.17,
          44.2,
          15.27,
          29.74,
          34.56
         ],
         "legendgroup": "",
         "lon": [
          -3.23,
          38.11,
          72.52,
          37.79,
          30.16,
          33.29,
          45,
          77.26,
          99.91,
          -44.36,
          13.14,
          -74.73,
          72.68,
          -47.5,
          31.38,
          88.25,
          -76.34,
          18.19,
          -6.7,
          125.22,
          103.66,
          -87.27,
          107.08,
          -17.5,
          120.69,
          39.73,
          77.27,
          90,
          31.38,
          73.51,
          -40.98,
          31.38,
          112.72,
          30.42,
          125.77,
          107.18,
          78.7,
          4.05,
          29.82,
          26.44,
          75.22,
          106.55,
          38.94,
          117.35,
          70.05,
          8.22,
          80.6,
          67.39,
          31.69,
          15.27,
          3.23,
          73.51,
          80.6,
          -77.26,
          0,
          -118.7,
          13.78,
          80.09,
          -4.26,
          120.83,
          59.67,
          144.41,
          -98.96,
          45.8,
          -72.69,
          36.85,
          136.22,
          78.75,
          36.16,
          118.74,
          77.27,
          -74.56,
          2.45,
          116.53,
          74.37,
          95.44,
          -42.82,
          46.11,
          13.09,
          29.19,
          -38.81,
          -69.89,
          -69.3,
          126.1,
          120.63,
          123.55,
          103.66,
          112.7,
          73.56,
          151.78,
          -46.31,
          122.36,
          111.86,
          113.9,
          116.53,
          139.23,
          -80.5,
          32.5,
          114.46,
          108.97
         ],
         "marker": {
          "color": [
           0.020535482851270975,
           2.0263478175145924,
           0.030223013157483443,
           0.04339808803009205,
           -0.2449547102508412,
           1.8145241793385853,
           0.04921945049984366,
           0.5682158660765583,
           0.5347116393521836,
           -0.957946137014386,
           0.004568205128206797,
           0.013610352421569043,
           -0.33498649279206355,
           0.009122656341010815,
           0.052788735938863615,
           0.013349417929425634,
           0.009835767005512181,
           -0.0388610598344883,
           0.03085991148368763,
           1.7164998876749773,
           10.385402816428229,
           0.039947832870401004,
           3.595996827471478,
           -1.4017025524900606,
           0.25271875160091617,
           0.02175032434568819,
           0.022663469401087922,
           0.024259283130101082,
           0.003946330176083829,
           0.03160476026140583,
           -0.00554062346343897,
           0.4600416666667066,
           6.447579450851711,
           -0.7668468575814457,
           0.4764822448679023,
           0.292147124092415,
           0.8326651853187209,
           -0.11204210734837482,
           1.1810208333333359,
           0.8081874999999957,
           0.022741288435745875,
           0.0551602627978775,
           0.04775205594936811,
           1.70533305572879,
           0.028354769242926892,
           0.04881574281766126,
           0.017152219179499117,
           0.02833831768957757,
           0.09208820838280174,
           0.19780558383099714,
           0.018879461600766024,
           0.03160487514967274,
           0.01802679437070065,
           0.005756034481463066,
           -0.11054125320427786,
           1.1214657883035044,
           0.015359343434339161,
           0.6332731832984525,
           0.013518742888165415,
           0.5325964744624893,
           5.255243502744814,
           0.0363762254901975,
           0.915944230224126,
           0.035719652983528964,
           0.22827350231756072,
           0.08089349005623885,
           0.022331509506431597,
           1.7531657700596397,
           0.03612013134657611,
           1.7518978029201993,
           0.0217767461705686,
           0.3606834641570652,
           0.0027910899031464145,
           1.8462279068407834,
           0.027485392240645223,
           0.10552146224300459,
           0.01927091847702015,
           0.06578039356705631,
           0.04199259486958893,
           0.05344703343689065,
           0.025108755472172686,
           0.011334484107094707,
           0.016779299035885178,
           -0.07215492712150412,
           1.3849284350247295,
           1.7657327826891203,
           0.022136160714298653,
           -0.041370121729419215,
           0.020565463979487376,
           0.02510384105982164,
           0.0021196694396785998,
           -0.02890308209231461,
           16.906013654787635,
           4.459665522857243,
           1.831331907661783,
           0.024624360904993342,
           0.4061128644625639,
           0.053960459200824124,
           7.413004205793756,
           6.76711395968365
          ],
          "coloraxis": "coloraxis",
          "symbol": "circle"
         },
         "mode": "markers",
         "name": "",
         "showlegend": false,
         "type": "scattergeo"
        }
       ],
       "layout": {
        "coloraxis": {
         "colorbar": {
          "title": {
           "text": "0"
          }
         },
         "colorscale": [
          [
           0,
           "#0d0887"
          ],
          [
           0.1111111111111111,
           "#46039f"
          ],
          [
           0.2222222222222222,
           "#7201a8"
          ],
          [
           0.3333333333333333,
           "#9c179e"
          ],
          [
           0.4444444444444444,
           "#bd3786"
          ],
          [
           0.5555555555555556,
           "#d8576b"
          ],
          [
           0.6666666666666666,
           "#ed7953"
          ],
          [
           0.7777777777777778,
           "#fb9f3a"
          ],
          [
           0.8888888888888888,
           "#fdca26"
          ],
          [
           1,
           "#f0f921"
          ]
         ]
        },
        "geo": {
         "center": {},
         "domain": {
          "x": [
           0,
           1
          ],
          "y": [
           0,
           1
          ]
         }
        },
        "legend": {
         "tracegroupgap": 0
        },
        "margin": {
         "t": 60
        },
        "template": {
         "data": {
          "bar": [
           {
            "error_x": {
             "color": "#2a3f5f"
            },
            "error_y": {
             "color": "#2a3f5f"
            },
            "marker": {
             "line": {
              "color": "#E5ECF6",
              "width": 0.5
             },
             "pattern": {
              "fillmode": "overlay",
              "size": 10,
              "solidity": 0.2
             }
            },
            "type": "bar"
           }
          ],
          "barpolar": [
           {
            "marker": {
             "line": {
              "color": "#E5ECF6",
              "width": 0.5
             },
             "pattern": {
              "fillmode": "overlay",
              "size": 10,
              "solidity": 0.2
             }
            },
            "type": "barpolar"
           }
          ],
          "carpet": [
           {
            "aaxis": {
             "endlinecolor": "#2a3f5f",
             "gridcolor": "white",
             "linecolor": "white",
             "minorgridcolor": "white",
             "startlinecolor": "#2a3f5f"
            },
            "baxis": {
             "endlinecolor": "#2a3f5f",
             "gridcolor": "white",
             "linecolor": "white",
             "minorgridcolor": "white",
             "startlinecolor": "#2a3f5f"
            },
            "type": "carpet"
           }
          ],
          "choropleth": [
           {
            "colorbar": {
             "outlinewidth": 0,
             "ticks": ""
            },
            "type": "choropleth"
           }
          ],
          "contour": [
           {
            "colorbar": {
             "outlinewidth": 0,
             "ticks": ""
            },
            "colorscale": [
             [
              0,
              "#0d0887"
             ],
             [
              0.1111111111111111,
              "#46039f"
             ],
             [
              0.2222222222222222,
              "#7201a8"
             ],
             [
              0.3333333333333333,
              "#9c179e"
             ],
             [
              0.4444444444444444,
              "#bd3786"
             ],
             [
              0.5555555555555556,
              "#d8576b"
             ],
             [
              0.6666666666666666,
              "#ed7953"
             ],
             [
              0.7777777777777778,
              "#fb9f3a"
             ],
             [
              0.8888888888888888,
              "#fdca26"
             ],
             [
              1,
              "#f0f921"
             ]
            ],
            "type": "contour"
           }
          ],
          "contourcarpet": [
           {
            "colorbar": {
             "outlinewidth": 0,
             "ticks": ""
            },
            "type": "contourcarpet"
           }
          ],
          "heatmap": [
           {
            "colorbar": {
             "outlinewidth": 0,
             "ticks": ""
            },
            "colorscale": [
             [
              0,
              "#0d0887"
             ],
             [
              0.1111111111111111,
              "#46039f"
             ],
             [
              0.2222222222222222,
              "#7201a8"
             ],
             [
              0.3333333333333333,
              "#9c179e"
             ],
             [
              0.4444444444444444,
              "#bd3786"
             ],
             [
              0.5555555555555556,
              "#d8576b"
             ],
             [
              0.6666666666666666,
              "#ed7953"
             ],
             [
              0.7777777777777778,
              "#fb9f3a"
             ],
             [
              0.8888888888888888,
              "#fdca26"
             ],
             [
              1,
              "#f0f921"
             ]
            ],
            "type": "heatmap"
           }
          ],
          "heatmapgl": [
           {
            "colorbar": {
             "outlinewidth": 0,
             "ticks": ""
            },
            "colorscale": [
             [
              0,
              "#0d0887"
             ],
             [
              0.1111111111111111,
              "#46039f"
             ],
             [
              0.2222222222222222,
              "#7201a8"
             ],
             [
              0.3333333333333333,
              "#9c179e"
             ],
             [
              0.4444444444444444,
              "#bd3786"
             ],
             [
              0.5555555555555556,
              "#d8576b"
             ],
             [
              0.6666666666666666,
              "#ed7953"
             ],
             [
              0.7777777777777778,
              "#fb9f3a"
             ],
             [
              0.8888888888888888,
              "#fdca26"
             ],
             [
              1,
              "#f0f921"
             ]
            ],
            "type": "heatmapgl"
           }
          ],
          "histogram": [
           {
            "marker": {
             "pattern": {
              "fillmode": "overlay",
              "size": 10,
              "solidity": 0.2
             }
            },
            "type": "histogram"
           }
          ],
          "histogram2d": [
           {
            "colorbar": {
             "outlinewidth": 0,
             "ticks": ""
            },
            "colorscale": [
             [
              0,
              "#0d0887"
             ],
             [
              0.1111111111111111,
              "#46039f"
             ],
             [
              0.2222222222222222,
              "#7201a8"
             ],
             [
              0.3333333333333333,
              "#9c179e"
             ],
             [
              0.4444444444444444,
              "#bd3786"
             ],
             [
              0.5555555555555556,
              "#d8576b"
             ],
             [
              0.6666666666666666,
              "#ed7953"
             ],
             [
              0.7777777777777778,
              "#fb9f3a"
             ],
             [
              0.8888888888888888,
              "#fdca26"
             ],
             [
              1,
              "#f0f921"
             ]
            ],
            "type": "histogram2d"
           }
          ],
          "histogram2dcontour": [
           {
            "colorbar": {
             "outlinewidth": 0,
             "ticks": ""
            },
            "colorscale": [
             [
              0,
              "#0d0887"
             ],
             [
              0.1111111111111111,
              "#46039f"
             ],
             [
              0.2222222222222222,
              "#7201a8"
             ],
             [
              0.3333333333333333,
              "#9c179e"
             ],
             [
              0.4444444444444444,
              "#bd3786"
             ],
             [
              0.5555555555555556,
              "#d8576b"
             ],
             [
              0.6666666666666666,
              "#ed7953"
             ],
             [
              0.7777777777777778,
              "#fb9f3a"
             ],
             [
              0.8888888888888888,
              "#fdca26"
             ],
             [
              1,
              "#f0f921"
             ]
            ],
            "type": "histogram2dcontour"
           }
          ],
          "mesh3d": [
           {
            "colorbar": {
             "outlinewidth": 0,
             "ticks": ""
            },
            "type": "mesh3d"
           }
          ],
          "parcoords": [
           {
            "line": {
             "colorbar": {
              "outlinewidth": 0,
              "ticks": ""
             }
            },
            "type": "parcoords"
           }
          ],
          "pie": [
           {
            "automargin": true,
            "type": "pie"
           }
          ],
          "scatter": [
           {
            "fillpattern": {
             "fillmode": "overlay",
             "size": 10,
             "solidity": 0.2
            },
            "type": "scatter"
           }
          ],
          "scatter3d": [
           {
            "line": {
             "colorbar": {
              "outlinewidth": 0,
              "ticks": ""
             }
            },
            "marker": {
             "colorbar": {
              "outlinewidth": 0,
              "ticks": ""
             }
            },
            "type": "scatter3d"
           }
          ],
          "scattercarpet": [
           {
            "marker": {
             "colorbar": {
              "outlinewidth": 0,
              "ticks": ""
             }
            },
            "type": "scattercarpet"
           }
          ],
          "scattergeo": [
           {
            "marker": {
             "colorbar": {
              "outlinewidth": 0,
              "ticks": ""
             }
            },
            "type": "scattergeo"
           }
          ],
          "scattergl": [
           {
            "marker": {
             "colorbar": {
              "outlinewidth": 0,
              "ticks": ""
             }
            },
            "type": "scattergl"
           }
          ],
          "scattermapbox": [
           {
            "marker": {
             "colorbar": {
              "outlinewidth": 0,
              "ticks": ""
             }
            },
            "type": "scattermapbox"
           }
          ],
          "scatterpolar": [
           {
            "marker": {
             "colorbar": {
              "outlinewidth": 0,
              "ticks": ""
             }
            },
            "type": "scatterpolar"
           }
          ],
          "scatterpolargl": [
           {
            "marker": {
             "colorbar": {
              "outlinewidth": 0,
              "ticks": ""
             }
            },
            "type": "scatterpolargl"
           }
          ],
          "scatterternary": [
           {
            "marker": {
             "colorbar": {
              "outlinewidth": 0,
              "ticks": ""
             }
            },
            "type": "scatterternary"
           }
          ],
          "surface": [
           {
            "colorbar": {
             "outlinewidth": 0,
             "ticks": ""
            },
            "colorscale": [
             [
              0,
              "#0d0887"
             ],
             [
              0.1111111111111111,
              "#46039f"
             ],
             [
              0.2222222222222222,
              "#7201a8"
             ],
             [
              0.3333333333333333,
              "#9c179e"
             ],
             [
              0.4444444444444444,
              "#bd3786"
             ],
             [
              0.5555555555555556,
              "#d8576b"
             ],
             [
              0.6666666666666666,
              "#ed7953"
             ],
             [
              0.7777777777777778,
              "#fb9f3a"
             ],
             [
              0.8888888888888888,
              "#fdca26"
             ],
             [
              1,
              "#f0f921"
             ]
            ],
            "type": "surface"
           }
          ],
          "table": [
           {
            "cells": {
             "fill": {
              "color": "#EBF0F8"
             },
             "line": {
              "color": "white"
             }
            },
            "header": {
             "fill": {
              "color": "#C8D4E3"
             },
             "line": {
              "color": "white"
             }
            },
            "type": "table"
           }
          ]
         },
         "layout": {
          "annotationdefaults": {
           "arrowcolor": "#2a3f5f",
           "arrowhead": 0,
           "arrowwidth": 1
          },
          "autotypenumbers": "strict",
          "coloraxis": {
           "colorbar": {
            "outlinewidth": 0,
            "ticks": ""
           }
          },
          "colorscale": {
           "diverging": [
            [
             0,
             "#8e0152"
            ],
            [
             0.1,
             "#c51b7d"
            ],
            [
             0.2,
             "#de77ae"
            ],
            [
             0.3,
             "#f1b6da"
            ],
            [
             0.4,
             "#fde0ef"
            ],
            [
             0.5,
             "#f7f7f7"
            ],
            [
             0.6,
             "#e6f5d0"
            ],
            [
             0.7,
             "#b8e186"
            ],
            [
             0.8,
             "#7fbc41"
            ],
            [
             0.9,
             "#4d9221"
            ],
            [
             1,
             "#276419"
            ]
           ],
           "sequential": [
            [
             0,
             "#0d0887"
            ],
            [
             0.1111111111111111,
             "#46039f"
            ],
            [
             0.2222222222222222,
             "#7201a8"
            ],
            [
             0.3333333333333333,
             "#9c179e"
            ],
            [
             0.4444444444444444,
             "#bd3786"
            ],
            [
             0.5555555555555556,
             "#d8576b"
            ],
            [
             0.6666666666666666,
             "#ed7953"
            ],
            [
             0.7777777777777778,
             "#fb9f3a"
            ],
            [
             0.8888888888888888,
             "#fdca26"
            ],
            [
             1,
             "#f0f921"
            ]
           ],
           "sequentialminus": [
            [
             0,
             "#0d0887"
            ],
            [
             0.1111111111111111,
             "#46039f"
            ],
            [
             0.2222222222222222,
             "#7201a8"
            ],
            [
             0.3333333333333333,
             "#9c179e"
            ],
            [
             0.4444444444444444,
             "#bd3786"
            ],
            [
             0.5555555555555556,
             "#d8576b"
            ],
            [
             0.6666666666666666,
             "#ed7953"
            ],
            [
             0.7777777777777778,
             "#fb9f3a"
            ],
            [
             0.8888888888888888,
             "#fdca26"
            ],
            [
             1,
             "#f0f921"
            ]
           ]
          },
          "colorway": [
           "#636efa",
           "#EF553B",
           "#00cc96",
           "#ab63fa",
           "#FFA15A",
           "#19d3f3",
           "#FF6692",
           "#B6E880",
           "#FF97FF",
           "#FECB52"
          ],
          "font": {
           "color": "#2a3f5f"
          },
          "geo": {
           "bgcolor": "white",
           "lakecolor": "white",
           "landcolor": "#E5ECF6",
           "showlakes": true,
           "showland": true,
           "subunitcolor": "white"
          },
          "hoverlabel": {
           "align": "left"
          },
          "hovermode": "closest",
          "mapbox": {
           "style": "light"
          },
          "paper_bgcolor": "white",
          "plot_bgcolor": "#E5ECF6",
          "polar": {
           "angularaxis": {
            "gridcolor": "white",
            "linecolor": "white",
            "ticks": ""
           },
           "bgcolor": "#E5ECF6",
           "radialaxis": {
            "gridcolor": "white",
            "linecolor": "white",
            "ticks": ""
           }
          },
          "scene": {
           "xaxis": {
            "backgroundcolor": "#E5ECF6",
            "gridcolor": "white",
            "gridwidth": 2,
            "linecolor": "white",
            "showbackground": true,
            "ticks": "",
            "zerolinecolor": "white"
           },
           "yaxis": {
            "backgroundcolor": "#E5ECF6",
            "gridcolor": "white",
            "gridwidth": 2,
            "linecolor": "white",
            "showbackground": true,
            "ticks": "",
            "zerolinecolor": "white"
           },
           "zaxis": {
            "backgroundcolor": "#E5ECF6",
            "gridcolor": "white",
            "gridwidth": 2,
            "linecolor": "white",
            "showbackground": true,
            "ticks": "",
            "zerolinecolor": "white"
           }
          },
          "shapedefaults": {
           "line": {
            "color": "#2a3f5f"
           }
          },
          "ternary": {
           "aaxis": {
            "gridcolor": "white",
            "linecolor": "white",
            "ticks": ""
           },
           "baxis": {
            "gridcolor": "white",
            "linecolor": "white",
            "ticks": ""
           },
           "bgcolor": "#E5ECF6",
           "caxis": {
            "gridcolor": "white",
            "linecolor": "white",
            "ticks": ""
           }
          },
          "title": {
           "x": 0.05
          },
          "xaxis": {
           "automargin": true,
           "gridcolor": "white",
           "linecolor": "white",
           "ticks": "",
           "title": {
            "standoff": 15
           },
           "zerolinecolor": "white",
           "zerolinewidth": 2
          },
          "yaxis": {
           "automargin": true,
           "gridcolor": "white",
           "linecolor": "white",
           "ticks": "",
           "title": {
            "standoff": 15
           },
           "zerolinecolor": "white",
           "zerolinewidth": 2
          }
         }
        }
       }
      }
     },
     "metadata": {},
     "output_type": "display_data"
    }
   ],
   "source": [
    "fig = px.scatter_geo(df_mini_pwlf, \n",
    "                     lon=\"Longitude\",\n",
    "                     lat=\"Latitude\",\n",
    "                     color=0, \n",
    "                     hover_name=\"City\" \n",
    "                    )\n",
    "fig.show()"
   ]
  },
  {
   "cell_type": "markdown",
   "metadata": {},
   "source": []
  },
  {
   "cell_type": "markdown",
   "metadata": {},
   "source": [
    "# *Задание 3.8 (8 баллов)\n",
    "\n",
    "Цель - создать проект, который как минимум включает:\n",
    "1. Использование юнит-тестов ([pytest](https://pytest.org)).\n",
    "2. Применение средств форматирования и проверки исходного кода (например: [isort](https://pycqa.github.io/isort/), [black](https://black.readthedocs.io/en/stable/), [flake8](https://flake8.pycqa.org/en/latest/), [mypy](https://mypy.readthedocs.io/en/stable/)).\n",
    "3. Спецификацию проекта в [pyproject.toml](https://pip.pypa.io/en/stable/reference/build-system/pyproject-toml/).\n",
    "4. Использование утилит для работы с командной строкой ([argparse](https://docs.python.org/3/library/argparse.html), [click](https://click.palletsprojects.com/en/8.1.x/) и т.п.)\n",
    "5. Сборку проекта в Wheel-файл.\n",
    "\n",
    "Проект должен быть загружен в репозиторий. Функционал - произвольный, но должны использоваться данные из этого домашнего задания. Сам файл передается в качестве первого аргумента командной строки.  Например:\n",
    "\n",
    "> python3 -m homeproject.app GlobalLandTemperaturesByMajorCity.csv 1980\n",
    "\n",
    "Выдает самый жаркий месяц и город по наблюдениям за 1980 год."
   ]
  },
  {
   "cell_type": "markdown",
   "metadata": {},
   "source": [
    "*Ссылка на проект*"
   ]
  },
  {
   "cell_type": "markdown",
   "metadata": {},
   "source": []
  }
 ],
 "metadata": {
  "kernelspec": {
   "display_name": "Python 3",
   "language": "python",
   "name": "python3"
  },
  "language_info": {
   "codemirror_mode": {
    "name": "ipython",
    "version": 3
   },
   "file_extension": ".py",
   "mimetype": "text/x-python",
   "name": "python",
   "nbconvert_exporter": "python",
   "pygments_lexer": "ipython3",
   "version": "3.10.7"
  },
  "orig_nbformat": 4,
  "vscode": {
   "interpreter": {
    "hash": "beedbe2faf2f7048d727558d0bc3221e7eba2a0b921cac4d4771b2feb8f74b30"
   }
  }
 },
 "nbformat": 4,
 "nbformat_minor": 2
}
