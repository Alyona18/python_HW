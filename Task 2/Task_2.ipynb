{
 "cells": [
  {
   "cell_type": "markdown",
   "metadata": {},
   "source": [
    "# Задание 2.\n",
    "\n",
    "**NB. Все упражнения ниже нужно делать без использования циклов Python в явном (`while`, `for`) и неявном виде (list comprehension, `map`, `reduce` и пр)**\n",
    "\n",
    "Задания по манипуляциям с массивами чаще всего решаются в одно/два выражения. "
   ]
  },
  {
   "cell_type": "code",
   "execution_count": 1,
   "metadata": {},
   "outputs": [
    {
     "data": {
      "text/plain": [
       "array([[17, 75, 42, ..., 80, 88, 22],\n",
       "       [47, 56, 18, ..., 22, 49, 54],\n",
       "       [40, 66, 87, ..., 57, 28, 78],\n",
       "       ...,\n",
       "       [78, 97, 96, ..., 37, 43, 39],\n",
       "       [52, 49, 63, ..., 84, 60,  9],\n",
       "       [67, 91, 12, ..., 75, 21, 66]])"
      ]
     },
     "execution_count": 1,
     "metadata": {},
     "output_type": "execute_result"
    }
   ],
   "source": [
    "%matplotlib inline\n",
    "\n",
    "import numpy as np\n",
    "import matplotlib.pyplot as plt\n",
    "import seaborn as sns\n",
    "import scipy as sp\n",
    "sns.set_theme()\n",
    "\n",
    "A = np.random.randint(0, 100, size=(200, 50))\n",
    "A"
   ]
  },
  {
   "cell_type": "markdown",
   "metadata": {},
   "source": [
    "# Задание 2.1 (2 балла)\n",
    "\n",
    "Сгенерируйте новый массив, в котором столбцы массива `A` переставлены в случайном порядке"
   ]
  },
  {
   "cell_type": "code",
   "execution_count": 2,
   "metadata": {},
   "outputs": [],
   "source": [
    "B = np.full_like(A, A)\n",
    "np.random.shuffle(B.T)"
   ]
  },
  {
   "cell_type": "code",
   "execution_count": 3,
   "metadata": {},
   "outputs": [
    {
     "name": "stdout",
     "output_type": "stream",
     "text": [
      "[[22 56 62 ... 78 43 87]\n",
      " [54 53 30 ... 18 65 14]\n",
      " [78 61 47 ... 34 25 45]\n",
      " ...\n",
      " [39 21 42 ... 10 57 15]\n",
      " [ 9 28 83 ... 22 58 15]\n",
      " [66 94 97 ... 80 98 81]]\n"
     ]
    },
    {
     "data": {
      "text/plain": [
       "(200, 50)"
      ]
     },
     "execution_count": 3,
     "metadata": {},
     "output_type": "execute_result"
    }
   ],
   "source": [
    "print(B)\n",
    "B.shape"
   ]
  },
  {
   "cell_type": "markdown",
   "metadata": {},
   "source": [
    "# Задание 2.2 (5 баллов)\n",
    "\n",
    "Сгенерируйте новый массив, который содержит только те строки массива `A`, в которых: \n",
    "- сумма элементов по четным столбцам (индексы $0, 2, \\ldots$) больше среднего значения (по всему массиву) суммы элементов по нечетным столбцам (индексы $1, 3, \\ldots$) "
   ]
  },
  {
   "cell_type": "code",
   "execution_count": 4,
   "metadata": {},
   "outputs": [
    {
     "name": "stdout",
     "output_type": "stream",
     "text": [
      "[[17 75 42 ... 80 88 22]\n",
      " [47 56 18 ... 22 49 54]\n",
      " [40 66 87 ... 57 28 78]\n",
      " ...\n",
      " [78 97 96 ... 37 43 39]\n",
      " [52 49 63 ... 84 60  9]\n",
      " [67 91 12 ... 75 21 66]]\n"
     ]
    },
    {
     "data": {
      "text/plain": [
       "(200, 50)"
      ]
     },
     "execution_count": 4,
     "metadata": {},
     "output_type": "execute_result"
    }
   ],
   "source": [
    "\n",
    "arr = A[A[::, ::2].sum(axis=1) > A[::,1::2].mean()]\n",
    "print(arr)\n",
    "arr.shape\n",
    "\n"
   ]
  },
  {
   "cell_type": "code",
   "execution_count": 5,
   "metadata": {},
   "outputs": [
    {
     "data": {
      "text/plain": [
       "array([ True,  True,  True,  True,  True,  True,  True,  True,  True,\n",
       "        True,  True,  True,  True,  True,  True,  True,  True,  True,\n",
       "        True,  True,  True,  True,  True,  True,  True,  True,  True,\n",
       "        True,  True,  True,  True,  True,  True,  True,  True,  True,\n",
       "        True,  True,  True,  True,  True,  True,  True,  True,  True,\n",
       "        True,  True,  True,  True,  True,  True,  True,  True,  True,\n",
       "        True,  True,  True,  True,  True,  True,  True,  True,  True,\n",
       "        True,  True,  True,  True,  True,  True,  True,  True,  True,\n",
       "        True,  True,  True,  True,  True,  True,  True,  True,  True,\n",
       "        True,  True,  True,  True,  True,  True,  True,  True,  True,\n",
       "        True,  True,  True,  True,  True,  True,  True,  True,  True,\n",
       "        True,  True,  True,  True,  True,  True,  True,  True,  True,\n",
       "        True,  True,  True,  True,  True,  True,  True,  True,  True,\n",
       "        True,  True,  True,  True,  True,  True,  True,  True,  True,\n",
       "        True,  True,  True,  True,  True,  True,  True,  True,  True,\n",
       "        True,  True,  True,  True,  True,  True,  True,  True,  True,\n",
       "        True,  True,  True,  True,  True,  True,  True,  True,  True,\n",
       "        True,  True,  True,  True,  True,  True,  True,  True,  True,\n",
       "        True,  True,  True,  True,  True,  True,  True,  True,  True,\n",
       "        True,  True,  True,  True,  True,  True,  True,  True,  True,\n",
       "        True,  True,  True,  True,  True,  True,  True,  True,  True,\n",
       "        True,  True,  True,  True,  True,  True,  True,  True,  True,\n",
       "        True,  True])"
      ]
     },
     "execution_count": 5,
     "metadata": {},
     "output_type": "execute_result"
    }
   ],
   "source": [
    "A[::, ::2].sum(axis=1) > A[::,1::2].mean()\n"
   ]
  },
  {
   "cell_type": "markdown",
   "metadata": {},
   "source": [
    "# Задача 2.3 (3 балла)\n",
    "\n",
    "Найдите индекс строки массива `A`, в которой разница между максимальным и минимальным элементом максимальна"
   ]
  },
  {
   "cell_type": "code",
   "execution_count": 6,
   "metadata": {},
   "outputs": [
    {
     "name": "stdout",
     "output_type": "stream",
     "text": [
      "index =  11\n"
     ]
    },
    {
     "data": {
      "text/plain": [
       "array([68,  2, 44,  2, 60, 26, 26, 73, 92, 39, 99, 74, 23,  2,  0, 17, 45,\n",
       "       82, 61, 96, 30, 92, 46, 81,  5, 68, 21, 38, 59, 19,  2, 88, 75, 56,\n",
       "       48, 35, 23, 65, 28, 94, 19, 58, 13, 46, 27, 88, 27, 66, 26, 76])"
      ]
     },
     "execution_count": 6,
     "metadata": {},
     "output_type": "execute_result"
    }
   ],
   "source": [
    "A.shape\n",
    "B = A.max(axis=1) - A.min(axis=1)\n",
    "print(\"index = \", B.argmax())\n",
    "A[B.argmax()]"
   ]
  },
  {
   "cell_type": "markdown",
   "metadata": {},
   "source": [
    "# Задание 2.4 (7 баллов)\n",
    "\n",
    "Сгенерируйте массив той же размерности, что и `A`, но в котором каждый элемент заменен на его порядковый номер (начиная с 1) в отсортированном по возрастанию массиве из элементов `A`\n",
    "\n",
    "Если `A` выглядит так:\n",
    "$$\n",
    "\\begin{pmatrix}\n",
    "12 & 14\\\\\n",
    "1 & 2\n",
    "\\end{pmatrix}\n",
    "$$\n",
    "то результат должен быть\n",
    "$$\n",
    "\\begin{pmatrix}\n",
    "3 & 4\\\\\n",
    "1 & 2\n",
    "\\end{pmatrix}\n",
    "$$\n",
    "\n",
    "*Tip: рассмотрите возможность неоднократного применения [argsort()](https://numpy.org/doc/stable/reference/generated/numpy.ndarray.argsort.html)*"
   ]
  },
  {
   "cell_type": "code",
   "execution_count": 7,
   "metadata": {},
   "outputs": [
    {
     "data": {
      "text/plain": [
       "array([[1810, 7684, 4350, ..., 8076, 8854, 2356],\n",
       "       [4807, 5805, 1842, ..., 2258, 5003, 5536],\n",
       "       [4197, 6825, 8774, ..., 5827, 2979, 7905],\n",
       "       ...,\n",
       "       [7938, 9743, 9611, ..., 3872, 4402, 4025],\n",
       "       [5350, 5002, 6514, ..., 8474, 6203,  990],\n",
       "       [6898, 9152, 1262, ..., 7676, 2163, 6765]], dtype=int64)"
      ]
     },
     "execution_count": 7,
     "metadata": {},
     "output_type": "execute_result"
    }
   ],
   "source": [
    "ind = np.unravel_index(np.argsort(A,axis=None), A.shape)\n",
    "A_ind = ind[0]*A.shape[1]+ind[1]\n",
    "A_ind.argsort().reshape(A.shape) + 1 \n"
   ]
  },
  {
   "cell_type": "markdown",
   "metadata": {},
   "source": [
    "# Задание 2.5 (2 балла)\n",
    "\n",
    "Примените $\\min-\\max$ - нормализацию к строкам массива `A`. То есть нужно получить новый массивы, в каждой строке которого максимальный элементы равен $1$, минимальный - $0$. "
   ]
  },
  {
   "cell_type": "code",
   "execution_count": 8,
   "metadata": {},
   "outputs": [
    {
     "data": {
      "text/plain": [
       "array([[0.16842105, 0.77894737, 0.43157895, ..., 0.83157895, 0.91578947,\n",
       "        0.22105263],\n",
       "       [0.4742268 , 0.56701031, 0.17525773, ..., 0.21649485, 0.49484536,\n",
       "        0.54639175],\n",
       "       [0.37777778, 0.66666667, 0.9       , ..., 0.56666667, 0.24444444,\n",
       "        0.8       ],\n",
       "       ...,\n",
       "       [0.79569892, 1.        , 0.98924731, ..., 0.35483871, 0.41935484,\n",
       "        0.37634409],\n",
       "       [0.49462366, 0.46236559, 0.61290323, ..., 0.83870968, 0.58064516,\n",
       "        0.03225806],\n",
       "       [0.68041237, 0.92783505, 0.11340206, ..., 0.7628866 , 0.20618557,\n",
       "        0.67010309]])"
      ]
     },
     "execution_count": 8,
     "metadata": {},
     "output_type": "execute_result"
    }
   ],
   "source": [
    "arr_min = np.tile(A.min(axis=1).reshape((A.shape[0],1)), (1,A.shape[1]))\n",
    "arr_max = np.tile(A.max(axis=1).reshape((A.shape[0],1)), (1,A.shape[1]))\n",
    "Norm_A = (A-arr_min)/(arr_max-arr_min)\n",
    "Norm_A"
   ]
  },
  {
   "cell_type": "markdown",
   "metadata": {},
   "source": [
    "# Задание 2.6 (2 балла)\n",
    "\n",
    "Сгенерируйте новый трехмерный массив, размерности $10 \\times 200 \\times 50$. Подмассивы по нулевой оси должны состоять из элементов `A`, умноженных на $1 - 10$ соответственно"
   ]
  },
  {
   "cell_type": "code",
   "execution_count": 9,
   "metadata": {},
   "outputs": [
    {
     "name": "stdout",
     "output_type": "stream",
     "text": [
      "shape:  (10, 200, 50)\n"
     ]
    },
    {
     "data": {
      "text/plain": [
       "array([[[ 17,  75,  42, ...,  80,  88,  22],\n",
       "        [ 47,  56,  18, ...,  22,  49,  54],\n",
       "        [ 40,  66,  87, ...,  57,  28,  78],\n",
       "        ...,\n",
       "        [ 78,  97,  96, ...,  37,  43,  39],\n",
       "        [ 52,  49,  63, ...,  84,  60,   9],\n",
       "        [ 67,  91,  12, ...,  75,  21,  66]],\n",
       "\n",
       "       [[ 34, 150,  84, ..., 160, 176,  44],\n",
       "        [ 94, 112,  36, ...,  44,  98, 108],\n",
       "        [ 80, 132, 174, ..., 114,  56, 156],\n",
       "        ...,\n",
       "        [156, 194, 192, ...,  74,  86,  78],\n",
       "        [104,  98, 126, ..., 168, 120,  18],\n",
       "        [134, 182,  24, ..., 150,  42, 132]],\n",
       "\n",
       "       [[ 51, 225, 126, ..., 240, 264,  66],\n",
       "        [141, 168,  54, ...,  66, 147, 162],\n",
       "        [120, 198, 261, ..., 171,  84, 234],\n",
       "        ...,\n",
       "        [234, 291, 288, ..., 111, 129, 117],\n",
       "        [156, 147, 189, ..., 252, 180,  27],\n",
       "        [201, 273,  36, ..., 225,  63, 198]],\n",
       "\n",
       "       ...,\n",
       "\n",
       "       [[136, 600, 336, ..., 640, 704, 176],\n",
       "        [376, 448, 144, ..., 176, 392, 432],\n",
       "        [320, 528, 696, ..., 456, 224, 624],\n",
       "        ...,\n",
       "        [624, 776, 768, ..., 296, 344, 312],\n",
       "        [416, 392, 504, ..., 672, 480,  72],\n",
       "        [536, 728,  96, ..., 600, 168, 528]],\n",
       "\n",
       "       [[153, 675, 378, ..., 720, 792, 198],\n",
       "        [423, 504, 162, ..., 198, 441, 486],\n",
       "        [360, 594, 783, ..., 513, 252, 702],\n",
       "        ...,\n",
       "        [702, 873, 864, ..., 333, 387, 351],\n",
       "        [468, 441, 567, ..., 756, 540,  81],\n",
       "        [603, 819, 108, ..., 675, 189, 594]],\n",
       "\n",
       "       [[170, 750, 420, ..., 800, 880, 220],\n",
       "        [470, 560, 180, ..., 220, 490, 540],\n",
       "        [400, 660, 870, ..., 570, 280, 780],\n",
       "        ...,\n",
       "        [780, 970, 960, ..., 370, 430, 390],\n",
       "        [520, 490, 630, ..., 840, 600,  90],\n",
       "        [670, 910, 120, ..., 750, 210, 660]]])"
      ]
     },
     "execution_count": 9,
     "metadata": {},
     "output_type": "execute_result"
    }
   ],
   "source": [
    "Big_A = np.array([x * A for x in range(1, 11)])  #считается за явный вид?\n",
    "\n",
    "print(\"shape: \", Big_A.shape)\n",
    "Big_A"
   ]
  },
  {
   "cell_type": "markdown",
   "metadata": {},
   "source": [
    "# Задание 2.7 (2 балла)\n",
    "\n",
    "Создайте новый массив, такой же размерности, как и `A`, в котором сначала сгруппированы четные столбцы `A`, потом  нечетные. Используйте [np.concat()](https://numpy.org/doc/stable/reference/generated/numpy.concatenate.html) "
   ]
  },
  {
   "cell_type": "code",
   "execution_count": 10,
   "metadata": {},
   "outputs": [
    {
     "data": {
      "text/plain": [
       "array([[17, 42, 32, ..., 51, 80, 22],\n",
       "       [47, 18, 26, ..., 69, 22, 54],\n",
       "       [40, 87, 12, ..., 26, 57, 78],\n",
       "       ...,\n",
       "       [78, 96, 70, ..., 55, 37, 39],\n",
       "       [52, 63, 63, ..., 98, 84,  9],\n",
       "       [67, 12, 50, ..., 52, 75, 66]])"
      ]
     },
     "execution_count": 10,
     "metadata": {},
     "output_type": "execute_result"
    }
   ],
   "source": [
    "\n",
    "A_odd = A[::,1::2]\n",
    "A_even = A[::,0::2]\n",
    "\n",
    "New_A = np.concatenate((A_even, A_odd), axis=1)\n",
    "New_A"
   ]
  },
  {
   "cell_type": "markdown",
   "metadata": {},
   "source": [
    "# Задание 2.8 (2 балла)\n",
    "\n",
    "Посчитайте количество строк массива `A`, в который все элементы больше 5. Используйте [np.all()](https://numpy.org/doc/stable/reference/generated/numpy.all.html) "
   ]
  },
  {
   "cell_type": "code",
   "execution_count": 11,
   "metadata": {},
   "outputs": [
    {
     "data": {
      "text/plain": [
       "134"
      ]
     },
     "execution_count": 11,
     "metadata": {},
     "output_type": "execute_result"
    }
   ],
   "source": [
    "A_5 = A-5\n",
    "A_5[A_5 < 0] = 0\n",
    "np.count_nonzero(np.all(A, axis=1))"
   ]
  },
  {
   "cell_type": "markdown",
   "metadata": {},
   "source": [
    "# Задание 2.9 (2 балла)\n",
    "\n",
    "Поделите массив `A` горизонтально на 10 частей и создайте новый массив размерности $20 \\times 50$, который состоит из средних этих частей. Используйте [np.split()](https://numpy.org/doc/stable/reference/generated/numpy.split.html)"
   ]
  },
  {
   "cell_type": "code",
   "execution_count": 12,
   "metadata": {},
   "outputs": [
    {
     "data": {
      "text/plain": [
       "(20, 50)"
      ]
     },
     "execution_count": 12,
     "metadata": {},
     "output_type": "execute_result"
    }
   ],
   "source": [
    "arr_of_means = np.mean(np.split(A, 10, axis=0), axis=0)\n",
    "arr_of_means.shape"
   ]
  },
  {
   "cell_type": "code",
   "execution_count": 13,
   "metadata": {},
   "outputs": [
    {
     "data": {
      "text/plain": [
       "array([[57.5, 55.7, 53.2, 65.6, 56.5, 67.8, 30.5, 49.3, 47.3, 38.7, 43.3,\n",
       "        53.4, 53.7, 49.6, 41.5, 34.8, 55.2, 48.5, 60.1, 44.5, 59.7, 57.7,\n",
       "        31.4, 49.2, 53.2, 58.1, 34.9, 40.3, 40.3, 46.7, 45.4, 43. , 47.1,\n",
       "        41.8, 54. , 44.6, 32.9, 36.9, 44.5, 64.4, 39.3, 44.3, 58.6, 53. ,\n",
       "        43.9, 46.8, 64.5, 55.3, 48.4, 55.1],\n",
       "       [52.5, 56.3, 52.7, 56.4, 50.4, 49.7, 45.1, 38.7, 62.5, 51. , 46.7,\n",
       "        62. , 42.3, 32.6, 39.6, 64.9, 42.7, 48.9, 44.1, 47.9, 63.6, 67.8,\n",
       "        54.9, 35.5, 56.8, 46.1, 60.6, 57.6, 56.2, 51.9, 53.3, 45.7, 59.9,\n",
       "        53.2, 47.9, 64.9, 32. , 41.2, 52.1, 44.7, 43.3, 51. , 42. , 37.2,\n",
       "        71.2, 43.8, 27.5, 49.4, 48.1, 41.2],\n",
       "       [46.9, 47.9, 40.2, 50.6, 59.6, 36.1, 48.7, 43.9, 61.4, 45. , 39.3,\n",
       "        47.7, 60.6, 44.8, 51.5, 37.1, 60.4, 57.7, 44.6, 52.7, 50.2, 43. ,\n",
       "        45.5, 49.7, 34.8, 42.2, 59.3, 62.1, 49.8, 53.3, 47.3, 53.4, 43. ,\n",
       "        44.1, 51.1, 46.1, 39.8, 38.3, 56.3, 48.3, 59. , 64.1, 44.9, 38.7,\n",
       "        38.1, 29.8, 43.9, 76.2, 60.5, 52.1],\n",
       "       [52.4, 41.4, 40. , 43.8, 19. , 55.3, 50.3, 51.7, 33.5, 47.9, 44.3,\n",
       "        42. , 51.2, 44.3, 49.1, 47.9, 48.1, 42.2, 42.2, 41.1, 60.3, 57.6,\n",
       "        66.1, 42.1, 30.6, 53.6, 51.6, 49.3, 51.3, 38.5, 45.9, 43.2, 38.9,\n",
       "        40. , 51.8, 65.1, 51.7, 42.3, 54.1, 55.6, 55.5, 61.8, 62.2, 43.5,\n",
       "        38.6, 26.3, 62.8, 70.1, 35.1, 60.5],\n",
       "       [47.6, 67.6, 32.5, 44.9, 56.2, 62. , 43.1, 36. , 39.5, 55.1, 54.9,\n",
       "        50.6, 51. , 49.5, 66.5, 58.8, 47.4, 53.3, 38.9, 61.5, 46.9, 46.7,\n",
       "        41. , 39. , 43. , 32.4, 41.2, 48.7, 54.2, 46.8, 55.3, 41.1, 43.8,\n",
       "        41.4, 53.2, 51. , 46.4, 45.2, 43.7, 39.5, 54. , 47.7, 46. , 47.8,\n",
       "        64.4, 48.2, 57.3, 37.6, 33.4, 55.2],\n",
       "       [47.8, 45.6, 42.8, 43.6, 52.2, 53.9, 44.6, 64.2, 46.6, 42.6, 24.3,\n",
       "        42.4, 48.9, 35.8, 47.1, 67.5, 47.9, 35.6, 54.7, 41.7, 48.6, 45.6,\n",
       "        46.1, 58.3, 52.2, 43.5, 46.3, 67.6, 36.2, 45. , 65.9, 39. , 44. ,\n",
       "        44.8, 33.5, 62.9, 58.7, 38.9, 40.1, 47.8, 42.9, 61.8, 48.8, 52.4,\n",
       "        49.2, 51.5, 51.6, 39. , 56.5, 39.9],\n",
       "       [41.6, 58. , 78.4, 51.5, 44.1, 47.2, 48.1, 44.4, 49.2, 35.3, 51.2,\n",
       "        45.3, 57.3, 56.4, 43.4, 51. , 49.6, 54.3, 46.7, 60.5, 50. , 38.7,\n",
       "        41. , 36.8, 35.4, 58.8, 53.6, 59.7, 41.8, 47.8, 48.8, 55.6, 44. ,\n",
       "        61.5, 63.3, 63.6, 33. , 63.6, 54. , 52.6, 41.2, 37.5, 47.6, 55.5,\n",
       "        60. , 34.3, 35.1, 44.8, 40.2, 41.7],\n",
       "       [52. , 51.9, 50.3, 50.9, 66.4, 52.9, 54.4, 64.5, 51.1, 50.6, 45.6,\n",
       "        42.7, 56.7, 48.2, 46.8, 48.3, 46.3, 38.9, 41. , 46.2, 52.6, 48.8,\n",
       "        51.2, 69.6, 43. , 30.6, 41.9, 50.9, 57.6, 41.6, 40.3, 62.3, 53.1,\n",
       "        39.1, 46.7, 55.3, 48.1, 49. , 31.6, 49.4, 51.6, 35.7, 57.3, 36.2,\n",
       "        51.3, 55.7, 47.8, 47.6, 36.4, 42.4],\n",
       "       [60.2, 53.1, 49. , 49.9, 69.6, 58.1, 46.9, 45.2, 27. , 37.2, 53.9,\n",
       "        47.7, 49.7, 48. , 42.6, 52.1, 50.9, 41.4, 42.9, 47.8, 37. , 58. ,\n",
       "        40.2, 34.8, 64. , 48. , 58.2, 51.1, 43.1, 37. , 49.4, 38.6, 46.9,\n",
       "        35.8, 53.7, 58.9, 65.6, 29.8, 47.1, 44.7, 57.2, 54.6, 36.9, 51.6,\n",
       "        60.5, 48.8, 62.5, 47.2, 56.3, 45.5],\n",
       "       [43.2, 56.5, 57.4, 48. , 67.4, 41.2, 52.1, 52.8, 55.8, 52. , 54.1,\n",
       "        48.4, 44.7, 64.9, 42.1, 32.6, 35.4, 54.3, 49.9, 35.7, 51.4, 51.1,\n",
       "        66.5, 48.4, 53. , 47.1, 41. , 39.3, 43.6, 47.7, 40.1, 47.1, 46.9,\n",
       "        60.4, 49.9, 51.9, 41.8, 30.9, 27.7, 37.9, 57.9, 57.2, 42.6, 52.7,\n",
       "        61.5, 55.2, 50.1, 48.4, 34.2, 52.8],\n",
       "       [55.2, 47.9, 55.4, 62.1, 45.3, 40.5, 41.5, 65.8, 37.4, 46.6, 44.3,\n",
       "        35.9, 53.9, 47.9, 62.7, 43. , 61.4, 47.4, 44.4, 48.1, 50. , 56.8,\n",
       "        48.5, 42.1, 45.3, 43.1, 43.3, 54.3, 57.5, 56. , 59.9, 50.3, 55.7,\n",
       "        53.8, 63.9, 39.8, 48.2, 46. , 54.9, 47.9, 48.1, 52.5, 41.1, 63.2,\n",
       "        50.6, 57.1, 55.5, 53.7, 58.5, 47.1],\n",
       "       [58.3, 26.3, 58.8, 22.9, 40.8, 34.3, 44.4, 62.6, 47.1, 57.7, 46.8,\n",
       "        57.1, 41.4, 59.9, 50.6, 39.3, 39.8, 56.7, 48.4, 67. , 50.7, 68.2,\n",
       "        55.3, 58.4, 36.8, 52.3, 64.5, 47.9, 54.6, 31.2, 43.4, 67.2, 55.6,\n",
       "        55.9, 35.4, 37.8, 45.1, 63.3, 66.8, 43.1, 42.2, 36.3, 48.3, 48. ,\n",
       "        38.9, 40.3, 45.8, 53.4, 40.3, 50.1],\n",
       "       [52.5, 42.4, 47.6, 45.1, 46.8, 52.2, 62.1, 56.4, 34.5, 60.3, 59. ,\n",
       "        41.7, 41.2, 48.9, 49.4, 42.5, 60.6, 60.2, 47.7, 39.9, 47.8, 32.3,\n",
       "        40.6, 45. , 50.9, 52. , 38.6, 51.1, 42.1, 44.4, 45.1, 50.6, 58.1,\n",
       "        50. , 57.8, 37.3, 48. , 38.3, 45.5, 45.7, 42.5, 30.5, 57.7, 42.5,\n",
       "        40.9, 59.1, 35.7, 35.9, 38.9, 37.6],\n",
       "       [28.3, 41.6, 57.8, 48.8, 41.1, 55.2, 51.4, 35.5, 47.8, 40.6, 36.9,\n",
       "        50.9, 45.8, 60.6, 56.3, 40. , 47.4, 57.8, 69.5, 56.5, 48.4, 53.9,\n",
       "        55.8, 28.2, 38.8, 54.5, 38.3, 55.2, 47.1, 43.8, 53.9, 54.8, 52.1,\n",
       "        29.5, 62.8, 38.3, 39.5, 48.4, 59.9, 60.1, 49. , 35.1, 36.2, 41.6,\n",
       "        63.6, 37.8, 56.5, 41.3, 55.6, 52. ],\n",
       "       [58.4, 40. , 46.8, 42.1, 41.5, 43.8, 64.3, 82.4, 62.4, 43.5, 41.6,\n",
       "        49.2, 49.1, 51.7, 32.1, 53.1, 50.3, 53.8, 43.9, 49.3, 50.1, 49.3,\n",
       "        46.5, 37.5, 55.6, 53. , 63.4, 53.4, 47.6, 58. , 54.1, 38.5, 54.2,\n",
       "        51.4, 57.7, 53.5, 49.1, 35.1, 54.8, 42.8, 33.5, 64.8, 50.5, 49.6,\n",
       "        46. , 57.2, 40.9, 55.5, 35.4, 50.2],\n",
       "       [33.2, 50.2, 44.3, 49.8, 50.9, 50.3, 47.1, 54.9, 47.3, 47.8, 54.6,\n",
       "        42.4, 59.1, 29.6, 54.2, 53.3, 44.5, 44.6, 41.1, 47.2, 61.8, 46.9,\n",
       "        45.3, 59.4, 58.9, 62.3, 51.3, 56.8, 37.5, 53. , 55.3, 56.6, 40.2,\n",
       "        35.2, 62.7, 46.9, 32.8, 49.1, 52.2, 29.4, 43.3, 53.6, 55. , 59.8,\n",
       "        51.2, 49.4, 40.9, 48. , 57.9, 51.3],\n",
       "       [40.8, 43.9, 48.2, 51.1, 69.6, 52.4, 29.4, 49.4, 51.9, 39.7, 50.4,\n",
       "        50.3, 32.1, 48.4, 55.9, 49.7, 38.8, 55.4, 42.1, 43.1, 49.1, 44. ,\n",
       "        59.1, 48.3, 55.5, 50.8, 48.6, 42.2, 53.7, 42.7, 53.4, 60.3, 57.7,\n",
       "        41.2, 45.7, 59.3, 35.5, 31. , 52.8, 48.2, 43. , 37.4, 35.9, 42. ,\n",
       "        25.4, 59.6, 57.8, 49.5, 62.2, 62. ],\n",
       "       [59.1, 39.1, 48.6, 34.5, 53.3, 48.6, 49.8, 60.9, 33. , 49.7, 59.9,\n",
       "        62.2, 37.4, 52.9, 46.9, 49.2, 43.9, 28.3, 63.1, 51.8, 37.1, 41.9,\n",
       "        45.9, 37.2, 45.9, 44.2, 63.4, 36.5, 38. , 51.9, 59.2, 58.1, 37.3,\n",
       "        62.2, 46. , 41.8, 43.9, 38.6, 40.8, 47.3, 59. , 42.8, 46.2, 61.4,\n",
       "        50.5, 49.9, 51.2, 44.9, 42.7, 51.4],\n",
       "       [66.5, 32.7, 63.5, 47.2, 49.2, 50.3, 60.2, 51.1, 51.9, 51. , 58. ,\n",
       "        45.9, 34.4, 44.2, 52.6, 43.1, 57.9, 50.1, 66.2, 50.9, 47.1, 42.7,\n",
       "        59.7, 55.5, 37.6, 51.6, 55.7, 65.3, 38.6, 64.9, 36.8, 38.8, 37.5,\n",
       "        28.2, 57. , 60.2, 62.4, 55.3, 37.6, 48.6, 70.6, 46. , 74.1, 40. ,\n",
       "        46.7, 53. , 51.9, 39.8, 55.8, 45.6],\n",
       "       [48.8, 61.6, 30.9, 59.3, 38.1, 43.5, 66.6, 40.3, 59.3, 53.6, 38.4,\n",
       "        56.9, 67.3, 45. , 71.8, 54.5, 53.2, 53.2, 53.3, 54.1, 48.2, 48.7,\n",
       "        36.6, 54.2, 35.8, 36.3, 43.2, 54.7, 44.2, 50.9, 51.7, 47.2, 59.2,\n",
       "        61.1, 42. , 50.5, 55.9, 55.4, 54.6, 57.3, 52.9, 43.5, 51.9, 46.2,\n",
       "        64.4, 47.5, 40.5, 43.3, 47.9, 59.3]])"
      ]
     },
     "execution_count": 13,
     "metadata": {},
     "output_type": "execute_result"
    }
   ],
   "source": [
    "arr_of_means"
   ]
  },
  {
   "cell_type": "markdown",
   "metadata": {},
   "source": [
    "# Задание 2.10 (4 балла)\n",
    "\n",
    "\"Разверните\" массив `A` в одномерный массив. Оставьте в нём только уникальные элементы в том же порядке, в котором они встречаются в массиве. Используйте [np.unique()](https://numpy.org/doc/stable/reference/generated/numpy.unique.html)"
   ]
  },
  {
   "cell_type": "code",
   "execution_count": 14,
   "metadata": {},
   "outputs": [
    {
     "data": {
      "text/plain": [
       "array([17, 75, 42, 43, 32, 91, 29, 21, 95, 13, 25, 59, 22, 44, 87, 28, 78,\n",
       "       60, 65, 94, 37, 92, 69, 93, 23,  1,  2,  3, 88, 12, 33,  9, 96, 62,\n",
       "       84, 56, 26, 51,  6, 80, 47, 18, 61, 45,  7, 30, 50, 64, 57, 49, 98,\n",
       "       41,  5, 36, 68,  8, 11, 86, 71, 14, 83, 53, 40, 54, 66, 73, 63, 90,\n",
       "       34, 31, 38, 81, 15, 39, 19, 24, 77, 55,  4, 89, 85, 35, 16, 46,  0,\n",
       "       58, 97, 52, 27, 70, 20, 74, 82, 76, 72, 48, 79, 10, 99, 67])"
      ]
     },
     "execution_count": 14,
     "metadata": {},
     "output_type": "execute_result"
    }
   ],
   "source": [
    "_, inds = np.unique(A, return_index = True)\n",
    "B = A\n",
    "B = B.reshape((200*50))\n",
    "B[inds]\n",
    "inds = np.sort(inds)\n",
    "B[inds]"
   ]
  },
  {
   "cell_type": "markdown",
   "metadata": {},
   "source": [
    "# Задание 2.11 (3 балла)\n",
    "\n",
    "Создайте одномерный массив размерности $200$, в котором каждый элемент - евклидово расстояние между соответствующей строкой `A` и \"средней\" строкой `A`"
   ]
  },
  {
   "cell_type": "code",
   "execution_count": 15,
   "metadata": {},
   "outputs": [
    {
     "data": {
      "text/plain": [
       "array([305.87415713, 279.00179211, 302.17379105, 296.16887075,\n",
       "       291.24903433, 293.67839553, 259.27398635, 327.66751441,\n",
       "       322.28403622, 300.49625622, 244.42790348, 309.03074281,\n",
       "       262.74131765, 306.38864209, 263.56593103, 325.48732694,\n",
       "       270.70648311, 304.12826242, 320.92210893, 275.41241802,\n",
       "       293.30700639, 256.14644249, 342.49671531, 267.07302372,\n",
       "       245.10201958, 286.01573383, 295.37095321, 271.61001454,\n",
       "       262.45952069, 283.30372394, 254.87644065, 318.84949428,\n",
       "       291.17692216, 309.12295288, 284.19359599, 285.32262441,\n",
       "       327.11007322, 328.21791542, 266.25551637, 330.08029326,\n",
       "       252.54504549, 296.12497362, 269.31579976, 301.57751906,\n",
       "       327.52404492, 300.27487407, 301.12787981, 322.1738661 ,\n",
       "       305.18191296, 310.67668081, 263.36666456, 264.27447853,\n",
       "       319.03918255, 272.92306608, 274.38476634, 284.30793165,\n",
       "       308.62436715, 279.8267321 , 284.94736356, 287.0296152 ,\n",
       "       238.51834311, 280.49420671, 238.83885781, 264.17229226,\n",
       "       280.53698508, 294.77109763, 293.66988269, 285.22096697,\n",
       "       311.73546478, 271.96323281, 266.13530393, 290.25678287,\n",
       "       282.71894171, 319.2068295 , 319.79524699, 285.76738792,\n",
       "       297.00841739, 255.40164447, 300.57445001, 318.99373035,\n",
       "       289.03114019, 288.32967242, 269.54034948, 308.00974011,\n",
       "       288.11282512, 261.09768287, 264.33501471, 282.84624799,\n",
       "       280.09284175, 290.33601223, 278.75257846, 301.28225968,\n",
       "       308.55955665, 254.42680676, 293.1006653 , 296.53836177,\n",
       "       309.84189517, 286.87105117, 307.4621928 ,   0.        ,\n",
       "       295.12200867, 290.27917597, 299.47787898, 286.1538048 ,\n",
       "       281.51021296, 291.54759474, 291.14085938, 276.57548698,\n",
       "       263.26602515, 322.3647003 , 298.3270018 , 292.83271675,\n",
       "       271.11989968, 287.10451059, 271.46270462, 280.809544  ,\n",
       "       327.35302045, 287.7881165 , 313.29219588, 297.38022799,\n",
       "       296.36970156, 300.92523989, 277.2994771 , 292.91124936,\n",
       "       282.10636292, 271.60449186, 345.21297774, 296.88718396,\n",
       "       296.41693609, 264.41255643, 317.76248992, 295.05084308,\n",
       "       281.19210515, 277.11730368, 234.17301296, 273.98175122,\n",
       "       270.19807549, 282.14535261, 303.17321781, 294.36541916,\n",
       "       261.77280225, 301.61896492, 245.26516263, 277.68147219,\n",
       "       285.08419809, 305.71391856, 262.07632476, 301.45148863,\n",
       "       292.35594743, 277.65085989, 285.4855513 , 291.75503423,\n",
       "       317.72000252, 277.81468644, 320.41067398, 235.36567294,\n",
       "       278.32894208, 283.95950416, 281.61320992, 330.47844105,\n",
       "       319.59818523, 276.33313229, 313.64948589, 265.5145947 ,\n",
       "       311.42896461, 267.99253721, 258.43180919, 299.02173834,\n",
       "       259.18140365, 332.13852532, 271.        , 307.38087123,\n",
       "       312.42919198, 262.86688647, 260.13842469, 265.93232222,\n",
       "       297.16325479, 263.19574465, 333.89818808, 276.92417735,\n",
       "       296.79454173, 271.50322282, 280.1517446 , 314.43759317,\n",
       "       243.22828783, 282.91164699, 294.17001887, 284.51713481,\n",
       "       248.01209648, 268.27038599, 284.54349404, 268.21073804,\n",
       "       301.59575594, 298.47110413, 286.22019495, 287.11495955,\n",
       "       297.89091963, 285.81112645, 278.65929017, 296.52487248])"
      ]
     },
     "execution_count": 15,
     "metadata": {},
     "output_type": "execute_result"
    }
   ],
   "source": [
    "mean_arr = (A[:]-A[99])**2\n",
    "mean_arr = np.sqrt(mean_arr.sum(axis=1))\n",
    "mean_arr"
   ]
  },
  {
   "cell_type": "code",
   "execution_count": 16,
   "metadata": {},
   "outputs": [
    {
     "data": {
      "text/plain": [
       "(200,)"
      ]
     },
     "execution_count": 16,
     "metadata": {},
     "output_type": "execute_result"
    }
   ],
   "source": [
    "mean_arr.shape"
   ]
  },
  {
   "cell_type": "markdown",
   "metadata": {},
   "source": [
    "# Задание 2.12 (2 балла)\n",
    "\n",
    "Создайте новый массив, который состоит из элементов `A`, измененных по следующим правилам:\n",
    "- если элемент меньше $50$, то он умножается на $2$\n",
    "- в противном случае он умножается на $3$\n",
    "\n",
    "Используйте [np.where()](https://numpy.org/doc/stable/reference/generated/numpy.where.html)"
   ]
  },
  {
   "cell_type": "code",
   "execution_count": 17,
   "metadata": {},
   "outputs": [
    {
     "name": "stdout",
     "output_type": "stream",
     "text": [
      "[[17 75 42 ... 80 88 22]\n",
      " [47 56 18 ... 22 49 54]\n",
      " [40 66 87 ... 57 28 78]\n",
      " ...\n",
      " [78 97 96 ... 37 43 39]\n",
      " [52 49 63 ... 84 60  9]\n",
      " [67 91 12 ... 75 21 66]]\n"
     ]
    },
    {
     "data": {
      "text/plain": [
       "array([[ 34, 225,  84, ..., 240, 264,  44],\n",
       "       [ 94, 168,  36, ...,  44,  98, 162],\n",
       "       [ 80, 198, 261, ..., 171,  56, 234],\n",
       "       ...,\n",
       "       [234, 291, 288, ...,  74,  86,  78],\n",
       "       [156,  98, 189, ..., 252, 180,  18],\n",
       "       [201, 273,  24, ..., 225,  42, 198]])"
      ]
     },
     "execution_count": 17,
     "metadata": {},
     "output_type": "execute_result"
    }
   ],
   "source": [
    "print(A)\n",
    "np.where(A<50, 2*A, 3*A)"
   ]
  },
  {
   "cell_type": "markdown",
   "metadata": {},
   "source": [
    "# Задание 2.13 (7 баллов)\n",
    "\n",
    "Разверните массив `A` в одномерный массив. Создайте новый массив той же размерности, состоящий из суммы скользящих средних по окну $3$, $5$, $10$.\n",
    "\n",
    "*Tip: реализуйте функцию, которая считает скользящее среднее. Используйте [np.cumsum()](https://numpy.org/doc/stable/reference/generated/numpy.cumsum.html) или [np.convolve()](https://numpy.org/doc/stable/reference/generated/numpy.convolve.html)*"
   ]
  },
  {
   "cell_type": "code",
   "execution_count": 18,
   "metadata": {},
   "outputs": [
    {
     "name": "stdout",
     "output_type": "stream",
     "text": [
      "(9998,) (9996,) (9991,)\n"
     ]
    },
    {
     "data": {
      "text/plain": [
       "array([[132.26666667, 156.53333333, 131.4       , ..., 176.93333333,\n",
       "        145.63333333, 126.66666667],\n",
       "       [128.43333333, 133.23333333, 126.83333333, ..., 137.26666667,\n",
       "        157.06666667, 156.33333333],\n",
       "       [160.03333333, 162.23333333, 148.33333333, ..., 123.03333333,\n",
       "        103.76666667,  95.8       ],\n",
       "       ...,\n",
       "       [231.93333333, 216.83333333, 186.63333333, ..., 139.86666667,\n",
       "        151.36666667, 157.26666667],\n",
       "       [166.86666667, 171.96666667, 185.03333333, ..., 171.2       ,\n",
       "        142.83333333, 161.36666667],\n",
       "       [171.76666667, 169.2       , 152.93333333, ...,  54.        ,\n",
       "          0.        ,   0.        ]])"
      ]
     },
     "execution_count": 18,
     "metadata": {},
     "output_type": "execute_result"
    }
   ],
   "source": [
    "def rolling_mean(x, w):\n",
    "    return [np.convolve(x, np.ones(i), mode='valid')/i for i in w]\n",
    "\n",
    "def rolling_mean_(x, w):\n",
    "    cumsum = np.cumsum(np.insert(x, 0, 0)) \n",
    "    return [(cumsum[i:] - cumsum[:-i]) / float(i) for i in w]\n",
    "\n",
    "\n",
    "A_1D = A.flatten()\n",
    "w = [3, 5, 10]\n",
    "\n",
    "W = rolling_mean(A_1D, w)\n",
    "print(W[0].shape, W[1].shape, W[2].shape)\n",
    "T = rolling_mean_(A_1D, w)\n",
    "w1, w2, w3 = W[0].resize((200,50)), W[1].resize((200,50)), W[2].resize((200,50)) #Недостающие элементы обиваются нулями\n",
    "\n",
    "\n",
    "Sum_W = np.array(W).sum(axis=0)\n",
    "Sum_W"
   ]
  },
  {
   "cell_type": "markdown",
   "metadata": {},
   "source": [
    "# Задание 2.14 (8 баллов)\n",
    "\n",
    "Постройте график функции $$f(x) = (5  \\sin(2x) - \\cos^2(x) - 1 + |x^3| - x^2) / (x^2 + 1)$$  \n",
    "\n",
    "и производной от этой функции.  Найдите минимум с помощью `scipy` и обозначьте его на графике. На этой же оси постройте графики скользящего среднего этой функции с окном $1$, $2$, $5$."
   ]
  },
  {
   "cell_type": "code",
   "execution_count": 19,
   "metadata": {},
   "outputs": [
    {
     "data": {
      "text/plain": [
       "<matplotlib.legend.Legend at 0xb23fea4880>"
      ]
     },
     "execution_count": 19,
     "metadata": {},
     "output_type": "execute_result"
    },
    {
     "data": {
      "image/png": "[encoded data removed]",
      "text/plain": [
       "<Figure size 1500x1500 with 1 Axes>"
      ]
     },
     "metadata": {},
     "output_type": "display_data"
    }
   ],
   "source": [
    "def func(x):\n",
    "    return (5*np.sin(2*x)-np.cos(x)*np.cos(x)-1+np.abs(x*x*x)-x*x)/(x*x+1)\n",
    "\n",
    "x = np.arange(-4,4,0.01)\n",
    "y = func(x)\n",
    "plt.figure(figsize=(15, 15))\n",
    "plt.plot(x, y, linewidth=5, color='blue')\n",
    "\n",
    "ix = np.arange(-4,4,0.01)\n",
    "iy = sp.misc.derivative(func, ix, dx=1e-6)\n",
    "func_min = sp.optimize.minimize(func, x0=0, method='nelder-mead')\n",
    "plt.plot(ix, iy, linewidth=1, color='green')\n",
    "plt.plot(func_min.x, func(func_min.x),'o', color='red')\n",
    "plt.xlabel('x')\n",
    "plt.ylabel('y')\n",
    "\n",
    "\n",
    "w = [1,2,5]\n",
    "r_m = rolling_mean(y, w)\n",
    "\n",
    "plt.plot(x[:r_m[0].shape[0]], r_m[0], color='w', linewidth=3)\n",
    "plt.plot(x[:r_m[1].shape[0]], r_m[1], color='black', linewidth=2)\n",
    "plt.plot(x[:r_m[2].shape[0]], r_m[2], color='y', linewidth=1)\n",
    "plt.legend(('f', \"f'\", 'min', 'rolling_mean_1', 'rolling_mean_2', 'rolling_mean_5'))\n",
    "\n"
   ]
  },
  {
   "cell_type": "markdown",
   "metadata": {},
   "source": [
    "# Задание 2.15 (10 баллов)\n",
    "\n",
    "Есть следующий алгоритм семплинирования, на вход функции подается вектор из целых положительных чисел и число семплов."
   ]
  },
  {
   "cell_type": "code",
   "execution_count": 20,
   "metadata": {},
   "outputs": [],
   "source": [
    "from typing import List \n",
    "\n",
    "def sample(x: List[int], c: int) -> List[int]:\n",
    "    assert len(x) > 0\n",
    "    \n",
    "    s = np.sum(x)\n",
    "    res = []\n",
    "    for _ in range(c):\n",
    "        val = s * np.random.random()\n",
    "        cur, idx = 0, 0        \n",
    "        while cur + x[idx] <= val:\n",
    "            cur += x[idx]\n",
    "            idx += 1\n",
    "            \n",
    "        res.append(idx)\n",
    "    return x[res]\n",
    "\n",
    "ex =np.array([50, 3, 1, 7, 20])       \n"
   ]
  },
  {
   "cell_type": "markdown",
   "metadata": {},
   "source": [
    "Реализуйте данный алгоритм более оптимальным способом на массивах `numpy`, без использования циклов. Проверьте корректность и идентичность алгоритмов семплирования с помощью статистических тестов."
   ]
  },
  {
   "cell_type": "code",
   "execution_count": 21,
   "metadata": {},
   "outputs": [],
   "source": [
    "def sampling_np(x, n):\n",
    "    return np.random.choice(x, n, replace=True)"
   ]
  },
  {
   "cell_type": "code",
   "execution_count": 22,
   "metadata": {},
   "outputs": [
    {
     "name": "stderr",
     "output_type": "stream",
     "text": [
      "C:\\Users\\admin\\AppData\\Local\\Temp\\ipykernel_42824\\130902504.py:6: RuntimeWarning: Precision loss occurred in moment calculation due to catastrophic cancellation. This occurs when the data are nearly identical. Results may be unreliable.\n",
      "  test.append(sp.stats.ttest_ind(res1, res2).pvalue)\n"
     ]
    }
   ],
   "source": [
    "test = []\n",
    "\n",
    "for i in range(100):\n",
    "    res1 = sampling_np(ex,5)\n",
    "    res2 = sample(ex,5)\n",
    "    test.append(sp.stats.ttest_ind(res1, res2).pvalue)"
   ]
  },
  {
   "cell_type": "code",
   "execution_count": 23,
   "metadata": {},
   "outputs": [
    {
     "data": {
      "text/plain": [
       "60"
      ]
     },
     "execution_count": 23,
     "metadata": {},
     "output_type": "execute_result"
    }
   ],
   "source": [
    "pos = np.array(test) >= 0.05 #выборки однородные, нулевая гипотеза о равенстве матожиданий совпадает\n",
    "len(np.where(pos==True)[0])"
   ]
  },
  {
   "cell_type": "code",
   "execution_count": 24,
   "metadata": {},
   "outputs": [
    {
     "data": {
      "text/plain": [
       "40"
      ]
     },
     "execution_count": 24,
     "metadata": {},
     "output_type": "execute_result"
    }
   ],
   "source": [
    "neg = np.array(test) < 0.05 #Выборки неоднородные, нулевая гипотеза отвергается\n",
    "len(np.where(neg==True)[0])"
   ]
  },
  {
   "cell_type": "markdown",
   "metadata": {},
   "source": [
    "# Задание 2.16 (5 баллов)\n",
    "\n",
    "Есть следующий алгоритм \"случайного блуждания\""
   ]
  },
  {
   "cell_type": "code",
   "execution_count": 25,
   "metadata": {},
   "outputs": [
    {
     "data": {
      "text/plain": [
       "1799"
      ]
     },
     "execution_count": 25,
     "metadata": {},
     "output_type": "execute_result"
    }
   ],
   "source": [
    "import random \n",
    "\n",
    "def walk(n: int):\n",
    "    cur_position = 0\n",
    "    for i in range(n):\n",
    "        cur_position += random.choice([-3, -1, 0, 2, 3])\n",
    "\n",
    "    return cur_position\n",
    "\n",
    "walk(10_000)"
   ]
  },
  {
   "cell_type": "markdown",
   "metadata": {},
   "source": [
    "Реализуйте более эффективную версию с помощью `numpy`, сравните производительность (используя, например, magic `timeit`). Воспользовавшись [kdeplot()](https://seaborn.pydata.org/generated/seaborn.kdeplot.html) или аналогами, постройте график распределения значений `walk(10_000)` на каком-то разумном запусков. "
   ]
  },
  {
   "cell_type": "code",
   "execution_count": 26,
   "metadata": {},
   "outputs": [],
   "source": [
    "import timeit"
   ]
  },
  {
   "cell_type": "code",
   "execution_count": 27,
   "metadata": {},
   "outputs": [
    {
     "data": {
      "text/plain": [
       "2097"
      ]
     },
     "execution_count": 27,
     "metadata": {},
     "output_type": "execute_result"
    }
   ],
   "source": [
    "def walk_np(n: int):\n",
    "    steps = np.random.choice([-3, -1, 0, 2, 3], size=n)\n",
    "    return np.sum(steps)\n",
    "\n",
    "\n",
    "walk_np(10_000)"
   ]
  },
  {
   "cell_type": "code",
   "execution_count": 28,
   "metadata": {},
   "outputs": [
    {
     "name": "stdout",
     "output_type": "stream",
     "text": [
      "Function walk:  2.568682297001942\n",
      "Function walk_np:  0.06008493599074427\n"
     ]
    }
   ],
   "source": [
    "print(\"Function walk: \", timeit.timeit('walk(10000)', globals=globals(), number=100)) #для 100 повторений\n",
    "print(\"Function walk_np: \", timeit.timeit('walk_np(10000)', globals=globals(), number=100))"
   ]
  },
  {
   "cell_type": "code",
   "execution_count": 29,
   "metadata": {},
   "outputs": [
    {
     "data": {
      "text/plain": [
       "<AxesSubplot: ylabel='Density'>"
      ]
     },
     "execution_count": 29,
     "metadata": {},
     "output_type": "execute_result"
    },
    {
     "data": {
      "image/png": "[encoded data removed]",
      "text/plain": [
       "<Figure size 640x480 with 1 Axes>"
      ]
     },
     "metadata": {},
     "output_type": "display_data"
    }
   ],
   "source": [
    "data_1 = [walk_np(10000) for i in range(500)]\n",
    "data_2 = [walk(10000) for i in range(500)]\n",
    "sns.kdeplot(data_1, color='b') #функция с numpy \n",
    "sns.kdeplot(data_2, color='r') #изначальная функция\n"
   ]
  },
  {
   "cell_type": "markdown",
   "metadata": {},
   "source": [
    "# Задание 2.17 (5 баллов)\n",
    "\n",
    "Имеется функция, которая проделывает достаточно странные манипуляции с массивом `numpy`"
   ]
  },
  {
   "cell_type": "code",
   "execution_count": 36,
   "metadata": {},
   "outputs": [],
   "source": [
    "import numpy.typing as npt\n",
    "\n",
    "def strange_conv(a: npt.NDArray[np.float64]) -> np.float64:\n",
    "    x = a.shape[0]\n",
    "    y = a.shape[1]\n",
    "\n",
    "    t = 1.\n",
    "    for y in range(y - 5):\n",
    "        for x in range(x - 3):\n",
    "            c = 1.5 * a[y+1, x+2] - a[y+5, x+3] * a[y, x] + 0.2 * a[y+4, x]\n",
    "            t = 0.2 * t + 0.8 * c\n",
    "\n",
    "    return t\n",
    "\n",
    "a = np.random.random((1000, 1000))"
   ]
  },
  {
   "cell_type": "code",
   "execution_count": 37,
   "metadata": {},
   "outputs": [
    {
     "name": "stdout",
     "output_type": "stream",
     "text": [
      "The cython extension is already loaded. To reload it, use:\n",
      "  %reload_ext cython\n"
     ]
    }
   ],
   "source": [
    "import cython\n",
    "\n",
    "%load_ext cython\n",
    "from numba import njit"
   ]
  },
  {
   "cell_type": "code",
   "execution_count": 38,
   "metadata": {},
   "outputs": [],
   "source": [
    "@njit\n",
    "def strange_conv_numba(a: npt.NDArray[np.float64]) -> np.float64:\n",
    "    x = a.shape[0]\n",
    "    y = a.shape[1]\n",
    "\n",
    "    t = 1.\n",
    "    for y in range(y - 5):\n",
    "        for x in range(x - 3):\n",
    "            c = 1.5 * a[y+1, x+2] - a[y+5, x+3] * a[y, x] + 0.2 * a[y+4, x]\n",
    "            t = 0.2 * t + 0.8 * c\n",
    "\n",
    "    return t\n"
   ]
  },
  {
   "cell_type": "code",
   "execution_count": 39,
   "metadata": {},
   "outputs": [],
   "source": [
    "%%cython\n",
    "\n",
    "cimport numpy \n",
    "\n",
    "\n",
    "def strange_conv_cython(numpy.ndarray['double', ndim=2] a):\n",
    "    cdef int x = a.shape[0]\n",
    "    cdef int y = a.shape[1]\n",
    "\n",
    "    cdef double t = 1.\n",
    "    cdef double c = 0.\n",
    "\n",
    "    for y in range(y - 5):\n",
    "        for x in range(x - 3):\n",
    "            c = 1.5 * a[y+1, x+2] - a[y+5, x+3] * a[y, x] + 0.2 * a[y+4, x]\n",
    "            t = 0.2 * t + 0.8 * c\n",
    "    \n",
    "    return t\n"
   ]
  },
  {
   "attachments": {},
   "cell_type": "markdown",
   "metadata": {},
   "source": [
    "Сравним время для 3-х функций:"
   ]
  },
  {
   "cell_type": "code",
   "execution_count": 40,
   "metadata": {},
   "outputs": [
    {
     "name": "stdout",
     "output_type": "stream",
     "text": [
      "439 ms ± 17.6 ms per loop (mean ± std. dev. of 7 runs, 1 loop each)\n"
     ]
    }
   ],
   "source": [
    "%%timeit\n",
    "strange_conv(a)"
   ]
  },
  {
   "cell_type": "code",
   "execution_count": 41,
   "metadata": {},
   "outputs": [
    {
     "name": "stdout",
     "output_type": "stream",
     "text": [
      "1.15 ms ± 329 µs per loop (mean ± std. dev. of 7 runs, 1 loop each)\n"
     ]
    }
   ],
   "source": [
    "%%timeit\n",
    "strange_conv_numba(a)"
   ]
  },
  {
   "cell_type": "code",
   "execution_count": 42,
   "metadata": {},
   "outputs": [
    {
     "name": "stdout",
     "output_type": "stream",
     "text": [
      "5.3 ms ± 1.32 ms per loop (mean ± std. dev. of 7 runs, 100 loops each)\n"
     ]
    }
   ],
   "source": [
    "%%timeit\n",
    "strange_conv_cython(a)"
   ]
  },
  {
   "attachments": {},
   "cell_type": "markdown",
   "metadata": {},
   "source": [
    "Уеньшила размер матрицы из-за временных затрат (функция без оптимизации считалась долго)\n",
    "1) при оптимизации Numba ускорение в 382 раза\n",
    "2) при оптимизации cython ускорение в 83 раза"
   ]
  },
  {
   "cell_type": "markdown",
   "metadata": {},
   "source": [
    "Оптимизируйте данную функцию с помощью (2 на выбор):\n",
    "- [Numba](https://numba.pydata.org)\n",
    "- `Cython` (+5 баллов)\n",
    "- [Taichi](https://github.com/taichi-dev/taichi) (+5 баллов)\n",
    "- `Pythran `[[1]](https://pythran.readthedocs.io/en/latest/), [[2]](https://serge-sans-paille.github.io/pythran-stories/pythran-tutorial.html) (+2 балла)\n",
    "\n",
    "Сравните производительность."
   ]
  },
  {
   "cell_type": "markdown",
   "metadata": {},
   "source": []
  }
 ],
 "metadata": {
  "kernelspec": {
   "display_name": "Python 3.10.7 64-bit",
   "language": "python",
   "name": "python3"
  },
  "language_info": {
   "codemirror_mode": {
    "name": "ipython",
    "version": 3
   },
   "file_extension": ".py",
   "mimetype": "text/x-python",
   "name": "python",
   "nbconvert_exporter": "python",
   "pygments_lexer": "ipython3",
   "version": "3.10.7"
  },
  "orig_nbformat": 4,
  "vscode": {
   "interpreter": {
    "hash": "beedbe2faf2f7048d727558d0bc3221e7eba2a0b921cac4d4771b2feb8f74b30"
   }
  }
 },
 "nbformat": 4,
 "nbformat_minor": 2
}
