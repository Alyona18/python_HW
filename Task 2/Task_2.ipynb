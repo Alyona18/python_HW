{
 "cells": [
  {
   "cell_type": "markdown",
   "metadata": {},
   "source": [
    "# Задание 2.\n",
    "\n",
    "**NB. Все упражнения ниже нужно делать без использования циклов Python в явном (`while`, `for`) и неявном виде (list comprehension, `map`, `reduce` и пр)**\n",
    "\n",
    "Задания по манипуляциям с массивами чаще всего решаются в одно/два выражения. "
   ]
  },
  {
   "cell_type": "code",
   "execution_count": 2,
   "metadata": {},
   "outputs": [
    {
     "data": {
      "text/plain": [
       "array([[67, 31, 34, ..., 46, 14, 92],\n",
       "       [99,  0, 57, ..., 24, 95, 49],\n",
       "       [87, 29, 95, ..., 76,  6, 51],\n",
       "       ...,\n",
       "       [17, 92, 82, ..., 60, 41, 32],\n",
       "       [17, 10, 81, ..., 31, 41, 51],\n",
       "       [96, 45,  7, ...,  0, 18, 79]])"
      ]
     },
     "execution_count": 2,
     "metadata": {},
     "output_type": "execute_result"
    }
   ],
   "source": [
    "%matplotlib inline\n",
    "\n",
    "import numpy as np\n",
    "import matplotlib.pyplot as plt\n",
    "import seaborn as sns\n",
    "import scipy as sp\n",
    "sns.set_theme()\n",
    "\n",
    "A = np.random.randint(0, 100, size=(200, 50))\n",
    "A"
   ]
  },
  {
   "cell_type": "markdown",
   "metadata": {},
   "source": [
    "# Задание 2.1 (2 балла)\n",
    "\n",
    "Сгенерируйте новый массив, в котором столбцы массива `A` переставлены в случайном порядке"
   ]
  },
  {
   "cell_type": "code",
   "execution_count": 3,
   "metadata": {},
   "outputs": [],
   "source": [
    "B = np.full_like(A, A)\n",
    "np.random.shuffle(B.T)"
   ]
  },
  {
   "cell_type": "code",
   "execution_count": 4,
   "metadata": {},
   "outputs": [
    {
     "name": "stdout",
     "output_type": "stream",
     "text": [
      "[[ 1 91 81 ...  5  4 12]\n",
      " [85 42 73 ... 76 33 80]\n",
      " [63 62 25 ... 67 59 25]\n",
      " ...\n",
      " [16 65 47 ...  2 37 33]\n",
      " [33 71 35 ...  7 99 66]\n",
      " [15 95  5 ... 78 58 77]]\n"
     ]
    },
    {
     "data": {
      "text/plain": [
       "(200, 50)"
      ]
     },
     "execution_count": 4,
     "metadata": {},
     "output_type": "execute_result"
    }
   ],
   "source": [
    "print(B)\n",
    "B.shape"
   ]
  },
  {
   "cell_type": "markdown",
   "metadata": {},
   "source": [
    "# Задание 2.2 (5 баллов)\n",
    "\n",
    "Сгенерируйте новый массив, который содержит только те строки массива `A`, в которых: \n",
    "- сумма элементов по четным столбцам (индексы $0, 2, \\ldots$) больше среднего значения (по всему массиву) суммы элементов по нечетным столбцам (индексы $1, 3, \\ldots$) "
   ]
  },
  {
   "cell_type": "code",
   "execution_count": 5,
   "metadata": {},
   "outputs": [
    {
     "name": "stdout",
     "output_type": "stream",
     "text": [
      "[[67 31 34 ... 46 14 92]\n",
      " [99  0 57 ... 24 95 49]\n",
      " [87 29 95 ... 76  6 51]\n",
      " ...\n",
      " [17 92 82 ... 60 41 32]\n",
      " [17 10 81 ... 31 41 51]\n",
      " [96 45  7 ...  0 18 79]]\n"
     ]
    },
    {
     "data": {
      "text/plain": [
       "(200, 50)"
      ]
     },
     "execution_count": 5,
     "metadata": {},
     "output_type": "execute_result"
    }
   ],
   "source": [
    "\n",
    "arr = A[A[::, ::2].sum(axis=1) > A[::,1::2].mean()]\n",
    "print(arr)\n",
    "arr.shape\n",
    "\n"
   ]
  },
  {
   "cell_type": "code",
   "execution_count": 6,
   "metadata": {},
   "outputs": [
    {
     "data": {
      "text/plain": [
       "array([ True,  True,  True,  True,  True,  True,  True,  True,  True,\n",
       "        True,  True,  True,  True,  True,  True,  True,  True,  True,\n",
       "        True,  True,  True,  True,  True,  True,  True,  True,  True,\n",
       "        True,  True,  True,  True,  True,  True,  True,  True,  True,\n",
       "        True,  True,  True,  True,  True,  True,  True,  True,  True,\n",
       "        True,  True,  True,  True,  True,  True,  True,  True,  True,\n",
       "        True,  True,  True,  True,  True,  True,  True,  True,  True,\n",
       "        True,  True,  True,  True,  True,  True,  True,  True,  True,\n",
       "        True,  True,  True,  True,  True,  True,  True,  True,  True,\n",
       "        True,  True,  True,  True,  True,  True,  True,  True,  True,\n",
       "        True,  True,  True,  True,  True,  True,  True,  True,  True,\n",
       "        True,  True,  True,  True,  True,  True,  True,  True,  True,\n",
       "        True,  True,  True,  True,  True,  True,  True,  True,  True,\n",
       "        True,  True,  True,  True,  True,  True,  True,  True,  True,\n",
       "        True,  True,  True,  True,  True,  True,  True,  True,  True,\n",
       "        True,  True,  True,  True,  True,  True,  True,  True,  True,\n",
       "        True,  True,  True,  True,  True,  True,  True,  True,  True,\n",
       "        True,  True,  True,  True,  True,  True,  True,  True,  True,\n",
       "        True,  True,  True,  True,  True,  True,  True,  True,  True,\n",
       "        True,  True,  True,  True,  True,  True,  True,  True,  True,\n",
       "        True,  True,  True,  True,  True,  True,  True,  True,  True,\n",
       "        True,  True,  True,  True,  True,  True,  True,  True,  True,\n",
       "        True,  True])"
      ]
     },
     "execution_count": 6,
     "metadata": {},
     "output_type": "execute_result"
    }
   ],
   "source": [
    "A[::, ::2].sum(axis=1) > A[::,1::2].mean()\n"
   ]
  },
  {
   "cell_type": "markdown",
   "metadata": {},
   "source": [
    "# Задача 2.3 (3 балла)\n",
    "\n",
    "Найдите индекс строки массива `A`, в которой разница между максимальным и минимальным элементом максимальна"
   ]
  },
  {
   "cell_type": "code",
   "execution_count": 7,
   "metadata": {},
   "outputs": [
    {
     "name": "stdout",
     "output_type": "stream",
     "text": [
      "index =  1\n"
     ]
    },
    {
     "data": {
      "text/plain": [
       "array([99,  0, 57, 82, 89, 45, 10, 65, 66, 38, 21, 39,  0, 14, 80,  4, 69,\n",
       "       42, 32, 84, 84, 73, 39, 87, 73, 87, 10, 33, 45,  0, 61, 89, 59, 63,\n",
       "       85, 31, 75, 34, 65, 43, 98, 54, 14, 30, 42, 76, 57, 24, 95, 49])"
      ]
     },
     "execution_count": 7,
     "metadata": {},
     "output_type": "execute_result"
    }
   ],
   "source": [
    "A.shape\n",
    "B = A.max(axis=1) - A.min(axis=1)\n",
    "print(\"index = \", B.argmax())\n",
    "A[B.argmax()]"
   ]
  },
  {
   "cell_type": "markdown",
   "metadata": {},
   "source": [
    "# Задание 2.4 (7 баллов)\n",
    "\n",
    "Сгенерируйте массив той же размерности, что и `A`, но в котором каждый элемент заменен на его порядковый номер (начиная с 1) в отсортированном по возрастанию массиве из элементов `A`\n",
    "\n",
    "Если `A` выглядит так:\n",
    "$$\n",
    "\\begin{pmatrix}\n",
    "12 & 14\\\\\n",
    "1 & 2\n",
    "\\end{pmatrix}\n",
    "$$\n",
    "то результат должен быть\n",
    "$$\n",
    "\\begin{pmatrix}\n",
    "3 & 4\\\\\n",
    "1 & 2\n",
    "\\end{pmatrix}\n",
    "$$\n",
    "\n",
    "*Tip: рассмотрите возможность неоднократного применения [argsort()](https://numpy.org/doc/stable/reference/generated/numpy.ndarray.argsort.html)*"
   ]
  },
  {
   "cell_type": "code",
   "execution_count": 8,
   "metadata": {},
   "outputs": [
    {
     "data": {
      "text/plain": [
       "array([[6696, 3140, 3407, ..., 4627, 1476, 9270],\n",
       "       [9920,  107, 5694, ..., 2405, 9522, 4913],\n",
       "       [8734, 2899, 9524, ..., 7589,  674, 5084],\n",
       "       ...,\n",
       "       [1814, 9250, 8228, ..., 6034, 4051, 3208],\n",
       "       [1807, 1037, 8108, ..., 3090, 4116, 5085],\n",
       "       [9649, 4500,  838, ...,   93, 1885, 7908]], dtype=int64)"
      ]
     },
     "execution_count": 8,
     "metadata": {},
     "output_type": "execute_result"
    }
   ],
   "source": [
    "ind = np.unravel_index(np.argsort(A,axis=None), A.shape)\n",
    "A_ind = ind[0]*A.shape[1]+ind[1]\n",
    "A_ind.argsort().reshape(A.shape) + 1 \n"
   ]
  },
  {
   "cell_type": "markdown",
   "metadata": {},
   "source": [
    "# Задание 2.5 (2 балла)\n",
    "\n",
    "Примените $\\min-\\max$ - нормализацию к строкам массива `A`. То есть нужно получить новый массивы, в каждой строке которого максимальный элементы равен $1$, минимальный - $0$. "
   ]
  },
  {
   "cell_type": "code",
   "execution_count": 9,
   "metadata": {},
   "outputs": [
    {
     "data": {
      "text/plain": [
       "array([[0.6875    , 0.3125    , 0.34375   , ..., 0.46875   , 0.13541667,\n",
       "        0.94791667],\n",
       "       [1.        , 0.        , 0.57575758, ..., 0.24242424, 0.95959596,\n",
       "        0.49494949],\n",
       "       [0.87628866, 0.27835052, 0.95876289, ..., 0.7628866 , 0.04123711,\n",
       "        0.50515464],\n",
       "       ...,\n",
       "       [0.16666667, 0.94791667, 0.84375   , ..., 0.61458333, 0.41666667,\n",
       "        0.32291667],\n",
       "       [0.15463918, 0.08247423, 0.81443299, ..., 0.29896907, 0.40206186,\n",
       "        0.50515464],\n",
       "       [0.96969697, 0.45454545, 0.07070707, ..., 0.        , 0.18181818,\n",
       "        0.7979798 ]])"
      ]
     },
     "execution_count": 9,
     "metadata": {},
     "output_type": "execute_result"
    }
   ],
   "source": [
    "arr_min = np.tile(A.min(axis=1).reshape((A.shape[0],1)), (1,A.shape[1]))\n",
    "arr_max = np.tile(A.max(axis=1).reshape((A.shape[0],1)), (1,A.shape[1]))\n",
    "Norm_A = (A-arr_min)/(arr_max-arr_min)\n",
    "Norm_A"
   ]
  },
  {
   "cell_type": "markdown",
   "metadata": {},
   "source": [
    "# Задание 2.6 (2 балла)\n",
    "\n",
    "Сгенерируйте новый трехмерный массив, размерности $10 \\times 200 \\times 50$. Подмассивы по нулевой оси должны состоять из элементов `A`, умноженных на $1 - 10$ соответственно"
   ]
  },
  {
   "cell_type": "code",
   "execution_count": 10,
   "metadata": {},
   "outputs": [
    {
     "name": "stdout",
     "output_type": "stream",
     "text": [
      "shape:  (10, 200, 50)\n"
     ]
    },
    {
     "data": {
      "text/plain": [
       "array([[[ 67,  31,  34, ...,  46,  14,  92],\n",
       "        [ 99,   0,  57, ...,  24,  95,  49],\n",
       "        [ 87,  29,  95, ...,  76,   6,  51],\n",
       "        ...,\n",
       "        [ 17,  92,  82, ...,  60,  41,  32],\n",
       "        [ 17,  10,  81, ...,  31,  41,  51],\n",
       "        [ 96,  45,   7, ...,   0,  18,  79]],\n",
       "\n",
       "       [[134,  62,  68, ...,  92,  28, 184],\n",
       "        [198,   0, 114, ...,  48, 190,  98],\n",
       "        [174,  58, 190, ..., 152,  12, 102],\n",
       "        ...,\n",
       "        [ 34, 184, 164, ..., 120,  82,  64],\n",
       "        [ 34,  20, 162, ...,  62,  82, 102],\n",
       "        [192,  90,  14, ...,   0,  36, 158]],\n",
       "\n",
       "       [[201,  93, 102, ..., 138,  42, 276],\n",
       "        [297,   0, 171, ...,  72, 285, 147],\n",
       "        [261,  87, 285, ..., 228,  18, 153],\n",
       "        ...,\n",
       "        [ 51, 276, 246, ..., 180, 123,  96],\n",
       "        [ 51,  30, 243, ...,  93, 123, 153],\n",
       "        [288, 135,  21, ...,   0,  54, 237]],\n",
       "\n",
       "       ...,\n",
       "\n",
       "       [[536, 248, 272, ..., 368, 112, 736],\n",
       "        [792,   0, 456, ..., 192, 760, 392],\n",
       "        [696, 232, 760, ..., 608,  48, 408],\n",
       "        ...,\n",
       "        [136, 736, 656, ..., 480, 328, 256],\n",
       "        [136,  80, 648, ..., 248, 328, 408],\n",
       "        [768, 360,  56, ...,   0, 144, 632]],\n",
       "\n",
       "       [[603, 279, 306, ..., 414, 126, 828],\n",
       "        [891,   0, 513, ..., 216, 855, 441],\n",
       "        [783, 261, 855, ..., 684,  54, 459],\n",
       "        ...,\n",
       "        [153, 828, 738, ..., 540, 369, 288],\n",
       "        [153,  90, 729, ..., 279, 369, 459],\n",
       "        [864, 405,  63, ...,   0, 162, 711]],\n",
       "\n",
       "       [[670, 310, 340, ..., 460, 140, 920],\n",
       "        [990,   0, 570, ..., 240, 950, 490],\n",
       "        [870, 290, 950, ..., 760,  60, 510],\n",
       "        ...,\n",
       "        [170, 920, 820, ..., 600, 410, 320],\n",
       "        [170, 100, 810, ..., 310, 410, 510],\n",
       "        [960, 450,  70, ...,   0, 180, 790]]])"
      ]
     },
     "execution_count": 10,
     "metadata": {},
     "output_type": "execute_result"
    }
   ],
   "source": [
    "Big_A = np.array([x * A for x in range(1, 11)])  #считается за явный вид?\n",
    "\n",
    "print(\"shape: \", Big_A.shape)\n",
    "Big_A"
   ]
  },
  {
   "cell_type": "markdown",
   "metadata": {},
   "source": [
    "# Задание 2.7 (2 балла)\n",
    "\n",
    "Создайте новый массив, такой же размерности, как и `A`, в котором сначала сгруппированы четные столбцы `A`, потом  нечетные. Используйте [np.concat()](https://numpy.org/doc/stable/reference/generated/numpy.concatenate.html) "
   ]
  },
  {
   "cell_type": "code",
   "execution_count": 11,
   "metadata": {},
   "outputs": [
    {
     "data": {
      "text/plain": [
       "array([[67, 34, 15, ...,  5, 46, 92],\n",
       "       [99, 57, 89, ..., 76, 24, 49],\n",
       "       [87, 95, 83, ..., 67, 76, 51],\n",
       "       ...,\n",
       "       [17, 82, 51, ...,  2, 60, 32],\n",
       "       [17, 81,  3, ...,  7, 31, 51],\n",
       "       [96,  7, 27, ..., 78,  0, 79]])"
      ]
     },
     "execution_count": 11,
     "metadata": {},
     "output_type": "execute_result"
    }
   ],
   "source": [
    "\n",
    "A_odd = A[::,1::2]\n",
    "A_even = A[::,0::2]\n",
    "\n",
    "New_A = np.concatenate((A_even, A_odd), axis=1)\n",
    "New_A"
   ]
  },
  {
   "cell_type": "markdown",
   "metadata": {},
   "source": [
    "# Задание 2.8 (2 балла)\n",
    "\n",
    "Посчитайте количество строк массива `A`, в который все элементы больше 5. Используйте [np.all()](https://numpy.org/doc/stable/reference/generated/numpy.all.html) "
   ]
  },
  {
   "cell_type": "code",
   "execution_count": 12,
   "metadata": {},
   "outputs": [
    {
     "data": {
      "text/plain": [
       "113"
      ]
     },
     "execution_count": 12,
     "metadata": {},
     "output_type": "execute_result"
    }
   ],
   "source": [
    "A_5 = A-5\n",
    "A_5[A_5 < 0] = 0\n",
    "np.count_nonzero(np.all(A, axis=1))"
   ]
  },
  {
   "cell_type": "markdown",
   "metadata": {},
   "source": [
    "# Задание 2.9 (2 балла)\n",
    "\n",
    "Поделите массив `A` горизонтально на 10 частей и создайте новый массив размерности $20 \\times 50$, который состоит из средних этих частей. Используйте [np.split()](https://numpy.org/doc/stable/reference/generated/numpy.split.html)"
   ]
  },
  {
   "cell_type": "code",
   "execution_count": 13,
   "metadata": {},
   "outputs": [
    {
     "data": {
      "text/plain": [
       "(20, 50)"
      ]
     },
     "execution_count": 13,
     "metadata": {},
     "output_type": "execute_result"
    }
   ],
   "source": [
    "arr_of_means = np.mean(np.split(A, 10, axis=0), axis=0)\n",
    "arr_of_means.shape"
   ]
  },
  {
   "cell_type": "code",
   "execution_count": 14,
   "metadata": {},
   "outputs": [
    {
     "data": {
      "text/plain": [
       "array([[38.4, 46.5, 39.4, 60.1, 46.8, 41. , 59.6, 49.2, 58.7, 56. , 57. ,\n",
       "        66.2, 56.3, 47.4, 47.9, 45.8, 47.9, 52.2, 41.7, 67.9, 54.8, 39.5,\n",
       "        37.3, 46.9, 47.3, 46.2, 50.6, 51.4, 65.4, 61.5, 42.1, 59.3, 44.4,\n",
       "        32.3, 49.8, 55.8, 48.4, 50.2, 51.1, 44.4, 36.9, 59.9, 45.6, 51.8,\n",
       "        55.6, 51.2, 49. , 61.2, 38.6, 64.1],\n",
       "       [49.9, 33.6, 56.4, 59.7, 56.9, 32.9, 49.3, 57.5, 56.8, 58.7, 39.6,\n",
       "        54.9, 48.4, 65.5, 57.5, 36.4, 63.7, 50.4, 37.1, 39.6, 53.1, 51.3,\n",
       "        44. , 59.1, 47. , 55.2, 46.1, 58.4, 31.7, 47.1, 60. , 43.3, 66.8,\n",
       "        43. , 62.8, 50.7, 62.2, 32.8, 44.3, 49. , 69.4, 54.6, 48.8, 52.2,\n",
       "        54.2, 44.7, 40.7, 44.2, 38.6, 53.3],\n",
       "       [61.4, 47.8, 55. , 57.3, 56.9, 50.2, 30.6, 41.2, 35.2, 39.4, 42.9,\n",
       "        49.2, 58.1, 44.8, 49.7, 44.3, 53.3, 45.9, 38.8, 56.7, 39.7, 47.4,\n",
       "        38.5, 58.9, 52.3, 39.1, 65.9, 32.1, 60.4, 40.6, 40.9, 54. , 37.2,\n",
       "        40. , 42.9, 54.1, 35.3, 59.3, 32.3, 63.6, 50. , 45.9, 53.8, 42.1,\n",
       "        59.1, 67.5, 66.2, 66.5, 51.1, 61.6],\n",
       "       [54.1, 46.1, 35.8, 53.1, 38.4, 36.5, 49.2, 45.8, 54.3, 57.3, 61.6,\n",
       "        57.7, 52. , 43.1, 35.8, 50.7, 43. , 57.1, 47.5, 50.6, 53.3, 41.1,\n",
       "        33.4, 52.5, 32.8, 44.3, 64.2, 36.3, 55.2, 56.9, 70.9, 33.2, 54.8,\n",
       "        47.6, 61.7, 45.9, 44. , 42. , 36.2, 52.5, 59.6, 49.2, 25.9, 50.2,\n",
       "        47.5, 51.8, 54.9, 58. , 50.7, 68. ],\n",
       "       [52.3, 59.4, 58.7, 50.3, 54.9, 41.1, 42.6, 55.2, 56.1, 45.4, 56.2,\n",
       "        41.8, 54. , 49.3, 45.9, 41.8, 55.5, 52.3, 72. , 47.4, 42.5, 57.4,\n",
       "        41.6, 54.4, 61.9, 44.7, 39. , 46. , 48.9, 46.1, 54.2, 41.2, 51.8,\n",
       "        39.6, 50.5, 41.4, 46.2, 56.7, 54.8, 60.4, 47.5, 44.4, 53.9, 32.2,\n",
       "        54.2, 42.5, 41.4, 49.3, 54.7, 41.8],\n",
       "       [44. , 54.1, 44. , 40.6, 46.2, 60. , 44.5, 34.7, 47.8, 55.6, 56.1,\n",
       "        51.1, 48.3, 39.3, 32.8, 46.7, 44.1, 50.8, 37.6, 40.7, 47.3, 68.1,\n",
       "        54.3, 58.6, 39.3, 50.4, 40.2, 36.6, 55.3, 45.1, 48.9, 51.8, 45.2,\n",
       "        48.4, 66.3, 51.4, 31.3, 45.3, 41.2, 40.8, 53. , 57.5, 37.3, 59.7,\n",
       "        53.6, 45.9, 49.7, 60.5, 49.7, 44.4],\n",
       "       [57.4, 54.6, 42.8, 56.6, 68.4, 66. , 55.8, 42.5, 50.9, 48.5, 47.4,\n",
       "        34.4, 52. , 50.5, 52.9, 49.9, 56.2, 47.2, 45.1, 52.8, 44.7, 53.3,\n",
       "        47.3, 48.9, 53.2, 68.9, 50.6, 52. , 31.6, 46.4, 44.9, 41.2, 62.1,\n",
       "        67.4, 50.9, 49.3, 50.5, 46.7, 57.5, 58.7, 53.9, 57.5, 59.3, 62.4,\n",
       "        53.1, 61. , 41.5, 59.7, 57.5, 57.1],\n",
       "       [63.1, 53.5, 48.7, 51.7, 29.2, 51.2, 51. , 62.9, 50.3, 51.7, 63.7,\n",
       "        44.3, 58.3, 48. , 48.8, 37.7, 47.5, 56.7, 44.7, 56.5, 70.9, 43.5,\n",
       "        46.8, 40.5, 31.4, 59. , 42.6, 56.3, 47.3, 33.2, 49.7, 53.5, 54.1,\n",
       "        49.4, 44.8, 61. , 53.8, 58.9, 49.1, 45.4, 61.4, 48.3, 43.1, 43.3,\n",
       "        46.5, 56.6, 56. , 55.8, 65.9, 41.9],\n",
       "       [48.8, 56. , 56.4, 53.4, 55.9, 47.2, 54.1, 42.5, 51.5, 51.6, 51.6,\n",
       "        52.9, 48.8, 32.9, 51.9, 35.4, 47.9, 52.8, 54.4, 57.8, 52.6, 49.2,\n",
       "        54.4, 46.6, 60.4, 46.8, 60.2, 43.1, 62.4, 61.2, 51.1, 50. , 71.2,\n",
       "        45.5, 60.7, 44.1, 58.9, 44.1, 46.6, 50.7, 63.3, 40.4, 54.3, 56. ,\n",
       "        71.3, 52.5, 41.9, 51.8, 54.2, 62.7],\n",
       "       [51.8, 33.9, 54.4, 44.1, 29.8, 51. , 47.5, 43.6, 59.9, 42.7, 35.5,\n",
       "        78.1, 49.8, 43.4, 52.2, 43.4, 52.5, 49.4, 53.8, 43.7, 43.8, 52.2,\n",
       "        59.2, 43.5, 50.8, 53.5, 51.1, 45.7, 25.9, 43.2, 47. , 58.4, 32.8,\n",
       "        68.6, 42.1, 57.2, 51.9, 46.4, 48.8, 48.9, 37. , 43.8, 62.1, 47.4,\n",
       "        57.1, 36.2, 40.5, 39.5, 62.6, 34.4],\n",
       "       [58.5, 49.1, 56.4, 44.2, 52. , 46.1, 42. , 46.3, 51.3, 60.4, 58.7,\n",
       "        63.4, 49.5, 47.9, 61.2, 57.1, 50.5, 61.4, 36.5, 55.5, 59.8, 66.7,\n",
       "        60.5, 39.3, 49.9, 48.8, 44.9, 38.9, 51.9, 55. , 56.3, 52.1, 44.4,\n",
       "        50.3, 48.7, 51.2, 39.5, 53.1, 48.7, 46.2, 38.8, 51.2, 46.2, 45.8,\n",
       "        33.1, 58.4, 54.1, 44. , 37.2, 64.7],\n",
       "       [58.4, 45.9, 39.8, 58.7, 43.9, 41.8, 45. , 70.7, 49.5, 44.3, 57.9,\n",
       "        52.3, 58.1, 60.7, 43.8, 34.9, 58.3, 46. , 56.7, 54. , 43.7, 41.1,\n",
       "        48.2, 54.1, 45.4, 53.8, 52.9, 51.4, 56.2, 49.7, 42.9, 56.2, 63.9,\n",
       "        43.6, 45.2, 50.7, 55.5, 47.5, 32. , 63.4, 56.2, 59.5, 52.7, 52.3,\n",
       "        65.3, 44.1, 54.8, 51.8, 35.3, 48.8],\n",
       "       [47.3, 68.9, 60.5, 39.4, 41. , 40.6, 51.6, 70.8, 52. , 56.2, 58.7,\n",
       "        56. , 45.8, 56.6, 49.1, 54.4, 43.1, 38.6, 48.5, 54.9, 45.6, 51.9,\n",
       "        72.1, 60.6, 55.8, 53.6, 46.7, 20.8, 39.5, 42.5, 55.3, 40.3, 41. ,\n",
       "        46.8, 67.1, 47.9, 49.5, 27. , 55.9, 39.9, 52.9, 41.1, 46. , 41.7,\n",
       "        58.4, 40.2, 34.4, 55.8, 58.2, 53.1],\n",
       "       [48.2, 43.7, 67.2, 48.1, 61.4, 48.3, 48.3, 59. , 47.9, 33.8, 43.2,\n",
       "        46.5, 51.9, 43.9, 38.4, 29.7, 42.2, 43.1, 64.2, 33.1, 37.1, 59.1,\n",
       "        44.2, 58.5, 53.1, 43.5, 53.1, 45.8, 47.1, 46.3, 47.1, 62.8, 55.6,\n",
       "        66.1, 48.4, 45.3, 44.2, 46.7, 54.1, 58.4, 53.2, 36.5, 55.1, 46.6,\n",
       "        51.4, 29.4, 46.4, 50.4, 45.6, 51.4],\n",
       "       [50.3, 32.6, 45.6, 48.9, 39. , 30.6, 41.1, 50.9, 41.7, 37. , 52.7,\n",
       "        48.5, 61.5, 54.1, 46.4, 52.2, 64.7, 54. , 55.8, 65.7, 65.2, 32.3,\n",
       "        55. , 54.4, 42.5, 42. , 58.1, 52.7, 46.9, 50.3, 60.9, 47.2, 49.1,\n",
       "        69.2, 47.2, 66.9, 45.4, 38.6, 48.3, 40.9, 47.9, 32.1, 42.5, 36.3,\n",
       "        46.7, 47.5, 59.4, 50.1, 34.3, 47.3],\n",
       "       [46.2, 53. , 58.2, 66.4, 46.3, 36. , 46.9, 44. , 58.3, 45. , 55.4,\n",
       "        45.4, 57.3, 63.8, 50.9, 34.1, 49.8, 35. , 56.1, 43.1, 55. , 59.4,\n",
       "        58.1, 43.9, 35.2, 48.1, 45.8, 58.5, 65.8, 50.1, 68.5, 47. , 52.6,\n",
       "        57.4, 38.6, 45. , 39.6, 52.4, 44.9, 35.6, 54.3, 48.8, 43.4, 49.1,\n",
       "        37.5, 45.1, 57.5, 59.8, 35.3, 36.4],\n",
       "       [51.2, 71.1, 61.4, 37. , 59. , 41.5, 59.2, 55.3, 40. , 39.5, 66.3,\n",
       "        43.2, 48.4, 57.3, 63.3, 56.6, 48.8, 40.3, 43.9, 47.4, 41.8, 60.6,\n",
       "        47.2, 50.7, 52. , 46.5, 63.7, 48.5, 44.3, 60.8, 53.5, 60.3, 40.4,\n",
       "        50.5, 30.4, 58.4, 44.6, 48.8, 60.2, 55.7, 42.5, 40.1, 46. , 63.5,\n",
       "        45.9, 65.9, 53.7, 71.9, 42.8, 44.4],\n",
       "       [42.1, 41.4, 53.2, 40.3, 56.4, 42.5, 41.7, 66.9, 38.7, 63.5, 48.2,\n",
       "        35.7, 44.9, 42.2, 50.2, 33.4, 31.2, 32.3, 47.6, 47.8, 54.3, 57.9,\n",
       "        40.9, 47.8, 40.6, 72.2, 52.7, 44.1, 37.8, 55.8, 31.3, 54.5, 49.4,\n",
       "        45.8, 50.2, 49.2, 37.7, 68.9, 52.6, 51.9, 50.8, 56. , 59.8, 55.6,\n",
       "        58.3, 35.3, 46.8, 48.6, 58.1, 40.2],\n",
       "       [32.9, 58.9, 45.1, 46.6, 47.1, 45.9, 61.9, 54.6, 55.5, 43.7, 57. ,\n",
       "        39.3, 55. , 42.4, 56.1, 55.9, 59.5, 44.2, 55.4, 46.3, 66.4, 43.5,\n",
       "        48.5, 38.6, 58.6, 56.9, 50.6, 39.9, 51.7, 53.4, 63.5, 28.9, 60.6,\n",
       "        53.1, 59.4, 35.3, 50.8, 45.7, 46.9, 49.4, 58.6, 54. , 48.3, 49.8,\n",
       "        38.4, 46.2, 52.3, 50.1, 30.3, 51.8],\n",
       "       [38.4, 35. , 37.2, 57.6, 44.8, 35.5, 56.8, 46.6, 55.7, 65.1, 42.4,\n",
       "        48.3, 41. , 44.2, 50.1, 48.3, 30.5, 54.9, 51.5, 39. , 37.3, 55.2,\n",
       "        40.5, 40.9, 38.3, 61.6, 52. , 52.5, 47.6, 46.3, 47.9, 54.2, 30.6,\n",
       "        62.5, 41. , 49.2, 57. , 55.5, 56.8, 52.8, 56.9, 59.7, 49.5, 61.4,\n",
       "        54.4, 37.8, 37.7, 42.3, 40.9, 38.5]])"
      ]
     },
     "execution_count": 14,
     "metadata": {},
     "output_type": "execute_result"
    }
   ],
   "source": [
    "arr_of_means"
   ]
  },
  {
   "cell_type": "markdown",
   "metadata": {},
   "source": [
    "# Задание 2.10 (4 балла)\n",
    "\n",
    "\"Разверните\" массив `A` в одномерный массив. Оставьте в нём только уникальные элементы в том же порядке, в котором они встречаются в массиве. Используйте [np.unique()](https://numpy.org/doc/stable/reference/generated/numpy.unique.html)"
   ]
  },
  {
   "cell_type": "code",
   "execution_count": 15,
   "metadata": {},
   "outputs": [
    {
     "data": {
      "text/plain": [
       "array([67, 31, 34, 89, 15, 91, 97, 11, 57, 45, 64, 53, 39, 12,  6, 22, 61,\n",
       "       84, 19, 44, 16, 56, 81, 94, 47,  4, 60, 59,  3, 51, 32, 23,  1, 79,\n",
       "       40, 50, 33, 21, 78, 18,  5, 42, 46, 14, 92, 99,  0, 82, 10, 65, 66,\n",
       "       38, 80, 69, 73, 87, 63, 85, 75, 43, 98, 54, 30, 76, 24, 95, 49, 29,\n",
       "       96, 83, 72, 25, 41, 62, 71,  2, 77, 35, 20, 86, 58, 70, 36, 68, 28,\n",
       "       74, 48,  7, 13,  8, 93, 52,  9, 26, 37, 17, 27, 90, 55, 88])"
      ]
     },
     "execution_count": 15,
     "metadata": {},
     "output_type": "execute_result"
    }
   ],
   "source": [
    "_, inds = np.unique(A, return_index = True)\n",
    "B = A\n",
    "B = B.reshape((200*50))\n",
    "B[inds]\n",
    "inds = np.sort(inds)\n",
    "B[inds]"
   ]
  },
  {
   "cell_type": "markdown",
   "metadata": {},
   "source": [
    "# Задание 2.11 (3 балла)\n",
    "\n",
    "Создайте одномерный массив размерности $200$, в котором каждый элемент - евклидово расстояние между соответствующей строкой `A` и \"средней\" строкой `A`"
   ]
  },
  {
   "cell_type": "code",
   "execution_count": 16,
   "metadata": {},
   "outputs": [
    {
     "data": {
      "text/plain": [
       "array([275.33252623, 273.75901812, 283.85911999, 277.04151313,\n",
       "       279.80528944, 306.71648146, 282.77022474, 309.67886592,\n",
       "       308.70212179, 279.32418442, 284.25164907, 303.30842389,\n",
       "       271.55662393, 258.06394556, 296.4725957 , 311.40006423,\n",
       "       275.89128294, 291.68133296, 298.76244744, 263.86360113,\n",
       "       343.32783167, 315.0904632 , 247.06679259, 259.1447472 ,\n",
       "       277.49774774, 310.51731031, 303.05610042, 297.75493279,\n",
       "       275.63200104, 318.33001743, 309.31860597, 253.19755133,\n",
       "       292.38331006, 338.56314034, 291.52529907, 305.68120649,\n",
       "       305.09670598, 292.92149119, 292.94197378, 319.51682272,\n",
       "       277.15699522, 301.76149522, 285.57485884, 264.69038517,\n",
       "       296.42705679, 248.37874305, 269.40489973, 311.35028505,\n",
       "       287.34126052, 289.40110573, 293.64774816, 314.32467291,\n",
       "       257.42765974, 292.53717712, 287.46651979, 237.24249198,\n",
       "       255.6403724 , 211.85372312, 327.67972168, 270.83389744,\n",
       "       263.80485212, 260.80644164, 337.74990748, 328.8707953 ,\n",
       "       270.76188801, 256.31035875, 256.1132562 , 307.80675756,\n",
       "       294.83893908, 264.70549673, 301.82610888, 321.38761644,\n",
       "       324.54737713, 280.0535663 , 306.55179008, 314.1623784 ,\n",
       "       280.82200768, 258.12012707, 283.1236479 , 263.51470547,\n",
       "       300.57112303, 307.86523026, 260.95401894, 277.56981104,\n",
       "       232.02370569, 251.37024486, 270.65660901, 291.40350032,\n",
       "       325.04307407, 306.48817269, 306.34457723, 294.76261635,\n",
       "       285.32788157, 287.73251467, 338.5158785 , 298.22810062,\n",
       "       295.78032389, 254.17710361, 274.29728398,   0.        ,\n",
       "       278.90320902, 270.31093208, 318.6942108 , 272.26090428,\n",
       "       294.77957867, 318.27660926, 272.82411917, 298.48618058,\n",
       "       271.15309329, 297.51134432, 260.34976474, 279.89640941,\n",
       "       274.52140172, 305.87906107, 278.86376602, 272.3361893 ,\n",
       "       317.1245812 , 302.94884057, 323.99074061, 273.22518186,\n",
       "       280.04285386, 274.90907588, 283.26136341, 274.14594653,\n",
       "       290.5666877 , 289.5202929 , 273.34227628, 259.12352267,\n",
       "       282.7790657 , 297.56007797, 262.90492578, 289.40801648,\n",
       "       267.87310429, 278.00179856, 278.68082101, 296.15367632,\n",
       "       289.04670903, 257.77509577, 286.38086528, 291.5544546 ,\n",
       "       275.84597151, 296.49114658, 278.63955211, 256.05468166,\n",
       "       250.28583659, 306.27438678, 293.00341295, 258.45309052,\n",
       "       285.64488443, 291.7807396 , 267.34060672, 299.44615543,\n",
       "       298.86953675, 267.14228419, 318.15247917, 313.21079164,\n",
       "       253.96062687, 235.88980478, 276.92056623, 304.89834371,\n",
       "       315.48692524, 315.62477723, 262.51285683, 264.8263582 ,\n",
       "       318.59064644, 256.94746545, 310.2402295 , 278.0359689 ,\n",
       "       295.47081074, 291.42065816, 259.19104923, 290.09136492,\n",
       "       309.61589107, 274.90543829, 291.1082273 , 282.75961522,\n",
       "       302.36732628, 305.58632168, 238.85769822, 262.39855183,\n",
       "       319.82495212, 284.26396184, 279.57288853, 288.38169151,\n",
       "       274.98545416, 288.50129982, 280.82200768, 276.80137283,\n",
       "       323.6294177 , 299.73154655, 273.69873949, 268.56470356,\n",
       "       293.86391408, 254.59968578, 276.99277969, 283.49603172,\n",
       "       283.7287437 , 247.1295207 , 311.14948176, 300.70749908])"
      ]
     },
     "execution_count": 16,
     "metadata": {},
     "output_type": "execute_result"
    }
   ],
   "source": [
    "mean_arr = (A[:]-A[99])**2\n",
    "mean_arr = np.sqrt(mean_arr.sum(axis=1))\n",
    "mean_arr"
   ]
  },
  {
   "cell_type": "code",
   "execution_count": 17,
   "metadata": {},
   "outputs": [
    {
     "data": {
      "text/plain": [
       "(200,)"
      ]
     },
     "execution_count": 17,
     "metadata": {},
     "output_type": "execute_result"
    }
   ],
   "source": [
    "mean_arr.shape"
   ]
  },
  {
   "cell_type": "markdown",
   "metadata": {},
   "source": [
    "# Задание 2.12 (2 балла)\n",
    "\n",
    "Создайте новый массив, который состоит из элементов `A`, измененных по следующим правилам:\n",
    "- если элемент меньше $50$, то он умножается на $2$\n",
    "- в противном случае он умножается на $3$\n",
    "\n",
    "Используйте [np.where()](https://numpy.org/doc/stable/reference/generated/numpy.where.html)"
   ]
  },
  {
   "cell_type": "code",
   "execution_count": 18,
   "metadata": {},
   "outputs": [
    {
     "name": "stdout",
     "output_type": "stream",
     "text": [
      "[[67 31 34 ... 46 14 92]\n",
      " [99  0 57 ... 24 95 49]\n",
      " [87 29 95 ... 76  6 51]\n",
      " ...\n",
      " [17 92 82 ... 60 41 32]\n",
      " [17 10 81 ... 31 41 51]\n",
      " [96 45  7 ...  0 18 79]]\n"
     ]
    },
    {
     "data": {
      "text/plain": [
       "array([[201,  62,  68, ...,  92,  28, 276],\n",
       "       [297,   0, 171, ...,  48, 285,  98],\n",
       "       [261,  58, 285, ..., 228,  12, 153],\n",
       "       ...,\n",
       "       [ 34, 276, 246, ..., 180,  82,  64],\n",
       "       [ 34,  20, 243, ...,  62,  82, 153],\n",
       "       [288,  90,  14, ...,   0,  36, 237]])"
      ]
     },
     "execution_count": 18,
     "metadata": {},
     "output_type": "execute_result"
    }
   ],
   "source": [
    "print(A)\n",
    "np.where(A<50, 2*A, 3*A)"
   ]
  },
  {
   "cell_type": "markdown",
   "metadata": {},
   "source": [
    "# Задание 2.13 (7 баллов)\n",
    "\n",
    "Разверните массив `A` в одномерный массив. Создайте новый массив той же размерности, состоящий из суммы скользящих средних по окну $3$, $5$, $10$.\n",
    "\n",
    "*Tip: реализуйте функцию, которая считает скользящее среднее. Используйте [np.cumsum()](https://numpy.org/doc/stable/reference/generated/numpy.cumsum.html) или [np.convolve()](https://numpy.org/doc/stable/reference/generated/numpy.convolve.html)*"
   ]
  },
  {
   "cell_type": "code",
   "execution_count": 19,
   "metadata": {},
   "outputs": [
    {
     "name": "stdout",
     "output_type": "stream",
     "text": [
      "(9998,) (9996,) (9991,)\n"
     ]
    },
    {
     "data": {
      "text/plain": [
       "array([[146.1       , 156.03333333, 167.2       , ..., 154.26666667,\n",
       "        176.03333333, 190.16666667],\n",
       "       [172.5       , 148.23333333, 183.8       , ..., 174.5       ,\n",
       "        213.        , 188.9       ],\n",
       "       [209.23333333, 198.53333333, 223.33333333, ..., 133.63333333,\n",
       "        121.76666667, 143.        ],\n",
       "       ...,\n",
       "       [150.36666667, 152.23333333, 115.66666667, ..., 114.93333333,\n",
       "        107.8       , 107.56666667],\n",
       "       [116.8       , 148.5       , 148.16666667, ..., 137.7       ,\n",
       "        155.46666667, 153.3       ],\n",
       "       [134.13333333,  95.8       ,  93.4       , ...,  32.33333333,\n",
       "          0.        ,   0.        ]])"
      ]
     },
     "execution_count": 19,
     "metadata": {},
     "output_type": "execute_result"
    }
   ],
   "source": [
    "def rolling_mean(x, w):\n",
    "    return [np.convolve(x, np.ones(i), mode='valid')/i for i in w]\n",
    "\n",
    "def rolling_mean_(x, w):\n",
    "    cumsum = np.cumsum(np.insert(x, 0, 0)) \n",
    "    return [(cumsum[i:] - cumsum[:-i]) / float(i) for i in w]\n",
    "\n",
    "\n",
    "A_1D = A.flatten()\n",
    "w = [3, 5, 10]\n",
    "\n",
    "W = rolling_mean(A_1D, w)\n",
    "print(W[0].shape, W[1].shape, W[2].shape)\n",
    "T = rolling_mean_(A_1D, w)\n",
    "w1, w2, w3 = W[0].resize((200,50)), W[1].resize((200,50)), W[2].resize((200,50)) #Недостающие элементы обиваются нулями\n",
    "\n",
    "\n",
    "Sum_W = np.array(W).sum(axis=0)\n",
    "Sum_W"
   ]
  },
  {
   "cell_type": "markdown",
   "metadata": {},
   "source": [
    "# Задание 2.14 (8 баллов)\n",
    "\n",
    "Постройте график функции $$f(x) = (5  \\sin(2x) - \\cos^2(x) - 1 + |x^3| - x^2) / (x^2 + 1)$$  \n",
    "\n",
    "и производной от этой функции.  Найдите минимум с помощью `scipy` и обозначьте его на графике. На этой же оси постройте графики скользящего среднего этой функции с окном $1$, $2$, $5$."
   ]
  },
  {
   "cell_type": "code",
   "execution_count": 20,
   "metadata": {},
   "outputs": [
    {
     "data": {
      "text/plain": [
       "<matplotlib.legend.Legend at 0x6adaa705b0>"
      ]
     },
     "execution_count": 20,
     "metadata": {},
     "output_type": "execute_result"
    },
    {
     "data": {
      "image/png": "[encoded data removed]",
      "text/plain": [
       "<Figure size 1500x1500 with 1 Axes>"
      ]
     },
     "metadata": {},
     "output_type": "display_data"
    }
   ],
   "source": [
    "def func(x):\n",
    "    return (5*np.sin(2*x)-np.cos(x)*np.cos(x)-1+np.abs(x*x*x)-x*x)/(x*x+1)\n",
    "\n",
    "x = np.arange(-4,4,0.01)\n",
    "y = func(x)\n",
    "plt.figure(figsize=(15, 15))\n",
    "plt.plot(x, y, linewidth=5, color='blue')\n",
    "\n",
    "ix = np.arange(-4,4,0.01)\n",
    "iy = sp.misc.derivative(func, ix, dx=1e-6)\n",
    "func_min = sp.optimize.minimize(func, x0=0, method='nelder-mead')\n",
    "plt.plot(ix, iy, linewidth=1, color='green')\n",
    "plt.plot(func_min.x, func(func_min.x),'o', color='red')\n",
    "plt.xlabel('x')\n",
    "plt.ylabel('y')\n",
    "\n",
    "\n",
    "w = [1,2,5]\n",
    "r_m = rolling_mean(y, w)\n",
    "\n",
    "plt.plot(x[:r_m[0].shape[0]], r_m[0], color='w', linewidth=3)\n",
    "plt.plot(x[:r_m[1].shape[0]], r_m[1], color='black', linewidth=2)\n",
    "plt.plot(x[:r_m[2].shape[0]], r_m[2], color='y', linewidth=1)\n",
    "plt.legend(('f', \"f'\", 'min', 'rolling_mean_1', 'rolling_mean_2', 'rolling_mean_5'))\n",
    "\n"
   ]
  },
  {
   "cell_type": "markdown",
   "metadata": {},
   "source": [
    "# Задание 2.15 (10 баллов)\n",
    "\n",
    "Есть следующий алгоритм семплинирования, на вход функции подается вектор из целых положительных чисел и число семплов."
   ]
  },
  {
   "cell_type": "code",
   "execution_count": 21,
   "metadata": {},
   "outputs": [],
   "source": [
    "from typing import List \n",
    "\n",
    "def sample(x: List[int], c: int) -> List[int]:\n",
    "    assert len(x) > 0\n",
    "    \n",
    "    s = np.sum(x)\n",
    "    res = []\n",
    "    for _ in range(c):\n",
    "        val = s * np.random.random()\n",
    "        cur, idx = 0, 0        \n",
    "        while cur + x[idx] <= val:\n",
    "            cur += x[idx]\n",
    "            idx += 1\n",
    "            \n",
    "        res.append(idx)\n",
    "    return x[res]\n",
    "\n",
    "ex =np.array([50, 3, 1, 7, 20])       \n"
   ]
  },
  {
   "cell_type": "markdown",
   "metadata": {},
   "source": [
    "Реализуйте данный алгоритм более оптимальным способом на массивах `numpy`, без использования циклов. Проверьте корректность и идентичность алгоритмов семплирования с помощью статистических тестов."
   ]
  },
  {
   "cell_type": "code",
   "execution_count": 22,
   "metadata": {},
   "outputs": [],
   "source": [
    "def sampling_np(x, n):\n",
    "    return np.random.choice(x, n, replace=True)"
   ]
  },
  {
   "cell_type": "code",
   "execution_count": 23,
   "metadata": {},
   "outputs": [
    {
     "name": "stderr",
     "output_type": "stream",
     "text": [
      "C:\\Users\\admin\\AppData\\Local\\Temp\\ipykernel_42944\\130902504.py:6: RuntimeWarning: Precision loss occurred in moment calculation due to catastrophic cancellation. This occurs when the data are nearly identical. Results may be unreliable.\n",
      "  test.append(sp.stats.ttest_ind(res1, res2).pvalue)\n"
     ]
    }
   ],
   "source": [
    "test = []\n",
    "\n",
    "for i in range(100):\n",
    "    res1 = sampling_np(ex,5)\n",
    "    res2 = sample(ex,5)\n",
    "    test.append(sp.stats.ttest_ind(res1, res2).pvalue)"
   ]
  },
  {
   "cell_type": "code",
   "execution_count": 24,
   "metadata": {},
   "outputs": [
    {
     "data": {
      "text/plain": [
       "60"
      ]
     },
     "execution_count": 24,
     "metadata": {},
     "output_type": "execute_result"
    }
   ],
   "source": [
    "pos = np.array(test) >= 0.05 #выборки однородные, нулевая гипотеза о равенстве матожиданий совпадает\n",
    "len(np.where(pos==True)[0])"
   ]
  },
  {
   "cell_type": "code",
   "execution_count": 25,
   "metadata": {},
   "outputs": [
    {
     "data": {
      "text/plain": [
       "40"
      ]
     },
     "execution_count": 25,
     "metadata": {},
     "output_type": "execute_result"
    }
   ],
   "source": [
    "neg = np.array(test) < 0.05 #Выборки неоднородные, нулевая гипотеза отвергается\n",
    "len(np.where(neg==True)[0])"
   ]
  },
  {
   "cell_type": "markdown",
   "metadata": {},
   "source": [
    "# Задание 2.16 (5 баллов)\n",
    "\n",
    "Есть следующий алгоритм \"случайного блуждания\""
   ]
  },
  {
   "cell_type": "code",
   "execution_count": 26,
   "metadata": {},
   "outputs": [
    {
     "data": {
      "text/plain": [
       "2161"
      ]
     },
     "execution_count": 26,
     "metadata": {},
     "output_type": "execute_result"
    }
   ],
   "source": [
    "import random \n",
    "\n",
    "def walk(n: int):\n",
    "    cur_position = 0\n",
    "    for i in range(n):\n",
    "        cur_position += random.choice([-3, -1, 0, 2, 3])\n",
    "\n",
    "    return cur_position\n",
    "\n",
    "walk(10_000)"
   ]
  },
  {
   "cell_type": "markdown",
   "metadata": {},
   "source": [
    "Реализуйте более эффективную версию с помощью `numpy`, сравните производительность (используя, например, magic `timeit`). Воспользовавшись [kdeplot()](https://seaborn.pydata.org/generated/seaborn.kdeplot.html) или аналогами, постройте график распределения значений `walk(10_000)` на каком-то разумном запусков. "
   ]
  },
  {
   "cell_type": "code",
   "execution_count": 27,
   "metadata": {},
   "outputs": [],
   "source": [
    "import timeit"
   ]
  },
  {
   "cell_type": "code",
   "execution_count": 28,
   "metadata": {},
   "outputs": [
    {
     "data": {
      "text/plain": [
       "1885"
      ]
     },
     "execution_count": 28,
     "metadata": {},
     "output_type": "execute_result"
    }
   ],
   "source": [
    "def walk_np(n: int):\n",
    "    steps = np.random.choice([-3, -1, 0, 2, 3], size=n)\n",
    "    return np.sum(steps)\n",
    "\n",
    "\n",
    "walk_np(10_000)"
   ]
  },
  {
   "cell_type": "code",
   "execution_count": 29,
   "metadata": {},
   "outputs": [
    {
     "name": "stdout",
     "output_type": "stream",
     "text": [
      "Function walk:  1.5220261989161372\n",
      "Function walk_np:  0.05053301784209907\n"
     ]
    }
   ],
   "source": [
    "print(\"Function walk: \", timeit.timeit('walk(10000)', globals=globals(), number=100)) #для 100 повторений\n",
    "print(\"Function walk_np: \", timeit.timeit('walk_np(10000)', globals=globals(), number=100))"
   ]
  },
  {
   "cell_type": "code",
   "execution_count": 30,
   "metadata": {},
   "outputs": [
    {
     "data": {
      "text/plain": [
       "<AxesSubplot: ylabel='Density'>"
      ]
     },
     "execution_count": 30,
     "metadata": {},
     "output_type": "execute_result"
    },
    {
     "data": {
      "image/png": "[encoded data removed]",
      "text/plain": [
       "<Figure size 640x480 with 1 Axes>"
      ]
     },
     "metadata": {},
     "output_type": "display_data"
    }
   ],
   "source": [
    "data_1 = [walk_np(10000) for i in range(500)]\n",
    "data_2 = [walk(10000) for i in range(500)]\n",
    "sns.kdeplot(data_1, color='b') #функция с numpy \n",
    "sns.kdeplot(data_2, color='r') #изначальная функция\n"
   ]
  },
  {
   "cell_type": "markdown",
   "metadata": {},
   "source": [
    "# Задание 2.17 (5 баллов)\n",
    "\n",
    "Имеется функция, которая проделывает достаточно странные манипуляции с массивом `numpy`"
   ]
  },
  {
   "cell_type": "code",
   "execution_count": 31,
   "metadata": {},
   "outputs": [
    {
     "data": {
      "text/plain": [
       "0.5265766666372504"
      ]
     },
     "execution_count": 31,
     "metadata": {},
     "output_type": "execute_result"
    }
   ],
   "source": [
    "import numpy.typing as npt\n",
    "\n",
    "def strange_conv(a: npt.NDArray[np.float64]) -> np.float64:\n",
    "    x = a.shape[0]\n",
    "    y = a.shape[1]\n",
    "\n",
    "    t = 1.\n",
    "    for y in range(y - 5):\n",
    "        for x in range(x - 3):\n",
    "            c = 1.5 * a[y+1, x+2] - a[y+5, x+3] * a[y, x] + 0.2 * a[y+4, x]\n",
    "            t = 0.2 * t + 0.8 * c\n",
    "\n",
    "    return t\n",
    "\n",
    "\n",
    "a = np.random.random((10000, 10000))\n",
    "strange_conv(a)\n"
   ]
  },
  {
   "cell_type": "code",
   "execution_count": 32,
   "metadata": {},
   "outputs": [],
   "source": [
    "from numba import njit"
   ]
  },
  {
   "cell_type": "code",
   "execution_count": 33,
   "metadata": {},
   "outputs": [
    {
     "data": {
      "text/plain": [
       "0.5420301887235344"
      ]
     },
     "execution_count": 33,
     "metadata": {},
     "output_type": "execute_result"
    }
   ],
   "source": [
    "@njit\n",
    "def strange_conv(a: npt.NDArray[np.float64]) -> np.float64:\n",
    "    x = a.shape[0]\n",
    "    y = a.shape[1]\n",
    "\n",
    "    t = 1.\n",
    "    for y in range(y - 5):\n",
    "        for x in range(x - 3):\n",
    "            c = 1.5 * a[y+1, x+2] - a[y+5, x+3] * a[y, x] + 0.2 * a[y+4, x]\n",
    "            t = 0.2 * t + 0.8 * c\n",
    "\n",
    "    return t\n",
    "\n",
    "\n",
    "a = np.random.random((10000, 10000))\n",
    "strange_conv(a)"
   ]
  },
  {
   "cell_type": "code",
   "execution_count": 34,
   "metadata": {},
   "outputs": [],
   "source": [
    "import cython\n",
    "from distutils.core import setup\n",
    "from Cython.Build import cythonize"
   ]
  },
  {
   "cell_type": "code",
   "execution_count": 45,
   "metadata": {},
   "outputs": [
    {
     "ename": "AssertionError",
     "evalue": "",
     "output_type": "error",
     "traceback": [
      "\u001b[1;31m---------------------------------------------------------------------------\u001b[0m",
      "\u001b[1;31mGetoptError\u001b[0m                               Traceback (most recent call last)",
      "File \u001b[1;32mc:\\Users\\admin\\AppData\\Local\\Programs\\Python\\Python310\\lib\\site-packages\\setuptools\\_distutils\\fancy_getopt.py:244\u001b[0m, in \u001b[0;36mFancyGetopt.getopt\u001b[1;34m(self, args, object)\u001b[0m\n\u001b[0;32m    243\u001b[0m \u001b[39mtry\u001b[39;00m:\n\u001b[1;32m--> 244\u001b[0m     opts, args \u001b[39m=\u001b[39m getopt\u001b[39m.\u001b[39;49mgetopt(args, short_opts, \u001b[39mself\u001b[39;49m\u001b[39m.\u001b[39;49mlong_opts)\n\u001b[0;32m    245\u001b[0m \u001b[39mexcept\u001b[39;00m getopt\u001b[39m.\u001b[39merror \u001b[39mas\u001b[39;00m msg:\n",
      "File \u001b[1;32mc:\\Users\\admin\\AppData\\Local\\Programs\\Python\\Python310\\lib\\getopt.py:93\u001b[0m, in \u001b[0;36mgetopt\u001b[1;34m(args, shortopts, longopts)\u001b[0m\n\u001b[0;32m     92\u001b[0m \u001b[39mif\u001b[39;00m args[\u001b[39m0\u001b[39m]\u001b[39m.\u001b[39mstartswith(\u001b[39m'\u001b[39m\u001b[39m--\u001b[39m\u001b[39m'\u001b[39m):\n\u001b[1;32m---> 93\u001b[0m     opts, args \u001b[39m=\u001b[39m do_longs(opts, args[\u001b[39m0\u001b[39;49m][\u001b[39m2\u001b[39;49m:], longopts, args[\u001b[39m1\u001b[39;49m:])\n\u001b[0;32m     94\u001b[0m \u001b[39melse\u001b[39;00m:\n",
      "File \u001b[1;32mc:\\Users\\admin\\AppData\\Local\\Programs\\Python\\Python310\\lib\\getopt.py:157\u001b[0m, in \u001b[0;36mdo_longs\u001b[1;34m(opts, opt, longopts, args)\u001b[0m\n\u001b[0;32m    155\u001b[0m     opt, optarg \u001b[39m=\u001b[39m opt[:i], opt[i\u001b[39m+\u001b[39m\u001b[39m1\u001b[39m:]\n\u001b[1;32m--> 157\u001b[0m has_arg, opt \u001b[39m=\u001b[39m long_has_args(opt, longopts)\n\u001b[0;32m    158\u001b[0m \u001b[39mif\u001b[39;00m has_arg:\n",
      "File \u001b[1;32mc:\\Users\\admin\\AppData\\Local\\Programs\\Python\\Python310\\lib\\getopt.py:174\u001b[0m, in \u001b[0;36mlong_has_args\u001b[1;34m(opt, longopts)\u001b[0m\n\u001b[0;32m    173\u001b[0m \u001b[39mif\u001b[39;00m \u001b[39mnot\u001b[39;00m possibilities:\n\u001b[1;32m--> 174\u001b[0m     \u001b[39mraise\u001b[39;00m GetoptError(_(\u001b[39m'\u001b[39m\u001b[39moption --\u001b[39m\u001b[39m%s\u001b[39;00m\u001b[39m not recognized\u001b[39m\u001b[39m'\u001b[39m) \u001b[39m%\u001b[39m opt, opt)\n\u001b[0;32m    175\u001b[0m \u001b[39m# Is there an exact match?\u001b[39;00m\n",
      "\u001b[1;31mGetoptError\u001b[0m: option --ip not recognized",
      "\nDuring handling of the above exception, another exception occurred:\n",
      "\u001b[1;31mDistutilsArgError\u001b[0m                         Traceback (most recent call last)",
      "File \u001b[1;32mc:\\Users\\admin\\AppData\\Local\\Programs\\Python\\Python310\\lib\\site-packages\\setuptools\\_distutils\\core.py:164\u001b[0m, in \u001b[0;36msetup\u001b[1;34m(**attrs)\u001b[0m\n\u001b[0;32m    163\u001b[0m \u001b[39mtry\u001b[39;00m:\n\u001b[1;32m--> 164\u001b[0m     ok \u001b[39m=\u001b[39m dist\u001b[39m.\u001b[39;49mparse_command_line()\n\u001b[0;32m    165\u001b[0m \u001b[39mexcept\u001b[39;00m DistutilsArgError \u001b[39mas\u001b[39;00m msg:\n",
      "File \u001b[1;32mc:\\Users\\admin\\AppData\\Local\\Programs\\Python\\Python310\\lib\\site-packages\\setuptools\\_distutils\\dist.py:466\u001b[0m, in \u001b[0;36mDistribution.parse_command_line\u001b[1;34m(self)\u001b[0m\n\u001b[0;32m    465\u001b[0m parser\u001b[39m.\u001b[39mset_aliases({\u001b[39m'\u001b[39m\u001b[39mlicence\u001b[39m\u001b[39m'\u001b[39m: \u001b[39m'\u001b[39m\u001b[39mlicense\u001b[39m\u001b[39m'\u001b[39m})\n\u001b[1;32m--> 466\u001b[0m args \u001b[39m=\u001b[39m parser\u001b[39m.\u001b[39;49mgetopt(args\u001b[39m=\u001b[39;49m\u001b[39mself\u001b[39;49m\u001b[39m.\u001b[39;49mscript_args, \u001b[39mobject\u001b[39;49m\u001b[39m=\u001b[39;49m\u001b[39mself\u001b[39;49m)\n\u001b[0;32m    467\u001b[0m option_order \u001b[39m=\u001b[39m parser\u001b[39m.\u001b[39mget_option_order()\n",
      "File \u001b[1;32mc:\\Users\\admin\\AppData\\Local\\Programs\\Python\\Python310\\lib\\site-packages\\setuptools\\_distutils\\fancy_getopt.py:246\u001b[0m, in \u001b[0;36mFancyGetopt.getopt\u001b[1;34m(self, args, object)\u001b[0m\n\u001b[0;32m    245\u001b[0m \u001b[39mexcept\u001b[39;00m getopt\u001b[39m.\u001b[39merror \u001b[39mas\u001b[39;00m msg:\n\u001b[1;32m--> 246\u001b[0m     \u001b[39mraise\u001b[39;00m DistutilsArgError(msg)\n\u001b[0;32m    248\u001b[0m \u001b[39mfor\u001b[39;00m opt, val \u001b[39min\u001b[39;00m opts:\n",
      "\u001b[1;31mDistutilsArgError\u001b[0m: option --ip not recognized",
      "\nDuring handling of the above exception, another exception occurred:\n",
      "\u001b[1;31mSystemExit\u001b[0m                                Traceback (most recent call last)",
      "    \u001b[1;31m[... skipping hidden 1 frame]\u001b[0m\n",
      "Cell \u001b[1;32mIn [45], line 1\u001b[0m\n\u001b[1;32m----> 1\u001b[0m setup(ext_modules \u001b[39m=\u001b[39;49m cythonize(\u001b[39m'\u001b[39;49m\u001b[39mfunc.pyx\u001b[39;49m\u001b[39m'\u001b[39;49m))\n",
      "File \u001b[1;32mc:\\Users\\admin\\AppData\\Local\\Programs\\Python\\Python310\\lib\\site-packages\\setuptools\\_distutils\\core.py:166\u001b[0m, in \u001b[0;36msetup\u001b[1;34m(**attrs)\u001b[0m\n\u001b[0;32m    165\u001b[0m \u001b[39mexcept\u001b[39;00m DistutilsArgError \u001b[39mas\u001b[39;00m msg:\n\u001b[1;32m--> 166\u001b[0m     \u001b[39mraise\u001b[39;00m \u001b[39mSystemExit\u001b[39;00m(gen_usage(dist\u001b[39m.\u001b[39mscript_name) \u001b[39m+\u001b[39m \u001b[39m\"\u001b[39m\u001b[39m\\n\u001b[39;00m\u001b[39merror: \u001b[39m\u001b[39m%s\u001b[39;00m\u001b[39m\"\u001b[39m \u001b[39m%\u001b[39m msg)\n\u001b[0;32m    168\u001b[0m \u001b[39mif\u001b[39;00m DEBUG:\n",
      "\u001b[1;31mSystemExit\u001b[0m: usage: ipykernel_launcher.py [global_opts] cmd1 [cmd1_opts] [cmd2 [cmd2_opts] ...]\n   or: ipykernel_launcher.py --help [cmd1 cmd2 ...]\n   or: ipykernel_launcher.py --help-commands\n   or: ipykernel_launcher.py cmd --help\n\nerror: option --ip not recognized",
      "\nDuring handling of the above exception, another exception occurred:\n",
      "\u001b[1;31mAssertionError\u001b[0m                            Traceback (most recent call last)",
      "    \u001b[1;31m[... skipping hidden 1 frame]\u001b[0m\n",
      "File \u001b[1;32m~\\AppData\\Roaming\\Python\\Python310\\site-packages\\IPython\\core\\interactiveshell.py:1987\u001b[0m, in \u001b[0;36mInteractiveShell.showtraceback\u001b[1;34m(self, exc_tuple, filename, tb_offset, exception_only, running_compiled_code)\u001b[0m\n\u001b[0;32m   1984\u001b[0m \u001b[39mif\u001b[39;00m exception_only:\n\u001b[0;32m   1985\u001b[0m     stb \u001b[39m=\u001b[39m [\u001b[39m'\u001b[39m\u001b[39mAn exception has occurred, use \u001b[39m\u001b[39m%\u001b[39m\u001b[39mtb to see \u001b[39m\u001b[39m'\u001b[39m\n\u001b[0;32m   1986\u001b[0m            \u001b[39m'\u001b[39m\u001b[39mthe full traceback.\u001b[39m\u001b[39m\\n\u001b[39;00m\u001b[39m'\u001b[39m]\n\u001b[1;32m-> 1987\u001b[0m     stb\u001b[39m.\u001b[39mextend(\u001b[39mself\u001b[39;49m\u001b[39m.\u001b[39;49mInteractiveTB\u001b[39m.\u001b[39;49mget_exception_only(etype,\n\u001b[0;32m   1988\u001b[0m                                                      value))\n\u001b[0;32m   1989\u001b[0m \u001b[39melse\u001b[39;00m:\n\u001b[0;32m   1990\u001b[0m     \u001b[39mtry\u001b[39;00m:\n\u001b[0;32m   1991\u001b[0m         \u001b[39m# Exception classes can customise their traceback - we\u001b[39;00m\n\u001b[0;32m   1992\u001b[0m         \u001b[39m# use this in IPython.parallel for exceptions occurring\u001b[39;00m\n\u001b[0;32m   1993\u001b[0m         \u001b[39m# in the engines. This should return a list of strings.\u001b[39;00m\n",
      "File \u001b[1;32m~\\AppData\\Roaming\\Python\\Python310\\site-packages\\IPython\\core\\ultratb.py:579\u001b[0m, in \u001b[0;36mListTB.get_exception_only\u001b[1;34m(self, etype, value)\u001b[0m\n\u001b[0;32m    571\u001b[0m \u001b[39mdef\u001b[39;00m \u001b[39mget_exception_only\u001b[39m(\u001b[39mself\u001b[39m, etype, value):\n\u001b[0;32m    572\u001b[0m     \u001b[39m\"\"\"Only print the exception type and message, without a traceback.\u001b[39;00m\n\u001b[0;32m    573\u001b[0m \n\u001b[0;32m    574\u001b[0m \u001b[39m    Parameters\u001b[39;00m\n\u001b[1;32m   (...)\u001b[0m\n\u001b[0;32m    577\u001b[0m \u001b[39m    value : exception value\u001b[39;00m\n\u001b[0;32m    578\u001b[0m \u001b[39m    \"\"\"\u001b[39;00m\n\u001b[1;32m--> 579\u001b[0m     \u001b[39mreturn\u001b[39;00m ListTB\u001b[39m.\u001b[39;49mstructured_traceback(\u001b[39mself\u001b[39;49m, etype, value)\n",
      "File \u001b[1;32m~\\AppData\\Roaming\\Python\\Python310\\site-packages\\IPython\\core\\ultratb.py:446\u001b[0m, in \u001b[0;36mListTB.structured_traceback\u001b[1;34m(self, etype, evalue, etb, tb_offset, context)\u001b[0m\n\u001b[0;32m    443\u001b[0m     chained_exc_ids\u001b[39m.\u001b[39madd(\u001b[39mid\u001b[39m(exception[\u001b[39m1\u001b[39m]))\n\u001b[0;32m    444\u001b[0m     chained_exceptions_tb_offset \u001b[39m=\u001b[39m \u001b[39m0\u001b[39m\n\u001b[0;32m    445\u001b[0m     out_list \u001b[39m=\u001b[39m (\n\u001b[1;32m--> 446\u001b[0m         \u001b[39mself\u001b[39;49m\u001b[39m.\u001b[39;49mstructured_traceback(\n\u001b[0;32m    447\u001b[0m             etype, evalue, (etb, chained_exc_ids),\n\u001b[0;32m    448\u001b[0m             chained_exceptions_tb_offset, context)\n\u001b[0;32m    449\u001b[0m         \u001b[39m+\u001b[39m chained_exception_message\n\u001b[0;32m    450\u001b[0m         \u001b[39m+\u001b[39m out_list)\n\u001b[0;32m    452\u001b[0m \u001b[39mreturn\u001b[39;00m out_list\n",
      "File \u001b[1;32m~\\AppData\\Roaming\\Python\\Python310\\site-packages\\IPython\\core\\ultratb.py:1112\u001b[0m, in \u001b[0;36mAutoFormattedTB.structured_traceback\u001b[1;34m(self, etype, value, tb, tb_offset, number_of_lines_of_context)\u001b[0m\n\u001b[0;32m   1110\u001b[0m \u001b[39melse\u001b[39;00m:\n\u001b[0;32m   1111\u001b[0m     \u001b[39mself\u001b[39m\u001b[39m.\u001b[39mtb \u001b[39m=\u001b[39m tb\n\u001b[1;32m-> 1112\u001b[0m \u001b[39mreturn\u001b[39;00m FormattedTB\u001b[39m.\u001b[39;49mstructured_traceback(\n\u001b[0;32m   1113\u001b[0m     \u001b[39mself\u001b[39;49m, etype, value, tb, tb_offset, number_of_lines_of_context)\n",
      "File \u001b[1;32m~\\AppData\\Roaming\\Python\\Python310\\site-packages\\IPython\\core\\ultratb.py:1006\u001b[0m, in \u001b[0;36mFormattedTB.structured_traceback\u001b[1;34m(self, etype, value, tb, tb_offset, number_of_lines_of_context)\u001b[0m\n\u001b[0;32m   1003\u001b[0m mode \u001b[39m=\u001b[39m \u001b[39mself\u001b[39m\u001b[39m.\u001b[39mmode\n\u001b[0;32m   1004\u001b[0m \u001b[39mif\u001b[39;00m mode \u001b[39min\u001b[39;00m \u001b[39mself\u001b[39m\u001b[39m.\u001b[39mverbose_modes:\n\u001b[0;32m   1005\u001b[0m     \u001b[39m# Verbose modes need a full traceback\u001b[39;00m\n\u001b[1;32m-> 1006\u001b[0m     \u001b[39mreturn\u001b[39;00m VerboseTB\u001b[39m.\u001b[39;49mstructured_traceback(\n\u001b[0;32m   1007\u001b[0m         \u001b[39mself\u001b[39;49m, etype, value, tb, tb_offset, number_of_lines_of_context\n\u001b[0;32m   1008\u001b[0m     )\n\u001b[0;32m   1009\u001b[0m \u001b[39melif\u001b[39;00m mode \u001b[39m==\u001b[39m \u001b[39m'\u001b[39m\u001b[39mMinimal\u001b[39m\u001b[39m'\u001b[39m:\n\u001b[0;32m   1010\u001b[0m     \u001b[39mreturn\u001b[39;00m ListTB\u001b[39m.\u001b[39mget_exception_only(\u001b[39mself\u001b[39m, etype, value)\n",
      "File \u001b[1;32m~\\AppData\\Roaming\\Python\\Python310\\site-packages\\IPython\\core\\ultratb.py:859\u001b[0m, in \u001b[0;36mVerboseTB.structured_traceback\u001b[1;34m(self, etype, evalue, etb, tb_offset, number_of_lines_of_context)\u001b[0m\n\u001b[0;32m    850\u001b[0m \u001b[39mdef\u001b[39;00m \u001b[39mstructured_traceback\u001b[39m(\n\u001b[0;32m    851\u001b[0m     \u001b[39mself\u001b[39m,\n\u001b[0;32m    852\u001b[0m     etype: \u001b[39mtype\u001b[39m,\n\u001b[1;32m   (...)\u001b[0m\n\u001b[0;32m    856\u001b[0m     number_of_lines_of_context: \u001b[39mint\u001b[39m \u001b[39m=\u001b[39m \u001b[39m5\u001b[39m,\n\u001b[0;32m    857\u001b[0m ):\n\u001b[0;32m    858\u001b[0m     \u001b[39m\"\"\"Return a nice text document describing the traceback.\"\"\"\u001b[39;00m\n\u001b[1;32m--> 859\u001b[0m     formatted_exception \u001b[39m=\u001b[39m \u001b[39mself\u001b[39;49m\u001b[39m.\u001b[39;49mformat_exception_as_a_whole(etype, evalue, etb, number_of_lines_of_context,\n\u001b[0;32m    860\u001b[0m                                                            tb_offset)\n\u001b[0;32m    862\u001b[0m     colors \u001b[39m=\u001b[39m \u001b[39mself\u001b[39m\u001b[39m.\u001b[39mColors  \u001b[39m# just a shorthand + quicker name lookup\u001b[39;00m\n\u001b[0;32m    863\u001b[0m     colorsnormal \u001b[39m=\u001b[39m colors\u001b[39m.\u001b[39mNormal  \u001b[39m# used a lot\u001b[39;00m\n",
      "File \u001b[1;32m~\\AppData\\Roaming\\Python\\Python310\\site-packages\\IPython\\core\\ultratb.py:793\u001b[0m, in \u001b[0;36mVerboseTB.format_exception_as_a_whole\u001b[1;34m(self, etype, evalue, etb, number_of_lines_of_context, tb_offset)\u001b[0m\n\u001b[0;32m    790\u001b[0m \u001b[39massert\u001b[39;00m \u001b[39misinstance\u001b[39m(tb_offset, \u001b[39mint\u001b[39m)\n\u001b[0;32m    791\u001b[0m head \u001b[39m=\u001b[39m \u001b[39mself\u001b[39m\u001b[39m.\u001b[39mprepare_header(etype, \u001b[39mself\u001b[39m\u001b[39m.\u001b[39mlong_header)\n\u001b[0;32m    792\u001b[0m records \u001b[39m=\u001b[39m (\n\u001b[1;32m--> 793\u001b[0m     \u001b[39mself\u001b[39;49m\u001b[39m.\u001b[39;49mget_records(etb, number_of_lines_of_context, tb_offset) \u001b[39mif\u001b[39;00m etb \u001b[39melse\u001b[39;00m []\n\u001b[0;32m    794\u001b[0m )\n\u001b[0;32m    796\u001b[0m frames \u001b[39m=\u001b[39m []\n\u001b[0;32m    797\u001b[0m skipped \u001b[39m=\u001b[39m \u001b[39m0\u001b[39m\n",
      "File \u001b[1;32m~\\AppData\\Roaming\\Python\\Python310\\site-packages\\IPython\\core\\ultratb.py:848\u001b[0m, in \u001b[0;36mVerboseTB.get_records\u001b[1;34m(self, etb, number_of_lines_of_context, tb_offset)\u001b[0m\n\u001b[0;32m    842\u001b[0m     formatter \u001b[39m=\u001b[39m \u001b[39mNone\u001b[39;00m\n\u001b[0;32m    843\u001b[0m options \u001b[39m=\u001b[39m stack_data\u001b[39m.\u001b[39mOptions(\n\u001b[0;32m    844\u001b[0m     before\u001b[39m=\u001b[39mbefore,\n\u001b[0;32m    845\u001b[0m     after\u001b[39m=\u001b[39mafter,\n\u001b[0;32m    846\u001b[0m     pygments_formatter\u001b[39m=\u001b[39mformatter,\n\u001b[0;32m    847\u001b[0m )\n\u001b[1;32m--> 848\u001b[0m \u001b[39mreturn\u001b[39;00m \u001b[39mlist\u001b[39;49m(stack_data\u001b[39m.\u001b[39;49mFrameInfo\u001b[39m.\u001b[39;49mstack_data(etb, options\u001b[39m=\u001b[39;49moptions))[tb_offset:]\n",
      "File \u001b[1;32m~\\AppData\\Roaming\\Python\\Python310\\site-packages\\stack_data\\core.py:578\u001b[0m, in \u001b[0;36mFrameInfo.stack_data\u001b[1;34m(cls, frame_or_tb, options, collapse_repeated_frames)\u001b[0m\n\u001b[0;32m    562\u001b[0m \u001b[39m@classmethod\u001b[39m\n\u001b[0;32m    563\u001b[0m \u001b[39mdef\u001b[39;00m \u001b[39mstack_data\u001b[39m(\n\u001b[0;32m    564\u001b[0m         \u001b[39mcls\u001b[39m,\n\u001b[1;32m   (...)\u001b[0m\n\u001b[0;32m    568\u001b[0m         collapse_repeated_frames: \u001b[39mbool\u001b[39m \u001b[39m=\u001b[39m \u001b[39mTrue\u001b[39;00m\n\u001b[0;32m    569\u001b[0m ) \u001b[39m-\u001b[39m\u001b[39m>\u001b[39m Iterator[Union[\u001b[39m'\u001b[39m\u001b[39mFrameInfo\u001b[39m\u001b[39m'\u001b[39m, RepeatedFrames]]:\n\u001b[0;32m    570\u001b[0m     \u001b[39m\"\"\"\u001b[39;00m\n\u001b[0;32m    571\u001b[0m \u001b[39m    An iterator of FrameInfo and RepeatedFrames objects representing\u001b[39;00m\n\u001b[0;32m    572\u001b[0m \u001b[39m    a full traceback or stack. Similar consecutive frames are collapsed into RepeatedFrames\u001b[39;00m\n\u001b[1;32m   (...)\u001b[0m\n\u001b[0;32m    576\u001b[0m \u001b[39m    and optionally an Options object to configure.\u001b[39;00m\n\u001b[0;32m    577\u001b[0m \u001b[39m    \"\"\"\u001b[39;00m\n\u001b[1;32m--> 578\u001b[0m     stack \u001b[39m=\u001b[39m \u001b[39mlist\u001b[39;49m(iter_stack(frame_or_tb))\n\u001b[0;32m    580\u001b[0m     \u001b[39m# Reverse the stack from a frame so that it's in the same order\u001b[39;00m\n\u001b[0;32m    581\u001b[0m     \u001b[39m# as the order from a traceback, which is the order of a printed\u001b[39;00m\n\u001b[0;32m    582\u001b[0m     \u001b[39m# traceback when read top to bottom (most recent call last)\u001b[39;00m\n\u001b[0;32m    583\u001b[0m     \u001b[39mif\u001b[39;00m is_frame(frame_or_tb):\n",
      "File \u001b[1;32m~\\AppData\\Roaming\\Python\\Python310\\site-packages\\stack_data\\utils.py:98\u001b[0m, in \u001b[0;36miter_stack\u001b[1;34m(frame_or_tb)\u001b[0m\n\u001b[0;32m     96\u001b[0m \u001b[39mwhile\u001b[39;00m frame_or_tb:\n\u001b[0;32m     97\u001b[0m     \u001b[39myield\u001b[39;00m frame_or_tb\n\u001b[1;32m---> 98\u001b[0m     \u001b[39mif\u001b[39;00m is_frame(frame_or_tb):\n\u001b[0;32m     99\u001b[0m         frame_or_tb \u001b[39m=\u001b[39m frame_or_tb\u001b[39m.\u001b[39mf_back\n\u001b[0;32m    100\u001b[0m     \u001b[39melse\u001b[39;00m:\n",
      "File \u001b[1;32m~\\AppData\\Roaming\\Python\\Python310\\site-packages\\stack_data\\utils.py:91\u001b[0m, in \u001b[0;36mis_frame\u001b[1;34m(frame_or_tb)\u001b[0m\n\u001b[0;32m     90\u001b[0m \u001b[39mdef\u001b[39;00m \u001b[39mis_frame\u001b[39m(frame_or_tb: Union[FrameType, TracebackType]) \u001b[39m-\u001b[39m\u001b[39m>\u001b[39m \u001b[39mbool\u001b[39m:\n\u001b[1;32m---> 91\u001b[0m     assert_(\u001b[39misinstance\u001b[39;49m(frame_or_tb, (types\u001b[39m.\u001b[39;49mFrameType, types\u001b[39m.\u001b[39;49mTracebackType)))\n\u001b[0;32m     92\u001b[0m     \u001b[39mreturn\u001b[39;00m \u001b[39misinstance\u001b[39m(frame_or_tb, (types\u001b[39m.\u001b[39mFrameType,))\n",
      "File \u001b[1;32m~\\AppData\\Roaming\\Python\\Python310\\site-packages\\stack_data\\utils.py:172\u001b[0m, in \u001b[0;36massert_\u001b[1;34m(condition, error)\u001b[0m\n\u001b[0;32m    170\u001b[0m \u001b[39mif\u001b[39;00m \u001b[39misinstance\u001b[39m(error, \u001b[39mstr\u001b[39m):\n\u001b[0;32m    171\u001b[0m     error \u001b[39m=\u001b[39m \u001b[39mAssertionError\u001b[39;00m(error)\n\u001b[1;32m--> 172\u001b[0m \u001b[39mraise\u001b[39;00m error\n",
      "\u001b[1;31mAssertionError\u001b[0m: "
     ]
    }
   ],
   "source": [
    "setup(ext_modules = cythonize('func.pyx'))"
   ]
  },
  {
   "cell_type": "markdown",
   "metadata": {},
   "source": [
    "Оптимизируйте данную функцию с помощью (2 на выбор):\n",
    "- [Numba](https://numba.pydata.org)\n",
    "- `Cython` (+5 баллов)\n",
    "- [Taichi](https://github.com/taichi-dev/taichi) (+5 баллов)\n",
    "- `Pythran `[[1]](https://pythran.readthedocs.io/en/latest/), [[2]](https://serge-sans-paille.github.io/pythran-stories/pythran-tutorial.html) (+2 балла)\n",
    "\n",
    "Сравните производительность."
   ]
  },
  {
   "cell_type": "markdown",
   "metadata": {},
   "source": []
  }
 ],
 "metadata": {
  "kernelspec": {
   "display_name": "Python 3.10.7 64-bit",
   "language": "python",
   "name": "python3"
  },
  "language_info": {
   "codemirror_mode": {
    "name": "ipython",
    "version": 3
   },
   "file_extension": ".py",
   "mimetype": "text/x-python",
   "name": "python",
   "nbconvert_exporter": "python",
   "pygments_lexer": "ipython3",
   "version": "3.10.7 (tags/v3.10.7:6cc6b13, Sep  5 2022, 14:08:36) [MSC v.1933 64 bit (AMD64)]"
  },
  "orig_nbformat": 4,
  "vscode": {
   "interpreter": {
    "hash": "beedbe2faf2f7048d727558d0bc3221e7eba2a0b921cac4d4771b2feb8f74b30"
   }
  }
 },
 "nbformat": 4,
 "nbformat_minor": 2
}
