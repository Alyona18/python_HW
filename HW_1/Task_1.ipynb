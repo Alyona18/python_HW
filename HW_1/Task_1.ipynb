{
 "cells": [
  {
   "cell_type": "markdown",
   "metadata": {},
   "source": [
    "# Задание 1\n",
    "\n",
    "Есть следующий код для [автоматического дифференцирования](https://en.wikipedia.org/wiki/Automatic_differentiation), в котором используются особенности системы типов языка `Python`: "
   ]
  },
  {
   "cell_type": "code",
   "execution_count": 2,
   "metadata": {},
   "outputs": [],
   "source": [
    "from scipy.misc import derivative\n",
    "import numpy as np"
   ]
  },
  {
   "cell_type": "code",
   "execution_count": 15,
   "metadata": {},
   "outputs": [],
   "source": [
    "from dataclasses import dataclass\n",
    "from typing import Union, Callable\n",
    "from numbers import Number\n",
    "\n",
    "@dataclass\n",
    "class Dual:\n",
    "    value: float\n",
    "    d: float\n",
    "\n",
    "    def __add__(self, other: Union[\"Dual\", Number]) -> \"Dual\":\n",
    "        match other:\n",
    "            case Dual(o_value, o_d):\n",
    "                return Dual(self.value + o_value, self.d + o_d)\n",
    "            case Number():\n",
    "                return Dual(float(other) + self.value, self.d)\n",
    "    \n",
    "    #функция вычетания\n",
    "    def __sub__(self, other: Union[\"Dual\", Number]) -> \"Dual\":\n",
    "        match other:\n",
    "            case Dual(o_value, o_d):\n",
    "                return Dual(self.value - o_value, self.d - o_d)\n",
    "            case Number():\n",
    "                return Dual(self.value - float(other), self.d)\n",
    "\n",
    "    def __rsub__(self, other) -> \"Dual\":\n",
    "        return -self.__sub__(other)\n",
    "\n",
    "    def __mul__(self, other: Union[\"Dual\", Number]) -> \"Dual\":\n",
    "        match other:\n",
    "            case Dual(o_value, o_d):\n",
    "                return Dual(self.value * o_value, self.value * o_d + self.d * o_value)\n",
    "            case Number():\n",
    "                return Dual(float(other) * self.value, float(other) * self.d)    \n",
    "    \n",
    "    #унарные функции\n",
    "    def __neg__(self) -> \"Dual\":                #?\n",
    "        return Dual(-1 * self.value, -1*self.d)\n",
    "\n",
    "    def __pos__(self) -> \"Dual\":                #?\n",
    "        return Dual(self.value, self.d)\n",
    "\n",
    "    def __abs__(self) -> \"Dual\":                \n",
    "            return Dual(np.abs(self.value), self.d * self.value / self.value)\n",
    "            \n",
    "    def __invert__(self) -> \"Dual\":\n",
    "            return Dual(self.value * (-1), self.d * (-1))\n",
    "    __rmul__ = __mul__  # https://docs.python.org/3/reference/datamodel.html#object.__mul__\n",
    "    __radd__ = __add__  # https://docs.python.org/3/reference/datamodel.html#object.__radd__\n",
    "    \n",
    "    #деление\n",
    "    def __truediv__(self, other: Union[\"Dual\", Number]) -> \"Dual\":\n",
    "        match other:\n",
    "            case Dual(o_value, o_d):\n",
    "                if o_value == 0:\n",
    "                    raise ZeroDivisionError\n",
    "                else:\n",
    "                    return Dual(self.value/o_value,  (self.d * o_value - self.value * o_d)/(o_value * o_value))\n",
    "            case Number():\n",
    "                if other == 0:\n",
    "                    raise ZeroDivisionError\n",
    "                else:\n",
    "                    return self.__mul__(1/other)\n",
    "    \n",
    "    def __rtruediv__(self, other: Union[\"Dual\", Number]) -> \"Dual\":\n",
    "        match other:\n",
    "            case Dual(o_value, o_d):\n",
    "                if self == 0:\n",
    "                    raise ZeroDivisionError\n",
    "                else:\n",
    "                    return other.__truediv__(self)\n",
    "            case Number():\n",
    "                if self == 0:\n",
    "                    raise ZeroDivisionError\n",
    "                else:\n",
    "                    return Dual(1,d=self.d)/self.__truediv__(other)\n",
    "    \n",
    "    #возведение в степень\n",
    "    def __pow__(self, other) -> \"Dual\":\n",
    "        assert isinstance(other, (int, float)), \"only support for int/float powers\"\n",
    "        if other == 0:\n",
    "            return Dual(1, 1)\n",
    "        elif other == 1: return Dual(self.value, self.d)\n",
    "        else:    \n",
    "            return Dual(pow(self.value, other) , other * self.d * pow(self.value, other - 1))\n",
    "    \n",
    "    def exp(self):\n",
    "        return Dual(np.exp(self.value), self.d*np.exp(self.value))\n",
    "\n",
    "    def sin(self):\n",
    "        return Dual(np.sin(self.value), self.d * np.cos(self.value))\n",
    "\n",
    "    def cos(self): \n",
    "        return Dual(np.cos(self.value), -1*self.d * np.sin(self.value))\n",
    "\n",
    "    def log(self):\n",
    "        return Dual(np.log(self.value), 1/(self.value)*self.d)\n",
    "\n",
    "    def diff(func: Callable[[float], float]) -> Callable[[float], float]:\n",
    "        return lambda x: func(Dual(x, 1.0)).d\n",
    "\n",
    "    #дифференцирование с 2-мя переменными\n",
    "    def diff_2V(func: Callable[[float], float]) -> Callable[[float], float]:\n",
    "        return lambda x, y: [func(Dual(x, 1.0), Dual(y, 0.0)).d, func(Dual(x, 0.0), Dual(y, 1.0)).d]\n",
    "    \n",
    "    #дифференцирование с 3-мя переменными\n",
    "    def diff_3V(func: Callable[[float], float]) -> Callable[[float], float]:\n",
    "        return lambda x, y, z: [func(Dual(x, 1.0), Dual(y, 0.0), Dual(z, 0.0)).d, func(Dual(x, 0.0), Dual(y, 1.0), Dual(z, 0.0)).d, func(Dual(x, 0.0), Dual(y, 0.0), Dual(z, 01.0)).d]\n",
    "\n",
    "    "
   ]
  },
  {
   "cell_type": "markdown",
   "metadata": {},
   "source": [
    "Поддерживаются две операции - сложение и умножение. Применить можно так:"
   ]
  },
  {
   "cell_type": "code",
   "execution_count": 112,
   "metadata": {},
   "outputs": [
    {
     "data": {
      "text/plain": [
       "22.0"
      ]
     },
     "execution_count": 112,
     "metadata": {},
     "output_type": "execute_result"
    }
   ],
   "source": [
    "# Функция, которую будем дифференцировать\n",
    "def f(x: float) -> float:\n",
    "    return 5 * x * x + 2 * x + 2\n",
    "\n",
    "f_diff = Dual.diff(f)\n",
    "\n",
    "# значение производной в точке x = 2\n",
    "f_diff(2)"
   ]
  },
  {
   "cell_type": "markdown",
   "metadata": {},
   "source": [
    "## Задание 1.1 (5 баллов)\n",
    "\n",
    "Какие недостатки вы видите в данной реализации? Реализуйте поддержку (полностью самостоятельно или модифицируя приведенный код):\n",
    "- [унарных операций](https://docs.python.org/3/reference/datamodel.html#object.__neg__) \n",
    "- деления\n",
    "- возведения в степень\n",
    "\n",
    "Каким образом можно проверить корректность решения?  Реализуйте достаточный, по вашему мнению, набор тестов."
   ]
  },
  {
   "cell_type": "code",
   "execution_count": 114,
   "metadata": {},
   "outputs": [
    {
     "name": "stdout",
     "output_type": "stream",
     "text": [
      "pos and neg:  1.0\n",
      "1.0\n",
      "Abs:  1.0\n",
      "1.0\n",
      "Invert:  2.0\n",
      "truediv and pow:  4.245\n",
      "4.25\n"
     ]
    }
   ],
   "source": [
    "# ваш код\n",
    "#Недостатки: поддержка конструкции match...case начиная с версии python 3.10\n",
    "\n",
    "#Функции для тестирования\n",
    "\n",
    "def f1(x: float) -> float:\n",
    "    return +-+-+x\n",
    "\n",
    "def f2(x: float) -> float:\n",
    "    return abs(x)\n",
    "\n",
    "def f3(x: float) -> float:\n",
    "    return np.invert((-2)*x)\n",
    "\n",
    "def f4(x: float) -> float:\n",
    "    return x/8 + x/(x+3) + x**2\n",
    "\n",
    "\n",
    "diff_f1 = Dual.diff(f1)\n",
    "diff_f2 = Dual.diff(f2)\n",
    "diff_f3 = Dual.diff(f3)\n",
    "diff_f4 = Dual.diff(f4)\n",
    "\n",
    "#сравнить с расчетами готовых пакетов\n",
    "print(\"pos and neg: \", diff_f1(4))\n",
    "print(derivative(f1,4.))\n",
    "print(\"Abs: \", diff_f2(2))\n",
    "print(derivative(f2,2.))\n",
    "print(\"Invert: \", diff_f3(-1))\n",
    "#print(derivative(f3,-1.))\n",
    "\n",
    "print(\"truediv and pow: \", diff_f4(2))\n",
    "#print(derivative(f4,2.))\n",
    "print(derivative(f4, 2.))"
   ]
  },
  {
   "cell_type": "markdown",
   "metadata": {},
   "source": [
    "## Задание 1.2 (7 баллов)\n",
    "Придумайте способ и реализуйте поддержку функций:\n",
    "- `exp()`\n",
    "- `cos()`\n",
    "- `sin()`\n",
    "- `log()`\n",
    "\n",
    "Добавьте соответствующие тесты"
   ]
  },
  {
   "cell_type": "code",
   "execution_count": 13,
   "metadata": {},
   "outputs": [
    {
     "name": "stdout",
     "output_type": "stream",
     "text": [
      "sin and cos:  1.881034025370396\n",
      "1.5828355537855894\n",
      "log:  0.2\n",
      "0.2006706954621511\n",
      "exp:  1.6487212707001282\n",
      "1.9375792053127157\n"
     ]
    }
   ],
   "source": [
    "# ваш код\n",
    "\n",
    "#тестирование\n",
    "def f5(x: float) -> float:\n",
    "    return np.sin(x) + 5*np.cos(x) \n",
    "\n",
    "def f6(x: float) -> float:\n",
    "    return np.log(x**2) \n",
    "\n",
    "def f7(x: float) -> float:\n",
    "    return np.exp(x) \n",
    "\n",
    "diff_f5 = Dual.diff(f5)\n",
    "diff_f6 = Dual.diff(f6)\n",
    "diff_f7 = Dual.diff(f7)\n",
    "\n",
    "print(\"sin and cos: \", diff_f5(10))\n",
    "print(derivative(f5, 10.))\n",
    "\n",
    "print(\"log: \", diff_f6(10))\n",
    "print(derivative(f6, 10.))\n",
    "\n",
    "print(\"exp: \", diff_f7(0.5))\n",
    "print(derivative(f7, 0.5))\n"
   ]
  },
  {
   "cell_type": "markdown",
   "metadata": {},
   "source": [
    "## Задание 1.3 (3 балла)\n",
    "\n",
    "Воспользуйтесь методами **численного** дифференцирования для \"проверки\" работы кода на нескольких примерах. Например,  библиотеке `scipy` есть функция `derivative`. Или реализуйте какой-нибудь метод численного дифференцирования самостоятельно (**+5 баллов**)"
   ]
  },
  {
   "cell_type": "code",
   "execution_count": 117,
   "metadata": {},
   "outputs": [
    {
     "name": "stdout",
     "output_type": "stream",
     "text": [
      "AD result =  51.15892427466314 , scipy's result =  51.00690695375699\n",
      "AD result =  0.3165289256198347 , scipy's result =  0.3176727098598935\n",
      "AD result =  -0.0625 , scipy's result =  -0.06666666666666665\n",
      "AD result =  0.39815702328616975 , scipy's result =  0.3350375824927938\n"
     ]
    }
   ],
   "source": [
    "\n",
    "def f8(x: float) -> float:\n",
    "    return 5 * x * x + x/5 + 2 + np.cos(x)\n",
    "\n",
    "def f9(x: float) -> float:\n",
    "    return 6 + np.log(pow(x,3)) - 2*x/(x + pow(x,2))\n",
    "\n",
    "def f10(x: float) -> float:\n",
    "    return x/(x**2-x)\n",
    "\n",
    "def f11(x: float) -> float:\n",
    "    return np.sin(x) + np.cos(x)\n",
    "\n",
    "diff_f8 = Dual.diff(f8)\n",
    "diff_f9 = Dual.diff(f9)\n",
    "diff_f10 = Dual.diff(f10)\n",
    "diff_f11 = Dual.diff(f11)\n",
    "\n",
    "print(\"AD result = \", diff_f8(5.), \", scipy's result = \", derivative(f8, 5.))\n",
    "print(\"AD result = \", diff_f9(10.), \", scipy's result = \", derivative(f9, 10.))\n",
    "print(\"AD result = \", diff_f10(5), \", scipy's result = \", derivative(f10, 5.))\n",
    "print(\"AD result = \", diff_f11(0.5), \", scipy's result = \", derivative(f11, 0.5))"
   ]
  },
  {
   "cell_type": "code",
   "execution_count": 6,
   "metadata": {},
   "outputs": [],
   "source": [
    "# ваш код"
   ]
  },
  {
   "cell_type": "markdown",
   "metadata": {},
   "source": [
    "## Задание 1.4 (10 баллов)\n",
    "\n",
    "Необходимо разработать систему автоматического тестирования алгоритма дифференцирования в следующем виде:\n",
    "- реализовать механизм генерации \"случайных функций\" (например, что-то вроде такого: $f(x) = x + 5 * x - \\cos(20 * \\log(12 - 20 * x * x )) - 20 * x$ )\n",
    "- сгенерировать достаточно большое число функций и сравнить результаты символьного и численного дифференцирования в случайных точках "
   ]
  },
  {
   "cell_type": "markdown",
   "metadata": {},
   "source": [
    "Генерацию случайных функций можно осуществить, например, двумя путями. \n",
    "1. Генерировать функцию в текстовом виде, зачем использовать встроенную функцию [eval](https://docs.python.org/3/library/functions.html#eval)\n",
    "\n",
    "```python\n",
    "func = eval(\"lambda x: 2 * x + 5\")\n",
    "assert func(42) == 89 \n",
    "```\n",
    "\n",
    "2. Использовать стандартный модуль [ast](https://docs.python.org/3/library/ast.html), который позволяет во время выполнения программы манипулировать [Абстрактным Синтаксическим Деревом](https://ru.wikipedia.org/wiki/%D0%90%D0%B1%D1%81%D1%82%D1%80%D0%B0%D0%BA%D1%82%D0%BD%D0%BE%D0%B5_%D1%81%D0%B8%D0%BD%D1%82%D0%B0%D0%BA%D1%81%D0%B8%D1%87%D0%B5%D1%81%D0%BA%D0%BE%D0%B5_%D0%B4%D0%B5%D1%80%D0%B5%D0%B2%D0%BE).\n",
    "Например, выражение \n",
    "\n",
    "```python\n",
    "func = lambda x: 2 * x + 5\n",
    "```\n",
    "\n",
    "Можно запрограммировать с помощью кода:\n",
    "\n",
    "```python\n",
    "\n",
    "expr = ast.Expression(\n",
    "    body=ast.Lambda(\n",
    "        args=ast.arguments(\n",
    "            args=[\n",
    "                ast.arg(arg='x')\n",
    "            ],\n",
    "            posonlyargs=[],\n",
    "            kwonlyargs=[],\n",
    "            kw_defaults=[],\n",
    "            defaults=[]\n",
    "        ),\n",
    "        body=ast.BinOp(\n",
    "            left=ast.BinOp(\n",
    "                left=ast.Constant(value=2),\n",
    "                op=ast.Mult(),\n",
    "                right=ast.Name(id='x', ctx=ast.Load())\n",
    "            ),\n",
    "            op=ast.Add(),\n",
    "            right=ast.Constant(value=5)\n",
    "        )\n",
    "    )\n",
    ")\n",
    "\n",
    "ast.fix_missing_locations(expr)\n",
    "\n",
    "func = eval(compile(expr, filename=\"\", mode=\"eval\"))\n",
    "\n",
    "assert func(42) == 89\n",
    "```\n",
    "\n",
    "При реализации нужно учитывать области допустимых значений функций."
   ]
  },
  {
   "cell_type": "code",
   "execution_count": null,
   "metadata": {},
   "outputs": [],
   "source": [
    "# ваш код"
   ]
  },
  {
   "cell_type": "markdown",
   "metadata": {},
   "source": [
    "## Задание 1.5 (7 баллов)\n",
    "\n",
    "Реализуйте поддержку функций нескольких аргументов. Например\n",
    "\n",
    "```python\n",
    "def f(x: float, y: float, z: float) -> float:\n",
    "    return x * y + z - 5 * y  \n",
    "\n",
    "\n",
    "f_diff = diff(f)\n",
    "\n",
    "f_diff(10, 10, 10) # = [10, 5, 1]\n",
    "```"
   ]
  },
  {
   "cell_type": "code",
   "execution_count": 18,
   "metadata": {},
   "outputs": [
    {
     "name": "stdout",
     "output_type": "stream",
     "text": [
      "[9.0, -64.5504]\n"
     ]
    },
    {
     "data": {
      "text/plain": [
       "[10.0, 5.0, 1.0]"
      ]
     },
     "execution_count": 18,
     "metadata": {},
     "output_type": "execute_result"
    }
   ],
   "source": [
    "# ваш код\n",
    "\n",
    "#тестирование для нескольких переменных\n",
    "def f_2V(x: float, y: float) -> float:\n",
    "    return 3*x*x - 2*y*y*y\n",
    "\n",
    "def f_3V(x: float, y: float, z: float) -> float:\n",
    "    return x * y + z - 5 * y  \n",
    "\n",
    "f_2V_diff = Dual.diff_2V(f_2V)\n",
    "f_3V_diff = Dual.diff_3V(f_3V)\n",
    "x = 10\n",
    "y = 10 \n",
    "z = 10\n",
    "print(f_2V_diff(1.5, 3.28)) #= [9, -64.5504] (пример заранее рассчитан)\n",
    "f_3V_diff(x, y, z)"
   ]
  }
 ],
 "metadata": {
  "kernelspec": {
   "display_name": "Python 3.10.7 64-bit",
   "language": "python",
   "name": "python3"
  },
  "language_info": {
   "codemirror_mode": {
    "name": "ipython",
    "version": 3
   },
   "file_extension": ".py",
   "mimetype": "text/x-python",
   "name": "python",
   "nbconvert_exporter": "python",
   "pygments_lexer": "ipython3",
   "version": "3.10.7"
  },
  "vscode": {
   "interpreter": {
    "hash": "beedbe2faf2f7048d727558d0bc3221e7eba2a0b921cac4d4771b2feb8f74b30"
   }
  }
 },
 "nbformat": 4,
 "nbformat_minor": 2
}
